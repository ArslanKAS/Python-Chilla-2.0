{
  "nbformat": 4,
  "nbformat_minor": 0,
  "metadata": {
    "colab": {
      "provenance": []
    },
    "kernelspec": {
      "name": "python3",
      "display_name": "Python 3"
    },
    "language_info": {
      "name": "python"
    },
    "accelerator": "GPU",
    "gpuClass": "standard"
  },
  "cells": [
    {
      "cell_type": "markdown",
      "source": [
        "# **Hyperparameter Tuning:** Advanced"
      ],
      "metadata": {
        "id": "PJsC34gGnjU4"
      }
    },
    {
      "cell_type": "markdown",
      "source": [
        "### **Top HPT Techniques:**\n",
        "| Technique | Library |\n",
        "------------|----------\n",
        "| GridSearchCV | Scikit-Learn |\n",
        "| RandomSearchCV | Scikit-Learn |\n",
        "| HalvingGridSearchCV | Scikit-Learn |\n",
        "| HalvingRandomSearchCV | Scikit-Learn |\n",
        "| Bayesian Optimization | bayes_opt |\n",
        "| Bayesian Optimization | HyperOPT |\n",
        "| Bayesian Optimization | Scikit-Optimize |\n",
        "| Automate Hyperparameter Tuning | Optuna |\n",
        "| Automate Hyperparameter Tuning | FLAML |\n",
        "| Genetic Algorithms | TPOT |"
      ],
      "metadata": {
        "id": "nlCvB6linug9"
      }
    },
    {
      "cell_type": "markdown",
      "source": [
        "## Importing Generic Libraries"
      ],
      "metadata": {
        "id": "3L0rTQnBpHka"
      }
    },
    {
      "cell_type": "code",
      "execution_count": 1,
      "metadata": {
        "id": "oIgaXgM3ncrd"
      },
      "outputs": [],
      "source": [
        "import numpy as np\n",
        "import pandas as pd\n",
        "import seaborn as sns\n",
        "\n",
        "from sklearn.neighbors import KNeighborsClassifier"
      ]
    },
    {
      "cell_type": "markdown",
      "source": [
        "## Dataset that'll be used throughout is \" **Iris** \""
      ],
      "metadata": {
        "id": "f-77qPDko8PQ"
      }
    },
    {
      "cell_type": "code",
      "source": [
        "df = sns.load_dataset(\"iris\")\n",
        "df.head()"
      ],
      "metadata": {
        "colab": {
          "base_uri": "https://localhost:8080/",
          "height": 206
        },
        "id": "JQXUeXVwpMR5",
        "outputId": "45902b48-712e-48cd-c0cb-b3e5c974f9f0"
      },
      "execution_count": 2,
      "outputs": [
        {
          "output_type": "execute_result",
          "data": {
            "text/plain": [
              "   sepal_length  sepal_width  petal_length  petal_width species\n",
              "0           5.1          3.5           1.4          0.2  setosa\n",
              "1           4.9          3.0           1.4          0.2  setosa\n",
              "2           4.7          3.2           1.3          0.2  setosa\n",
              "3           4.6          3.1           1.5          0.2  setosa\n",
              "4           5.0          3.6           1.4          0.2  setosa"
            ],
            "text/html": [
              "\n",
              "  <div id=\"df-ca4058c4-5343-43c3-a57c-b111cc94134e\">\n",
              "    <div class=\"colab-df-container\">\n",
              "      <div>\n",
              "<style scoped>\n",
              "    .dataframe tbody tr th:only-of-type {\n",
              "        vertical-align: middle;\n",
              "    }\n",
              "\n",
              "    .dataframe tbody tr th {\n",
              "        vertical-align: top;\n",
              "    }\n",
              "\n",
              "    .dataframe thead th {\n",
              "        text-align: right;\n",
              "    }\n",
              "</style>\n",
              "<table border=\"1\" class=\"dataframe\">\n",
              "  <thead>\n",
              "    <tr style=\"text-align: right;\">\n",
              "      <th></th>\n",
              "      <th>sepal_length</th>\n",
              "      <th>sepal_width</th>\n",
              "      <th>petal_length</th>\n",
              "      <th>petal_width</th>\n",
              "      <th>species</th>\n",
              "    </tr>\n",
              "  </thead>\n",
              "  <tbody>\n",
              "    <tr>\n",
              "      <th>0</th>\n",
              "      <td>5.1</td>\n",
              "      <td>3.5</td>\n",
              "      <td>1.4</td>\n",
              "      <td>0.2</td>\n",
              "      <td>setosa</td>\n",
              "    </tr>\n",
              "    <tr>\n",
              "      <th>1</th>\n",
              "      <td>4.9</td>\n",
              "      <td>3.0</td>\n",
              "      <td>1.4</td>\n",
              "      <td>0.2</td>\n",
              "      <td>setosa</td>\n",
              "    </tr>\n",
              "    <tr>\n",
              "      <th>2</th>\n",
              "      <td>4.7</td>\n",
              "      <td>3.2</td>\n",
              "      <td>1.3</td>\n",
              "      <td>0.2</td>\n",
              "      <td>setosa</td>\n",
              "    </tr>\n",
              "    <tr>\n",
              "      <th>3</th>\n",
              "      <td>4.6</td>\n",
              "      <td>3.1</td>\n",
              "      <td>1.5</td>\n",
              "      <td>0.2</td>\n",
              "      <td>setosa</td>\n",
              "    </tr>\n",
              "    <tr>\n",
              "      <th>4</th>\n",
              "      <td>5.0</td>\n",
              "      <td>3.6</td>\n",
              "      <td>1.4</td>\n",
              "      <td>0.2</td>\n",
              "      <td>setosa</td>\n",
              "    </tr>\n",
              "  </tbody>\n",
              "</table>\n",
              "</div>\n",
              "      <button class=\"colab-df-convert\" onclick=\"convertToInteractive('df-ca4058c4-5343-43c3-a57c-b111cc94134e')\"\n",
              "              title=\"Convert this dataframe to an interactive table.\"\n",
              "              style=\"display:none;\">\n",
              "        \n",
              "  <svg xmlns=\"http://www.w3.org/2000/svg\" height=\"24px\"viewBox=\"0 0 24 24\"\n",
              "       width=\"24px\">\n",
              "    <path d=\"M0 0h24v24H0V0z\" fill=\"none\"/>\n",
              "    <path d=\"M18.56 5.44l.94 2.06.94-2.06 2.06-.94-2.06-.94-.94-2.06-.94 2.06-2.06.94zm-11 1L8.5 8.5l.94-2.06 2.06-.94-2.06-.94L8.5 2.5l-.94 2.06-2.06.94zm10 10l.94 2.06.94-2.06 2.06-.94-2.06-.94-.94-2.06-.94 2.06-2.06.94z\"/><path d=\"M17.41 7.96l-1.37-1.37c-.4-.4-.92-.59-1.43-.59-.52 0-1.04.2-1.43.59L10.3 9.45l-7.72 7.72c-.78.78-.78 2.05 0 2.83L4 21.41c.39.39.9.59 1.41.59.51 0 1.02-.2 1.41-.59l7.78-7.78 2.81-2.81c.8-.78.8-2.07 0-2.86zM5.41 20L4 18.59l7.72-7.72 1.47 1.35L5.41 20z\"/>\n",
              "  </svg>\n",
              "      </button>\n",
              "      \n",
              "  <style>\n",
              "    .colab-df-container {\n",
              "      display:flex;\n",
              "      flex-wrap:wrap;\n",
              "      gap: 12px;\n",
              "    }\n",
              "\n",
              "    .colab-df-convert {\n",
              "      background-color: #E8F0FE;\n",
              "      border: none;\n",
              "      border-radius: 50%;\n",
              "      cursor: pointer;\n",
              "      display: none;\n",
              "      fill: #1967D2;\n",
              "      height: 32px;\n",
              "      padding: 0 0 0 0;\n",
              "      width: 32px;\n",
              "    }\n",
              "\n",
              "    .colab-df-convert:hover {\n",
              "      background-color: #E2EBFA;\n",
              "      box-shadow: 0px 1px 2px rgba(60, 64, 67, 0.3), 0px 1px 3px 1px rgba(60, 64, 67, 0.15);\n",
              "      fill: #174EA6;\n",
              "    }\n",
              "\n",
              "    [theme=dark] .colab-df-convert {\n",
              "      background-color: #3B4455;\n",
              "      fill: #D2E3FC;\n",
              "    }\n",
              "\n",
              "    [theme=dark] .colab-df-convert:hover {\n",
              "      background-color: #434B5C;\n",
              "      box-shadow: 0px 1px 3px 1px rgba(0, 0, 0, 0.15);\n",
              "      filter: drop-shadow(0px 1px 2px rgba(0, 0, 0, 0.3));\n",
              "      fill: #FFFFFF;\n",
              "    }\n",
              "  </style>\n",
              "\n",
              "      <script>\n",
              "        const buttonEl =\n",
              "          document.querySelector('#df-ca4058c4-5343-43c3-a57c-b111cc94134e button.colab-df-convert');\n",
              "        buttonEl.style.display =\n",
              "          google.colab.kernel.accessAllowed ? 'block' : 'none';\n",
              "\n",
              "        async function convertToInteractive(key) {\n",
              "          const element = document.querySelector('#df-ca4058c4-5343-43c3-a57c-b111cc94134e');\n",
              "          const dataTable =\n",
              "            await google.colab.kernel.invokeFunction('convertToInteractive',\n",
              "                                                     [key], {});\n",
              "          if (!dataTable) return;\n",
              "\n",
              "          const docLinkHtml = 'Like what you see? Visit the ' +\n",
              "            '<a target=\"_blank\" href=https://colab.research.google.com/notebooks/data_table.ipynb>data table notebook</a>'\n",
              "            + ' to learn more about interactive tables.';\n",
              "          element.innerHTML = '';\n",
              "          dataTable['output_type'] = 'display_data';\n",
              "          await google.colab.output.renderOutput(dataTable, element);\n",
              "          const docLink = document.createElement('div');\n",
              "          docLink.innerHTML = docLinkHtml;\n",
              "          element.appendChild(docLink);\n",
              "        }\n",
              "      </script>\n",
              "    </div>\n",
              "  </div>\n",
              "  "
            ]
          },
          "metadata": {},
          "execution_count": 2
        }
      ]
    },
    {
      "cell_type": "code",
      "source": [
        "X = df.iloc[:, :2]\n",
        "y = df.iloc[:, -1]"
      ],
      "metadata": {
        "id": "rm1Ksbp8pSiK"
      },
      "execution_count": 3,
      "outputs": []
    },
    {
      "cell_type": "markdown",
      "source": [
        "## Model Evaluation using Cross Validation"
      ],
      "metadata": {
        "id": "Ig3EelX-pY2R"
      }
    },
    {
      "cell_type": "code",
      "source": [
        "from sklearn.model_selection import cross_val_score\n",
        "KNN = KNeighborsClassifier()\n",
        "cv = cross_val_score(KNN, X, y, cv=10, scoring=\"accuracy\")\n",
        "np.mean(cv)"
      ],
      "metadata": {
        "colab": {
          "base_uri": "https://localhost:8080/"
        },
        "id": "o6fwg5DgpZcM",
        "outputId": "3a671938-4337-4684-cbe2-d95687fca1e9"
      },
      "execution_count": 4,
      "outputs": [
        {
          "output_type": "execute_result",
          "data": {
            "text/plain": [
              "0.76"
            ]
          },
          "metadata": {},
          "execution_count": 4
        }
      ]
    },
    {
      "cell_type": "markdown",
      "source": [
        "---\n",
        "## **Model Hyperparameters**: KNN"
      ],
      "metadata": {
        "id": "gE42ZHfbpkLb"
      }
    },
    {
      "cell_type": "code",
      "source": [
        "# Parameters for KNN Classifier\n",
        "para_dict = {\n",
        "    \"n_neighbors\": [3,5,10,15],\n",
        "    \"weights\": [\"uniform\", \"distance\"],\n",
        "    \"algorithm\": [\"ball_tree\", \"kd_tree\", \"brute\"],\n",
        "    \"leaf_size\": [20,30,40,50]\n",
        "}\n",
        "\n",
        "print(para_dict)"
      ],
      "metadata": {
        "colab": {
          "base_uri": "https://localhost:8080/"
        },
        "id": "c0vWjQstpjof",
        "outputId": "b48e8fba-a47b-4d52-dc0b-ff1a024f2ee2"
      },
      "execution_count": 5,
      "outputs": [
        {
          "output_type": "stream",
          "name": "stdout",
          "text": [
            "{'n_neighbors': [3, 5, 10, 15], 'weights': ['uniform', 'distance'], 'algorithm': ['ball_tree', 'kd_tree', 'brute'], 'leaf_size': [20, 30, 40, 50]}\n"
          ]
        }
      ]
    },
    {
      "cell_type": "markdown",
      "source": [
        "---\n",
        "## Model Tuning using **GridSearchCV**"
      ],
      "metadata": {
        "id": "S-tUPg2-pwEC"
      }
    },
    {
      "cell_type": "code",
      "source": [
        "from sklearn.model_selection import GridSearchCV\n",
        "\n",
        "KNN = KNeighborsClassifier()\n",
        "KNN_grid = GridSearchCV(estimator = KNN, \n",
        "                       param_grid = para_dict, \n",
        "                       cv = 5, \n",
        "                    #    verbose=2, \n",
        "                       n_jobs = -1)\n",
        "\n",
        "KNN_grid.fit(X,y)\n",
        "\n",
        "print(f\"BEST PARAMETERS ARE: \\n{KNN_grid.best_params_}\")\n",
        "print(f\"\\nBEST SCORE IS: {KNN_grid.best_score_}\")"
      ],
      "metadata": {
        "colab": {
          "base_uri": "https://localhost:8080/"
        },
        "id": "tC9bRkVupwg9",
        "outputId": "5a5fd006-9b9a-4d1b-ba03-6b674aee188c"
      },
      "execution_count": null,
      "outputs": [
        {
          "output_type": "stream",
          "name": "stdout",
          "text": [
            "BEST PARAMETERS ARE: \n",
            "{'algorithm': 'ball_tree', 'leaf_size': 20, 'n_neighbors': 15, 'weights': 'uniform'}\n",
            "\n",
            "BEST SCORE IS: 0.7933333333333333\n"
          ]
        }
      ]
    },
    {
      "cell_type": "markdown",
      "source": [
        "---\n",
        "## Model Tuning using **RandomSearchCV**"
      ],
      "metadata": {
        "id": "j5rnlDR1p0_W"
      }
    },
    {
      "cell_type": "code",
      "source": [
        "from sklearn.model_selection import RandomizedSearchCV\n",
        "\n",
        "KNN = KNeighborsClassifier()\n",
        "KNN_grid = RandomizedSearchCV(estimator = KNN, \n",
        "                       param_distributions = para_dict, \n",
        "                       cv = 5, \n",
        "                    #    verbose=2, \n",
        "                       n_jobs = -1)\n",
        "\n",
        "KNN_grid.fit(X,y)\n",
        "\n",
        "print(f\"BEST PARAMETERS ARE: \\n{KNN_grid.best_params_}\")\n",
        "print(f\"\\nBEST SCORE IS: {KNN_grid.best_score_}\")"
      ],
      "metadata": {
        "colab": {
          "base_uri": "https://localhost:8080/"
        },
        "id": "57OUM2Wjp7ec",
        "outputId": "dd314267-caf0-42d9-984a-982a999d48d6"
      },
      "execution_count": null,
      "outputs": [
        {
          "output_type": "stream",
          "name": "stdout",
          "text": [
            "BEST PARAMETERS ARE: \n",
            "{'weights': 'uniform', 'n_neighbors': 10, 'leaf_size': 40, 'algorithm': 'brute'}\n",
            "\n",
            "BEST SCORE IS: 0.78\n"
          ]
        }
      ]
    },
    {
      "cell_type": "markdown",
      "source": [
        "---\n",
        "## Model Tuning using **Halving GridSearchCV**\n",
        "Halving Techniques are experimental so in order to enable them we should use<br>\n",
        "`from sklearn.experimental import enable_halving_search_cv`"
      ],
      "metadata": {
        "id": "hFTTwGBQqCmS"
      }
    },
    {
      "cell_type": "code",
      "source": [
        "from sklearn.experimental import enable_halving_search_cv\n",
        "from sklearn.model_selection import HalvingGridSearchCV\n",
        "\n",
        "KNN = KNeighborsClassifier()\n",
        "KNN_grid = HalvingGridSearchCV(estimator = KNN, \n",
        "                                param_grid = para_dict, \n",
        "                                cv = 5, \n",
        "                                #    verbose=2, \n",
        "                                n_jobs = -1)\n",
        "\n",
        "KNN_grid.fit(X,y)\n",
        "\n",
        "print(f\"BEST PARAMETERS ARE: \\n{KNN_grid.best_params_}\")\n",
        "print(f\"\\nBEST SCORE IS: {KNN_grid.best_score_}\")"
      ],
      "metadata": {
        "colab": {
          "base_uri": "https://localhost:8080/"
        },
        "id": "N4N2BRUep9ld",
        "outputId": "cdbe5d30-4490-4a03-f08e-ba75af9c1d24"
      },
      "execution_count": null,
      "outputs": [
        {
          "output_type": "stream",
          "name": "stdout",
          "text": [
            "BEST PARAMETERS ARE: \n",
            "{'algorithm': 'ball_tree', 'leaf_size': 20, 'n_neighbors': 15, 'weights': 'uniform'}\n",
            "\n",
            "BEST SCORE IS: 0.7888888888888889\n"
          ]
        }
      ]
    },
    {
      "cell_type": "markdown",
      "source": [
        "---\n",
        "## Model Tuning using **Halving RandomSearchCV**\n",
        "Halving Techniques are experimental so in order to enable them we should use<br>\n",
        "`from sklearn.experimental import enable_halving_search_cv`"
      ],
      "metadata": {
        "id": "Yto-Au0pqfcS"
      }
    },
    {
      "cell_type": "code",
      "source": [
        "from sklearn.experimental import enable_halving_search_cv\n",
        "from sklearn.model_selection import HalvingRandomSearchCV\n",
        "\n",
        "KNN = KNeighborsClassifier()\n",
        "KNN_grid = HalvingRandomSearchCV(estimator = KNN, \n",
        "                       param_distributions = para_dict, \n",
        "                       cv = 5, \n",
        "                    #    verbose=2, \n",
        "                       n_jobs = -1)\n",
        "\n",
        "KNN_grid.fit(X,y)\n",
        "\n",
        "print(f\"BEST PARAMETERS ARE: \\n{KNN_grid.best_params_}\")\n",
        "print(f\"\\nBEST SCORE IS: {KNN_grid.best_score_}\")"
      ],
      "metadata": {
        "colab": {
          "base_uri": "https://localhost:8080/"
        },
        "id": "OWKgQiTdqX0I",
        "outputId": "f76305ce-0409-4474-90f4-27156400ed67"
      },
      "execution_count": null,
      "outputs": [
        {
          "output_type": "stream",
          "name": "stdout",
          "text": [
            "BEST PARAMETERS ARE: \n",
            "{'weights': 'distance', 'n_neighbors': 15, 'leaf_size': 40, 'algorithm': 'kd_tree'}\n",
            "\n",
            "BEST SCORE IS: 0.8222222222222222\n"
          ]
        }
      ]
    },
    {
      "cell_type": "markdown",
      "source": [
        "---\n",
        "## Model Tuning using **bayes_opt** (Bayesian Optimization)\n",
        "Bayesian Optimization evaluates the past model information to select hyperparameter values to build the newer model.<br>\n",
        "To install it use<br>\n",
        "`$ pip install bayesian-optimization`\n",
        "### In order to use it you must have:\n",
        "- **Parameters:** A dictionary where each parameter is defined\n",
        "- **Black-Box:** A function that binds the algorithm with the parameters"
      ],
      "metadata": {
        "id": "lmfitrpE2PrA"
      }
    },
    {
      "cell_type": "code",
      "source": [
        "# Parameters for KNN Classifier. Unable to make it work for non-integer parameters\n",
        "parameters = {\n",
        "    \"n_neighbors\": [10,15],\n",
        "    # \"weights\": [\"uniform\", \"distance\"],\n",
        "    # \"algorithm\": [\"ball_tree\", \"kd_tree\", \"brute\"],\n",
        "    \"leaf_size\": [40,50]\n",
        "}\n",
        "\n",
        "print(parameters)"
      ],
      "metadata": {
        "colab": {
          "base_uri": "https://localhost:8080/"
        },
        "id": "Mjfq8zklCQpr",
        "outputId": "23d9714c-76e7-495f-921f-e19e666c6fa6"
      },
      "execution_count": null,
      "outputs": [
        {
          "output_type": "stream",
          "name": "stdout",
          "text": [
            "{'n_neighbors': [10, 15], 'leaf_size': [40, 50]}\n"
          ]
        }
      ]
    },
    {
      "cell_type": "code",
      "source": [
        "def black_box(n_neighbors, leaf_size):\n",
        "  para = {}\n",
        "  parameters['n_neighbors'] = round(n_neighbors)\n",
        "  parameters['leaf_size'] = round(leaf_size)\n",
        "\n",
        "  score = cross_val_score(KNeighborsClassifier(**para), \n",
        "                          X, y, cv=5, scoring=\"accuracy\").mean()\n",
        "\n",
        "  return score"
      ],
      "metadata": {
        "id": "goJUlGvD5xNB"
      },
      "execution_count": null,
      "outputs": []
    },
    {
      "cell_type": "code",
      "source": [
        "from bayes_opt import BayesianOptimization\n",
        "\n",
        "KNN_bo = BayesianOptimization(black_box, parameters, random_state=42)\n",
        "KNN_bo.maximize(init_points = 10, n_iter = 4)\n",
        "\n",
        "print(f\"BEST PARAMETERS ARE: \\n{KNN_bo.max['params']}\")\n",
        "print(f\"\\n BEST SCORE IS: {KNN_bo.max['target'] }\")"
      ],
      "metadata": {
        "colab": {
          "base_uri": "https://localhost:8080/"
        },
        "id": "xpa1NXy05sBV",
        "outputId": "e7f72a60-7e20-4c0b-ddcb-cd38b977b66a"
      },
      "execution_count": null,
      "outputs": [
        {
          "output_type": "stream",
          "name": "stdout",
          "text": [
            "|   iter    |  target   | leaf_size | n_neig... |\n",
            "-------------------------------------------------\n",
            "| \u001b[0m1        \u001b[0m | \u001b[0m0.7667   \u001b[0m | \u001b[0m43.75    \u001b[0m | \u001b[0m14.75    \u001b[0m |\n",
            "| \u001b[0m2        \u001b[0m | \u001b[0m0.7667   \u001b[0m | \u001b[0m47.32    \u001b[0m | \u001b[0m12.99    \u001b[0m |\n",
            "| \u001b[0m3        \u001b[0m | \u001b[0m0.7667   \u001b[0m | \u001b[0m41.56    \u001b[0m | \u001b[0m10.78    \u001b[0m |\n",
            "| \u001b[0m4        \u001b[0m | \u001b[0m0.7667   \u001b[0m | \u001b[0m40.58    \u001b[0m | \u001b[0m14.33    \u001b[0m |\n",
            "| \u001b[0m5        \u001b[0m | \u001b[0m0.7667   \u001b[0m | \u001b[0m46.01    \u001b[0m | \u001b[0m13.54    \u001b[0m |\n",
            "| \u001b[0m6        \u001b[0m | \u001b[0m0.7667   \u001b[0m | \u001b[0m40.21    \u001b[0m | \u001b[0m14.85    \u001b[0m |\n",
            "| \u001b[0m7        \u001b[0m | \u001b[0m0.7667   \u001b[0m | \u001b[0m48.32    \u001b[0m | \u001b[0m11.06    \u001b[0m |\n",
            "| \u001b[0m8        \u001b[0m | \u001b[0m0.7667   \u001b[0m | \u001b[0m41.82    \u001b[0m | \u001b[0m10.92    \u001b[0m |\n",
            "| \u001b[0m9        \u001b[0m | \u001b[0m0.7667   \u001b[0m | \u001b[0m43.04    \u001b[0m | \u001b[0m12.62    \u001b[0m |\n",
            "| \u001b[0m10       \u001b[0m | \u001b[0m0.7667   \u001b[0m | \u001b[0m44.32    \u001b[0m | \u001b[0m11.46    \u001b[0m |\n",
            "| \u001b[0m11       \u001b[0m | \u001b[0m0.7667   \u001b[0m | \u001b[0m49.98    \u001b[0m | \u001b[0m10.02    \u001b[0m |\n",
            "| \u001b[0m12       \u001b[0m | \u001b[0m0.7667   \u001b[0m | \u001b[0m48.28    \u001b[0m | \u001b[0m11.5     \u001b[0m |\n",
            "| \u001b[0m13       \u001b[0m | \u001b[0m0.7667   \u001b[0m | \u001b[0m49.96    \u001b[0m | \u001b[0m14.95    \u001b[0m |\n",
            "| \u001b[0m14       \u001b[0m | \u001b[0m0.7667   \u001b[0m | \u001b[0m40.06    \u001b[0m | \u001b[0m12.32    \u001b[0m |\n",
            "=================================================\n",
            "BEST PARAMETERS ARE: \n",
            "{'leaf_size': 43.74540118847362, 'n_neighbors': 14.75357153204958}\n",
            "\n",
            " BEST SCORE IS: 0.7666666666666666\n"
          ]
        }
      ]
    },
    {
      "cell_type": "markdown",
      "source": [
        "---\n",
        "## Model Tuning using **HyperOPT** (Bayesian Optimization)\n",
        "To install it use<br>\n",
        "`pip install hyperopt`\n",
        "### In order to use it you must have:\n",
        "- **Space:** A dictionary where each parameter is defined by HyperOPT standards\n",
        "- **Objective:** A function that binds the algorithm with the space\n",
        "- **Trial:** A method that'll be used in `fmin` to test our the algorithm\n",
        "- **fmin:** A function that'll try to minimize the loss value"
      ],
      "metadata": {
        "id": "6IA02xYBrDU-"
      }
    },
    {
      "cell_type": "code",
      "source": [
        "from hyperopt import hp,fmin,tpe,STATUS_OK,Trials"
      ],
      "metadata": {
        "id": "GWt_khbErDve"
      },
      "execution_count": null,
      "outputs": []
    },
    {
      "cell_type": "code",
      "source": [
        "space = {'n_neighbors': hp.choice('n_neighbors', [3,5,10,15]),\n",
        "        'weights': hp.choice('weights', [\"uniform\", \"distance\"]),\n",
        "        'algorithm': hp.choice('algorithm', [\"ball_tree\", \"kd_tree\", \"brute\"]),\n",
        "        'leaf_size': hp.choice('leaf_size', [20,30,40,50])\n",
        "        }"
      ],
      "metadata": {
        "id": "8ngJfrH5trfK"
      },
      "execution_count": null,
      "outputs": []
    },
    {
      "cell_type": "code",
      "source": [
        "def objective(space):\n",
        "  model = KNeighborsClassifier(n_neighbors = space['n_neighbors'],\n",
        "                               weights = space['weights'],\n",
        "                               algorithm = space['algorithm'],\n",
        "                               leaf_size = space['leaf_size']\n",
        "                              )\n",
        "\n",
        "  accuracy = cross_val_score(model, X, y, cv = 5).mean()\n",
        "\n",
        "  # We aim to maximize accuracy, therefore we return it as a negative value\n",
        "  return {'loss': -accuracy, 'status': STATUS_OK }"
      ],
      "metadata": {
        "id": "pmTh5dfjttz5"
      },
      "execution_count": null,
      "outputs": []
    },
    {
      "cell_type": "code",
      "source": [
        "from sklearn.model_selection import cross_val_score\n",
        "from hyperopt.fmin import space_eval\n",
        "trials = Trials()\n",
        "best = fmin(fn = objective,\n",
        "            space = space,\n",
        "            algo = tpe.suggest,\n",
        "            max_evals = 80,\n",
        "            rstate=np.random.RandomState(42),\n",
        "            trials= trials)\n",
        "\n",
        "space_eval(space, best)\n",
        "print(f\"BEST PARAMETERS ARE: \\n{space_eval(space, best)}\")\n",
        "print(f\"\\n BEST SCORE IS: {- trials.best_trial['result']['loss']}\")"
      ],
      "metadata": {
        "colab": {
          "base_uri": "https://localhost:8080/"
        },
        "id": "Urp3Uszvvwan",
        "outputId": "b91bba0c-45d2-4097-8ef0-23cfea707064"
      },
      "execution_count": null,
      "outputs": [
        {
          "output_type": "stream",
          "name": "stdout",
          "text": [
            "100%|██████████| 80/80 [00:02<00:00, 37.25it/s, best loss: -0.7933333333333333]\n",
            "BEST PARAMETERS ARE: \n",
            "{'algorithm': 'kd_tree', 'leaf_size': 50, 'n_neighbors': 15, 'weights': 'uniform'}\n",
            "\n",
            " BEST SCORE IS: 0.7933333333333333\n"
          ]
        }
      ]
    },
    {
      "cell_type": "markdown",
      "source": [
        "---\n",
        "## Model Tuning using **Scikit-Optimize** (Bayesian Optimization)\n",
        "To install it use<br>\n",
        "`pip install scikit-optimize`\n",
        "### In order to use it you must have:\n",
        "- **Search Space:** A dictionary where each parameter is defined by HyperOPT standards\n",
        "- **Surrogate:** A model that binds the algorithm with the space"
      ],
      "metadata": {
        "id": "odVtXJAuJUMp"
      }
    },
    {
      "cell_type": "code",
      "source": [
        "# Parameters for KNN Classifier\n",
        "search_space = {\n",
        "    \"n_neighbors\": [3,5,10,15],\n",
        "    \"weights\": [\"uniform\", \"distance\"],\n",
        "    \"algorithm\": [\"ball_tree\", \"kd_tree\", \"brute\"],\n",
        "    \"leaf_size\": [20,30,40,50]\n",
        "}\n",
        "\n",
        "print(search_space)"
      ],
      "metadata": {
        "colab": {
          "base_uri": "https://localhost:8080/"
        },
        "id": "V7-x_RhHJ9Ed",
        "outputId": "559cfed2-f7b4-400a-8fa2-03ecf00a095a"
      },
      "execution_count": null,
      "outputs": [
        {
          "output_type": "stream",
          "name": "stdout",
          "text": [
            "{'n_neighbors': [3, 5, 10, 15], 'weights': ['uniform', 'distance'], 'algorithm': ['ball_tree', 'kd_tree', 'brute'], 'leaf_size': [20, 30, 40, 50]}\n"
          ]
        }
      ]
    },
    {
      "cell_type": "code",
      "source": [
        "from skopt import BayesSearchCV\n",
        "\n",
        "KNN_surrogate = BayesSearchCV(estimator = KNeighborsClassifier(), \n",
        "                       search_spaces = search_space, n_jobs=-1, cv=5)\n",
        "KNN_surrogate.fit(X, y)\n",
        "\n",
        "print(f\"BEST PARAMETERS ARE: \\n{KNN_surrogate.best_params_}\")\n",
        "print(f\"\\n BEST SCORE IS: {KNN_surrogate.best_score_}\")"
      ],
      "metadata": {
        "colab": {
          "base_uri": "https://localhost:8080/"
        },
        "id": "HEaPGsGhK-k3",
        "outputId": "dbea4dda-8f96-4417-b09b-467476c5e7ae"
      },
      "execution_count": null,
      "outputs": [
        {
          "output_type": "stream",
          "name": "stdout",
          "text": [
            "BEST PARAMETERS ARE: \n",
            "{'algorithm': 'ball_tree', 'leaf_size': 30, 'n_neighbors': 15, 'weights': 'uniform'}\n",
            "\n",
            "BEST SCORE IS: 0.7933333333333333\n"
          ]
        }
      ]
    },
    {
      "cell_type": "markdown",
      "source": [
        "---\n",
        "## Model Tuning using **Optuna** (Automatic Hyperparameter Tuning)\n",
        "To install it use<br>\n",
        "`pip install optuna`\n",
        "\n",
        "### In order to use it you must have:\n",
        "- **Study:** An objective function with hyperparameters and models in it\n",
        "- **Trials:** A tral is a single execution of the study. You need multiple trials to achive better results"
      ],
      "metadata": {
        "id": "Wn6s7KYHkx6w"
      }
    },
    {
      "cell_type": "code",
      "source": [
        "import sklearn.neighbors\n",
        "\n",
        "def objective(trial):\n",
        "  classifier = trial.suggest_categorical('classifier','KNeighbors')\n",
        "  \n",
        "  # Parameters for KNN Classifier\n",
        "  n_neighbors = trial.suggest_int('n_neighbors', 3,15,2)\n",
        "  weights = trial.suggest_categorical('weights', [\"uniform\", \"distance\"])\n",
        "  algorithm = trial.suggest_categorical('algorithm', [\"ball_tree\", \"kd_tree\", \"brute\"])\n",
        "  leaf_size = trial.suggest_int('leaf_size', 5,50,5)\n",
        "      \n",
        "  clf = sklearn.neighbors.KNeighborsClassifier(\n",
        "      n_neighbors = n_neighbors, weights = weights,\n",
        "      algorithm = algorithm, leaf_size = leaf_size\n",
        "  )\n",
        "  \n",
        "  score = cross_val_score(clf,X_train,y_train, n_jobs=-1, cv=3).mean()\n",
        "\n",
        "  return score"
      ],
      "metadata": {
        "id": "IE9H6ocZqYsz"
      },
      "execution_count": null,
      "outputs": []
    },
    {
      "cell_type": "code",
      "source": [
        "import optuna\n",
        "\n",
        "study = optuna.create_study(direction='maximize')\n",
        "study.optimize(objective, n_trials=20)\n",
        "\n",
        "best = study.best_trial\n",
        "\n",
        "print(f\"BEST PARAMETERS ARE: \\n{best.params}\")\n",
        "print(f\"\\nBEST SCORE IS: {best.value}\")"
      ],
      "metadata": {
        "colab": {
          "base_uri": "https://localhost:8080/"
        },
        "id": "hddqJJtUquQc",
        "outputId": "fbbbafb6-1148-48de-a849-fcdf4e7d0348"
      },
      "execution_count": null,
      "outputs": [
        {
          "output_type": "stream",
          "name": "stdout",
          "text": [
            "BEST PARAMETERS ARE: \n",
            "{'classifier': 'h', 'n_neighbors': 11, 'weights': 'uniform', 'algorithm': 'ball_tree', 'leaf_size': 45}\n",
            "\n",
            "BEST SCORE IS: 0.7946894262683736\n"
          ]
        }
      ]
    },
    {
      "cell_type": "markdown",
      "source": [
        "---\n",
        "## Model Tuning using **FLAML** (Automatic Hyperparameter Tuning)\n",
        "To install it use<br>\n",
        "`pip install flaml`\n",
        "`pip install flaml[notebook]`"
      ],
      "metadata": {
        "id": "xFAPPiyu3Ori"
      }
    },
    {
      "cell_type": "code",
      "source": [
        "from flaml import AutoML\n",
        "from sklearn.model_selection import train_test_split\n",
        "\n",
        "X_train, X_test, y_train, y_test = train_test_split(X, y, test_size=0.25)\n",
        "\n",
        "automl_settings = {\n",
        "    \"time_budget\": 60,  # Seconds\n",
        "    \"metric\": 'accuracy', # Evaluation Metric\n",
        "    \"estimator_list\": [\"kneighbor\"], # Estimator\n",
        "    \"task\": 'classification' # Supervised ML Task\n",
        "}\n",
        "autoML = AutoML()\n",
        "autoML.fit(X_train, y_train, **automl_settings)\n",
        "\n",
        "print(f\"BEST PARAMETERS ARE: \\n{autoML.model.estimator}\")\n",
        "print(f\"\\nBEST SCORE IS: {autoML.score(X_test, y_test)}\")"
      ],
      "metadata": {
        "colab": {
          "base_uri": "https://localhost:8080/"
        },
        "id": "gLodgz5X7j4o",
        "outputId": "79d3c756-445e-49f5-f1de-514f3dab1f4d"
      },
      "execution_count": 10,
      "outputs": [
        {
          "output_type": "stream",
          "name": "stdout",
          "text": [
            "BEST PARAMETERS ARE: \n",
            "KNeighborsClassifier(n_jobs=-1, n_neighbors=55, weights='distance')\n",
            "\n",
            "BEST SCORE IS: 0.7894736842105263\n"
          ]
        }
      ]
    },
    {
      "cell_type": "markdown",
      "source": [
        "---\n",
        "## Model Tuning using **TPOT** (Genetric Algorithms)\n",
        "To install it use<br>\n",
        "`pip install tpot`\n",
        "### How it works?:\n",
        "- **Train Models:** First we train multiple models, let's say 20 models\n",
        "- **Select Best:** Select half best models. That'd be 10 best models out of 20\n",
        "- **Offsprings:** Create similar models (say 15) of the best ones using their Hyperparameters\n",
        "- **Generations:** Repeat the entire process to build multiple generations (say 3) of models. The original models would be the great-grandfathers of these new models\n",
        "- **Survival:** In this way the best model would survive at the end\n",
        "### In order to use it you must have:\n",
        "- **TensorFlow:** You need TensorFlow library for TPOT to work"
      ],
      "metadata": {
        "id": "qtuSoGRRSQeW"
      }
    },
    {
      "cell_type": "code",
      "source": [
        "from tpot import TPOTClassifier\n",
        "from sklearn.datasets import load_iris\n",
        "from sklearn.model_selection import train_test_split\n",
        "\n",
        "df = load_iris()\n",
        "X = df.data[:, 0:2]\n",
        "y = df.target\n",
        "\n",
        "X_train, X_test, y_train, y_test = train_test_split(X, y, test_size=0.25)\n",
        "\n",
        "tpot_classifier = TPOTClassifier(generations= 5, population_size= 24, offspring_size= 12,\n",
        "                                 verbosity= 0, early_stop= 12,\n",
        "                                 config_dict={'sklearn.neighbors.KNeighborsClassifier': para_dict}, \n",
        "                                 cv = 5, scoring = 'accuracy')\n",
        "tpot_output = tpot_classifier.fit(X_train,y_train)\n",
        "\n",
        "\n",
        "print(f\"BEST PARAMETERS ARE: \\n{tpot_output.fitted_pipeline_[1]}\")\n",
        "print(f\"\\nBEST SCORE IS: {tpot_output.score(X_test, y_test)}\")"
      ],
      "metadata": {
        "colab": {
          "base_uri": "https://localhost:8080/"
        },
        "id": "ipA5OVQqTawI",
        "outputId": "ed92cd7a-763b-4423-b1b5-247b9eb3050d"
      },
      "execution_count": null,
      "outputs": [
        {
          "output_type": "stream",
          "name": "stdout",
          "text": [
            "BEST PARAMETERS ARE: \n",
            "KNeighborsClassifier(algorithm='ball_tree', leaf_size=50, n_neighbors=3)\n",
            "\n",
            "BEST SCORE IS: 0.7105263157894737\n"
          ]
        }
      ]
    }
  ]
}