{
 "cells": [
  {
   "attachments": {},
   "cell_type": "markdown",
   "metadata": {},
   "source": [
    "# **Hyperparameter Tuning:** Model Tuning\n",
    "Hyperparameter tuning consists of finding a set of optimal hyperparameter values for a learning algorithm while applying this<br>\n",
    " optimized algorithm to any data set. That combination of hyperparameters maximizes the model's performance, minimizing a<br>\n",
    "  predefined loss function to produce better results with fewer errors."
   ]
  },
  {
   "cell_type": "code",
   "execution_count": 24,
   "metadata": {},
   "outputs": [],
   "source": [
    "import numpy as np\n",
    "import pandas as pd\n",
    "import seaborn as sns\n",
    "\n",
    "from sklearn.neighbors import KNeighborsClassifier\n",
    "from sklearn.metrics import accuracy_score\n",
    "from sklearn.experimental import enable_halving_search_cv"
   ]
  },
  {
   "cell_type": "code",
   "execution_count": 2,
   "metadata": {},
   "outputs": [
    {
     "data": {
      "text/html": [
       "<div>\n",
       "<style scoped>\n",
       "    .dataframe tbody tr th:only-of-type {\n",
       "        vertical-align: middle;\n",
       "    }\n",
       "\n",
       "    .dataframe tbody tr th {\n",
       "        vertical-align: top;\n",
       "    }\n",
       "\n",
       "    .dataframe thead th {\n",
       "        text-align: right;\n",
       "    }\n",
       "</style>\n",
       "<table border=\"1\" class=\"dataframe\">\n",
       "  <thead>\n",
       "    <tr style=\"text-align: right;\">\n",
       "      <th></th>\n",
       "      <th>sepal_length</th>\n",
       "      <th>sepal_width</th>\n",
       "      <th>petal_length</th>\n",
       "      <th>petal_width</th>\n",
       "      <th>species</th>\n",
       "    </tr>\n",
       "  </thead>\n",
       "  <tbody>\n",
       "    <tr>\n",
       "      <th>0</th>\n",
       "      <td>5.1</td>\n",
       "      <td>3.5</td>\n",
       "      <td>1.4</td>\n",
       "      <td>0.2</td>\n",
       "      <td>setosa</td>\n",
       "    </tr>\n",
       "    <tr>\n",
       "      <th>1</th>\n",
       "      <td>4.9</td>\n",
       "      <td>3.0</td>\n",
       "      <td>1.4</td>\n",
       "      <td>0.2</td>\n",
       "      <td>setosa</td>\n",
       "    </tr>\n",
       "    <tr>\n",
       "      <th>2</th>\n",
       "      <td>4.7</td>\n",
       "      <td>3.2</td>\n",
       "      <td>1.3</td>\n",
       "      <td>0.2</td>\n",
       "      <td>setosa</td>\n",
       "    </tr>\n",
       "    <tr>\n",
       "      <th>3</th>\n",
       "      <td>4.6</td>\n",
       "      <td>3.1</td>\n",
       "      <td>1.5</td>\n",
       "      <td>0.2</td>\n",
       "      <td>setosa</td>\n",
       "    </tr>\n",
       "    <tr>\n",
       "      <th>4</th>\n",
       "      <td>5.0</td>\n",
       "      <td>3.6</td>\n",
       "      <td>1.4</td>\n",
       "      <td>0.2</td>\n",
       "      <td>setosa</td>\n",
       "    </tr>\n",
       "  </tbody>\n",
       "</table>\n",
       "</div>"
      ],
      "text/plain": [
       "   sepal_length  sepal_width  petal_length  petal_width species\n",
       "0           5.1          3.5           1.4          0.2  setosa\n",
       "1           4.9          3.0           1.4          0.2  setosa\n",
       "2           4.7          3.2           1.3          0.2  setosa\n",
       "3           4.6          3.1           1.5          0.2  setosa\n",
       "4           5.0          3.6           1.4          0.2  setosa"
      ]
     },
     "execution_count": 2,
     "metadata": {},
     "output_type": "execute_result"
    }
   ],
   "source": [
    "df = sns.load_dataset(\"iris\")\n",
    "df.head()"
   ]
  },
  {
   "cell_type": "code",
   "execution_count": 3,
   "metadata": {},
   "outputs": [],
   "source": [
    "X = df.iloc[:, :2]\n",
    "y = df.iloc[:, -1]"
   ]
  },
  {
   "attachments": {},
   "cell_type": "markdown",
   "metadata": {},
   "source": [
    "## Model Evaluation using Cross Validation"
   ]
  },
  {
   "cell_type": "code",
   "execution_count": 13,
   "metadata": {},
   "outputs": [
    {
     "data": {
      "text/plain": [
       "0.76"
      ]
     },
     "execution_count": 13,
     "metadata": {},
     "output_type": "execute_result"
    }
   ],
   "source": [
    "from sklearn.model_selection import cross_val_score\n",
    "KNN = KNeighborsClassifier()\n",
    "cv = cross_val_score(KNN, X, y, cv=10, scoring=\"accuracy\")\n",
    "np.mean(cv)"
   ]
  },
  {
   "attachments": {},
   "cell_type": "markdown",
   "metadata": {},
   "source": [
    "---\n",
    "## **Model Hyperparameters**: KNN"
   ]
  },
  {
   "cell_type": "code",
   "execution_count": 22,
   "metadata": {},
   "outputs": [
    {
     "name": "stdout",
     "output_type": "stream",
     "text": [
      "{'n_neighbors': [3, 5, 10, 15], 'weights': ['uniform', 'distance'], 'algorithm': ['ball_tree', 'kd_tree', 'brute'], 'leaf_size': [20, 30, 40, 50]}\n"
     ]
    }
   ],
   "source": [
    "# Parameters for KNN Classifier\n",
    "para_dict = {\n",
    "    \"n_neighbors\": [3,5,10,15],\n",
    "    \"weights\": [\"uniform\", \"distance\"],\n",
    "    \"algorithm\": [\"ball_tree\", \"kd_tree\", \"brute\"],\n",
    "    \"leaf_size\": [20,30,40,50]\n",
    "}\n",
    "\n",
    "print(para_dict)"
   ]
  },
  {
   "attachments": {},
   "cell_type": "markdown",
   "metadata": {},
   "source": [
    "---\n",
    "## Model Tuning using **GridSearchCV**"
   ]
  },
  {
   "cell_type": "code",
   "execution_count": 19,
   "metadata": {},
   "outputs": [
    {
     "name": "stdout",
     "output_type": "stream",
     "text": [
      "BEST PARAMETERS ARE: \n",
      "{'algorithm': 'ball_tree', 'leaf_size': 20, 'n_neighbors': 15, 'weights': 'uniform'}\n",
      "\n",
      " BEST SCORE IS: 0.7933333333333333\n"
     ]
    }
   ],
   "source": [
    "from sklearn.model_selection import GridSearchCV\n",
    "\n",
    "KNN = KNeighborsClassifier()\n",
    "KNN_grid = GridSearchCV(estimator = KNN, \n",
    "                       param_grid = para_dict, \n",
    "                       cv = 5, \n",
    "                    #    verbose=2, \n",
    "                       n_jobs = -1)\n",
    "\n",
    "KNN_grid.fit(X,y)\n",
    "\n",
    "print(f\"BEST PARAMETERS ARE: \\n{KNN_grid.best_params_}\")\n",
    "print(f\"\\n BEST SCORE IS: {KNN_grid.best_score_}\")"
   ]
  },
  {
   "attachments": {},
   "cell_type": "markdown",
   "metadata": {},
   "source": [
    "---\n",
    "## Model Tuning using **Halving GridSearchCV**"
   ]
  },
  {
   "cell_type": "code",
   "execution_count": 30,
   "metadata": {},
   "outputs": [
    {
     "name": "stdout",
     "output_type": "stream",
     "text": [
      "BEST PARAMETERS ARE: \n",
      "{'algorithm': 'ball_tree', 'leaf_size': 50, 'n_neighbors': 3, 'weights': 'uniform'}\n",
      "\n",
      " BEST SCORE IS: 0.8\n"
     ]
    }
   ],
   "source": [
    "from sklearn.model_selection import HalvingGridSearchCV\n",
    "\n",
    "KNN = KNeighborsClassifier()\n",
    "KNN_grid = HalvingGridSearchCV(estimator = KNN, \n",
    "                                param_grid = para_dict, \n",
    "                                cv = 5, \n",
    "                                #    verbose=2, \n",
    "                                n_jobs = -1)\n",
    "\n",
    "KNN_grid.fit(X,y)\n",
    "\n",
    "print(f\"BEST PARAMETERS ARE: \\n{KNN_grid.best_params_}\")\n",
    "print(f\"\\n BEST SCORE IS: {KNN_grid.best_score_}\")"
   ]
  },
  {
   "attachments": {},
   "cell_type": "markdown",
   "metadata": {},
   "source": [
    "---\n",
    "## Model Tuning using **RandomSearchCV**"
   ]
  },
  {
   "cell_type": "code",
   "execution_count": 21,
   "metadata": {},
   "outputs": [
    {
     "name": "stdout",
     "output_type": "stream",
     "text": [
      "BEST PARAMETERS ARE: \n",
      "{'weights': 'uniform', 'n_neighbors': 10, 'leaf_size': 30, 'algorithm': 'brute'}\n",
      "\n",
      " BEST SCORE IS: 0.78\n"
     ]
    }
   ],
   "source": [
    "from sklearn.model_selection import RandomizedSearchCV\n",
    "\n",
    "KNN = KNeighborsClassifier()\n",
    "KNN_grid = RandomizedSearchCV(estimator = KNN, \n",
    "                       param_distributions = para_dict, \n",
    "                       cv = 5, \n",
    "                    #    verbose=2, \n",
    "                       n_jobs = -1)\n",
    "\n",
    "KNN_grid.fit(X,y)\n",
    "\n",
    "print(f\"BEST PARAMETERS ARE: \\n{KNN_grid.best_params_}\")\n",
    "print(f\"\\n BEST SCORE IS: {KNN_grid.best_score_}\")"
   ]
  },
  {
   "attachments": {},
   "cell_type": "markdown",
   "metadata": {},
   "source": [
    "---\n",
    "## Model Tuning using **Halving RandomSearchCV**"
   ]
  },
  {
   "cell_type": "code",
   "execution_count": 28,
   "metadata": {},
   "outputs": [
    {
     "name": "stdout",
     "output_type": "stream",
     "text": [
      "BEST PARAMETERS ARE: \n",
      "{'weights': 'uniform', 'n_neighbors': 10, 'leaf_size': 40, 'algorithm': 'ball_tree'}\n",
      "\n",
      " BEST SCORE IS: 0.8222222222222222\n"
     ]
    }
   ],
   "source": [
    "from sklearn.model_selection import HalvingRandomSearchCV\n",
    "\n",
    "KNN = KNeighborsClassifier()\n",
    "KNN_grid = HalvingRandomSearchCV(estimator = KNN, \n",
    "                       param_distributions = para_dict, \n",
    "                       cv = 5, \n",
    "                    #    verbose=2, \n",
    "                       n_jobs = -1)\n",
    "\n",
    "KNN_grid.fit(X,y)\n",
    "\n",
    "print(f\"BEST PARAMETERS ARE: \\n{KNN_grid.best_params_}\")\n",
    "print(f\"\\n BEST SCORE IS: {KNN_grid.best_score_}\")"
   ]
  },
  {
   "attachments": {},
   "cell_type": "markdown",
   "metadata": {},
   "source": [
    "| Technique | Pros | Cons |\n",
    "| --- | --- | --- |\n",
    "| `GridSearchCV` | Exhaustively searches the specified hyperparameter space to find the best configuration. Provides the optimal configuration when the number of hyperparameters to tune is small. | Can be time-consuming for large parameter spaces. |\n",
    "| `HalvingGridSearchCV` | Uses iterative halving to reduce the time required for hyperparameter tuning. Can be faster than `GridSearchCV` for larger parameter spaces. | May not always find the optimal combination of hyperparameters. |\n",
    "| `RandomizedSearchCV` | Randomly samples a specified number of hyperparameter configurations to find the best configuration. Can be faster than `GridSearchCV` when the number of hyperparameters to tune is large. | May not always find the optimal combination of hyperparameters. |\n",
    "| `HalvingRandomSearchCV` | Uses iterative halving to reduce the time required for hyperparameter tuning. Can be faster than `RandomizedSearchCV` for larger parameter spaces. | May not always find the optimal combination of hyperparameters. |\n"
   ]
  }
 ],
 "metadata": {
  "kernelspec": {
   "display_name": "latest_python",
   "language": "python",
   "name": "python3"
  },
  "language_info": {
   "codemirror_mode": {
    "name": "ipython",
    "version": 3
   },
   "file_extension": ".py",
   "mimetype": "text/x-python",
   "name": "python",
   "nbconvert_exporter": "python",
   "pygments_lexer": "ipython3",
   "version": "3.11.0"
  },
  "orig_nbformat": 4,
  "vscode": {
   "interpreter": {
    "hash": "0e89fa9d34bf160a830340249d57759ad2bc513e7c7d8dbe75f5cb00cde144ca"
   }
  }
 },
 "nbformat": 4,
 "nbformat_minor": 2
}
