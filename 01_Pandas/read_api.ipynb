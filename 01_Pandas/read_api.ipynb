{
 "cells": [
  {
   "cell_type": "markdown",
   "metadata": {},
   "source": [
    "# <strong>Pandas:</strong> API Data\n",
    "\n",
    "**Name:** Arsalan Ali<br>\n",
    "**Email:** arslanchaos@gmail.com"
   ]
  },
  {
   "cell_type": "markdown",
   "metadata": {},
   "source": [
    "### **Table of Contents**\n",
    "* Top TMDB Movies\n",
    "* Top IMDB Movies\n",
    "\n",
    "---"
   ]
  },
  {
   "cell_type": "markdown",
   "metadata": {},
   "source": [
    "### Top TMDB Movies"
   ]
  },
  {
   "cell_type": "code",
   "execution_count": 1,
   "metadata": {},
   "outputs": [],
   "source": [
    "import pandas as pd\n",
    "import requests"
   ]
  },
  {
   "cell_type": "code",
   "execution_count": 2,
   "metadata": {},
   "outputs": [],
   "source": [
    "top_tmdb_movies = pd.DataFrame()\n",
    "\n",
    "# Looping for the number of pages in the request JSON file on TMDB API to obtain results of all pages\n",
    "for page in range (1, 516):\n",
    "    result = requests.get(f\"https://api.themoviedb.org/3/movie/top_rated?api_key=TMDB_API&language=en-US&page={page}\")\n",
    "    # Creating a temporary dataframe for our desired columns out of the JSON data\n",
    "    temp_df = pd.DataFrame(result.json()[\"results\"])[[\"id\", \"title\", \"release_date\", \"popularity\", \"vote_average\", \"vote_count\"]]\n",
    "    # Creating a dataframe that saves all the results of every page that goes into the temporary dataframe\n",
    "    top_tmdb_movies = pd.concat([top_tmdb_movies, temp_df], axis=0, ignore_index=True)\n",
    "\n",
    "top_tmdb_movies"
   ]
  },
  {
   "cell_type": "markdown",
   "metadata": {},
   "source": [
    "### Top IMDB Movies"
   ]
  },
  {
   "cell_type": "markdown",
   "metadata": {},
   "source": [
    "#### Step-1\n",
    "Get Top Movies using RapidAPI for IMDB"
   ]
  },
  {
   "cell_type": "code",
   "execution_count": 73,
   "metadata": {},
   "outputs": [],
   "source": [
    "import requests\n",
    "\n",
    "# API URL provided by the RapidAPI\n",
    "url = \"https://imdb8.p.rapidapi.com/title/get-top-rated-movies\"\n",
    "\n",
    "# Tokens provided by the RapidAPI\n",
    "headers = {\n",
    "\t\"X-RapidAPI-Key\": \"RAPID API KEY\",\n",
    "\t\"X-RapidAPI-Host\": \"RAPID API HOST\"\n",
    "}\n",
    "\n",
    "# Requesting all data related to the IMDB API on RapidAPI\n",
    "response = requests.request(\"GET\", url, headers=headers)\n",
    "\n",
    "# Creating a dataframe out the requested data\n",
    "top_imdb_movies = pd.DataFrame(response.json())"
   ]
  },
  {
   "cell_type": "markdown",
   "metadata": {},
   "source": [
    "#### Step-2 \n",
    "Separate Title_Ids from the data"
   ]
  },
  {
   "cell_type": "code",
   "execution_count": 84,
   "metadata": {},
   "outputs": [],
   "source": [
    "import re\n",
    "\n",
    "# Creating a pattern for the 7-digits of title_id\n",
    "pattern = re.compile(r\"\\d{7}\")\n",
    "\n",
    "# Findall will search for the pattern\n",
    "matches = pattern.findall(response.text)\n",
    "\n",
    "ids = []\n",
    "# Looping through all the matches and adding them to the ids-list\n",
    "for match in matches:\n",
    "    ids.append(match)\n",
    "\n",
    "# Creating a new column for ids in dataset using ids-list\n",
    "top_imdb_movies[\"title_id\"] = ids"
   ]
  },
  {
   "cell_type": "markdown",
   "metadata": {},
   "source": [
    "#### Step-3\n",
    "Use Cinemagoer to get Titles of Movies through the Title_Ids"
   ]
  },
  {
   "cell_type": "code",
   "execution_count": null,
   "metadata": {},
   "outputs": [],
   "source": [
    "from imdb import Cinemagoer\n",
    "\n",
    "# create an instance of the Cinemagoer class\n",
    "db = Cinemagoer()\n",
    "\n",
    "title = []\n",
    "# Looping to get all the titles of movies and adding it to the title-list\n",
    "for title_id in top_imdb_movies[\"title_id\"]:\n",
    "    title.append(db.get_movie(title_id)[\"title\"])\n",
    "\n",
    "# adding the title-list to the dataframe\n",
    "top_imdb_movies[\"title\"] = title\n",
    "\n",
    "top_imdb_movies"
   ]
  }
 ],
 "metadata": {
  "kernelspec": {
   "display_name": "Python 3.8.13 ('experiments')",
   "language": "python",
   "name": "python3"
  },
  "language_info": {
   "codemirror_mode": {
    "name": "ipython",
    "version": 3
   },
   "file_extension": ".py",
   "mimetype": "text/x-python",
   "name": "python",
   "nbconvert_exporter": "python",
   "pygments_lexer": "ipython3",
   "version": "3.8.13"
  },
  "orig_nbformat": 4,
  "vscode": {
   "interpreter": {
    "hash": "455f75424383126103451700e57e97ad42b9e5b3caaaf79c328ec15f0c5e4876"
   }
  }
 },
 "nbformat": 4,
 "nbformat_minor": 2
}
