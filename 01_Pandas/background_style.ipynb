{
 "cells": [
  {
   "attachments": {},
   "cell_type": "markdown",
   "metadata": {},
   "source": [
    "# <strong>Pandas:</strong> Change DataFrame Background\n",
    "\n",
    "**Name:** Arsalan Ali<br>\n",
    "**Email:** arslanchaos@gmail.com"
   ]
  },
  {
   "cell_type": "code",
   "execution_count": 26,
   "metadata": {},
   "outputs": [
    {
     "data": {
      "text/html": [
       "<style type=\"text/css\">\n",
       "#T_b4063_row0_col0, #T_b4063_row1_col1 {\n",
       "  background-color: #fff7fb;\n",
       "  color: #000000;\n",
       "}\n",
       "#T_b4063_row0_col1, #T_b4063_row2_col0 {\n",
       "  background-color: #023858;\n",
       "  color: #f1f1f1;\n",
       "}\n",
       "#T_b4063_row1_col0 {\n",
       "  background-color: #73a9cf;\n",
       "  color: #f1f1f1;\n",
       "}\n",
       "#T_b4063_row2_col1 {\n",
       "  background-color: #1379b5;\n",
       "  color: #f1f1f1;\n",
       "}\n",
       "</style>\n",
       "<table id=\"T_b4063\">\n",
       "  <thead>\n",
       "    <tr>\n",
       "      <th class=\"blank level0\" >&nbsp;</th>\n",
       "      <th id=\"T_b4063_level0_col0\" class=\"col_heading level0 col0\" >x</th>\n",
       "      <th id=\"T_b4063_level0_col1\" class=\"col_heading level0 col1\" >y</th>\n",
       "    </tr>\n",
       "  </thead>\n",
       "  <tbody>\n",
       "    <tr>\n",
       "      <th id=\"T_b4063_level0_row0\" class=\"row_heading level0 row0\" >0</th>\n",
       "      <td id=\"T_b4063_row0_col0\" class=\"data row0 col0\" >1</td>\n",
       "      <td id=\"T_b4063_row0_col1\" class=\"data row0 col1\" >5</td>\n",
       "    </tr>\n",
       "    <tr>\n",
       "      <th id=\"T_b4063_level0_row1\" class=\"row_heading level0 row1\" >1</th>\n",
       "      <td id=\"T_b4063_row1_col0\" class=\"data row1 col0\" >2</td>\n",
       "      <td id=\"T_b4063_row1_col1\" class=\"data row1 col1\" >-2</td>\n",
       "    </tr>\n",
       "    <tr>\n",
       "      <th id=\"T_b4063_level0_row2\" class=\"row_heading level0 row2\" >2</th>\n",
       "      <td id=\"T_b4063_row2_col0\" class=\"data row2 col0\" >3</td>\n",
       "      <td id=\"T_b4063_row2_col1\" class=\"data row2 col1\" >3</td>\n",
       "    </tr>\n",
       "  </tbody>\n",
       "</table>\n"
      ],
      "text/plain": [
       "<pandas.io.formats.style.Styler at 0x1b09dfe0730>"
      ]
     },
     "execution_count": 26,
     "metadata": {},
     "output_type": "execute_result"
    }
   ],
   "source": [
    "import pandas as pd\n",
    "\n",
    "df = pd.DataFrame({\"x\": [1,2,3],\"y\": [5,-2,3]})\n",
    "\n",
    "df.style.background_gradient(\"PuBu\")"
   ]
  },
  {
   "cell_type": "code",
   "execution_count": 21,
   "metadata": {},
   "outputs": [
    {
     "data": {
      "text/html": [
       "<style type=\"text/css\">\n",
       "#T_42e87_row0_col0, #T_42e87_row1_col1 {\n",
       "  background-color: #a6cee3;\n",
       "  color: #000000;\n",
       "}\n",
       "#T_42e87_row0_col1, #T_42e87_row2_col0 {\n",
       "  background-color: #b15928;\n",
       "  color: #f1f1f1;\n",
       "}\n",
       "#T_42e87_row1_col0 {\n",
       "  background-color: #fdbf6f;\n",
       "  color: #000000;\n",
       "}\n",
       "#T_42e87_row2_col1 {\n",
       "  background-color: #cab2d6;\n",
       "  color: #000000;\n",
       "}\n",
       "</style>\n",
       "<table id=\"T_42e87\">\n",
       "  <thead>\n",
       "    <tr>\n",
       "      <th class=\"blank level0\" >&nbsp;</th>\n",
       "      <th id=\"T_42e87_level0_col0\" class=\"col_heading level0 col0\" >x</th>\n",
       "      <th id=\"T_42e87_level0_col1\" class=\"col_heading level0 col1\" >y</th>\n",
       "    </tr>\n",
       "  </thead>\n",
       "  <tbody>\n",
       "    <tr>\n",
       "      <th id=\"T_42e87_level0_row0\" class=\"row_heading level0 row0\" >0</th>\n",
       "      <td id=\"T_42e87_row0_col0\" class=\"data row0 col0\" >1</td>\n",
       "      <td id=\"T_42e87_row0_col1\" class=\"data row0 col1\" >5</td>\n",
       "    </tr>\n",
       "    <tr>\n",
       "      <th id=\"T_42e87_level0_row1\" class=\"row_heading level0 row1\" >1</th>\n",
       "      <td id=\"T_42e87_row1_col0\" class=\"data row1 col0\" >2</td>\n",
       "      <td id=\"T_42e87_row1_col1\" class=\"data row1 col1\" >-2</td>\n",
       "    </tr>\n",
       "    <tr>\n",
       "      <th id=\"T_42e87_level0_row2\" class=\"row_heading level0 row2\" >2</th>\n",
       "      <td id=\"T_42e87_row2_col0\" class=\"data row2 col0\" >3</td>\n",
       "      <td id=\"T_42e87_row2_col1\" class=\"data row2 col1\" >3</td>\n",
       "    </tr>\n",
       "  </tbody>\n",
       "</table>\n"
      ],
      "text/plain": [
       "<pandas.io.formats.style.Styler at 0x1b09dfe1a80>"
      ]
     },
     "execution_count": 21,
     "metadata": {},
     "output_type": "execute_result"
    }
   ],
   "source": [
    "df.style.background_gradient(cmap=\"Paired\")"
   ]
  },
  {
   "cell_type": "code",
   "execution_count": 25,
   "metadata": {},
   "outputs": [
    {
     "data": {
      "text/html": [
       "<style type=\"text/css\">\n",
       "#T_a703d_row0_col0, #T_a703d_row1_col1 {\n",
       "  background-color: #ffffe5;\n",
       "  color: #000000;\n",
       "}\n",
       "#T_a703d_row0_col1, #T_a703d_row2_col0 {\n",
       "  background-color: #004529;\n",
       "  color: #f1f1f1;\n",
       "}\n",
       "#T_a703d_row1_col0 {\n",
       "  background-color: #77c679;\n",
       "  color: #000000;\n",
       "}\n",
       "#T_a703d_row2_col1 {\n",
       "  background-color: #2c8f4b;\n",
       "  color: #f1f1f1;\n",
       "}\n",
       "</style>\n",
       "<table id=\"T_a703d\">\n",
       "  <thead>\n",
       "    <tr>\n",
       "      <th class=\"blank level0\" >&nbsp;</th>\n",
       "      <th id=\"T_a703d_level0_col0\" class=\"col_heading level0 col0\" >x</th>\n",
       "      <th id=\"T_a703d_level0_col1\" class=\"col_heading level0 col1\" >y</th>\n",
       "    </tr>\n",
       "  </thead>\n",
       "  <tbody>\n",
       "    <tr>\n",
       "      <th id=\"T_a703d_level0_row0\" class=\"row_heading level0 row0\" >0</th>\n",
       "      <td id=\"T_a703d_row0_col0\" class=\"data row0 col0\" >1</td>\n",
       "      <td id=\"T_a703d_row0_col1\" class=\"data row0 col1\" >5</td>\n",
       "    </tr>\n",
       "    <tr>\n",
       "      <th id=\"T_a703d_level0_row1\" class=\"row_heading level0 row1\" >1</th>\n",
       "      <td id=\"T_a703d_row1_col0\" class=\"data row1 col0\" >2</td>\n",
       "      <td id=\"T_a703d_row1_col1\" class=\"data row1 col1\" >-2</td>\n",
       "    </tr>\n",
       "    <tr>\n",
       "      <th id=\"T_a703d_level0_row2\" class=\"row_heading level0 row2\" >2</th>\n",
       "      <td id=\"T_a703d_row2_col0\" class=\"data row2 col0\" >3</td>\n",
       "      <td id=\"T_a703d_row2_col1\" class=\"data row2 col1\" >3</td>\n",
       "    </tr>\n",
       "  </tbody>\n",
       "</table>\n"
      ],
      "text/plain": [
       "<pandas.io.formats.style.Styler at 0x1b09b6f4b80>"
      ]
     },
     "execution_count": 25,
     "metadata": {},
     "output_type": "execute_result"
    }
   ],
   "source": [
    "df.style.background_gradient(cmap=\"YlGn\")"
   ]
  },
  {
   "cell_type": "code",
   "execution_count": 27,
   "metadata": {},
   "outputs": [
    {
     "data": {
      "text/html": [
       "<style type=\"text/css\">\n",
       "#T_235f4_row0_col0, #T_235f4_row1_col1 {\n",
       "  background-color: #e41a1c;\n",
       "  color: #f1f1f1;\n",
       "}\n",
       "#T_235f4_row0_col1, #T_235f4_row2_col0 {\n",
       "  background-color: #999999;\n",
       "  color: #f1f1f1;\n",
       "}\n",
       "#T_235f4_row1_col0 {\n",
       "  background-color: #ff7f00;\n",
       "  color: #f1f1f1;\n",
       "}\n",
       "#T_235f4_row2_col1 {\n",
       "  background-color: #a65628;\n",
       "  color: #f1f1f1;\n",
       "}\n",
       "</style>\n",
       "<table id=\"T_235f4\">\n",
       "  <thead>\n",
       "    <tr>\n",
       "      <th class=\"blank level0\" >&nbsp;</th>\n",
       "      <th id=\"T_235f4_level0_col0\" class=\"col_heading level0 col0\" >x</th>\n",
       "      <th id=\"T_235f4_level0_col1\" class=\"col_heading level0 col1\" >y</th>\n",
       "    </tr>\n",
       "  </thead>\n",
       "  <tbody>\n",
       "    <tr>\n",
       "      <th id=\"T_235f4_level0_row0\" class=\"row_heading level0 row0\" >0</th>\n",
       "      <td id=\"T_235f4_row0_col0\" class=\"data row0 col0\" >1</td>\n",
       "      <td id=\"T_235f4_row0_col1\" class=\"data row0 col1\" >5</td>\n",
       "    </tr>\n",
       "    <tr>\n",
       "      <th id=\"T_235f4_level0_row1\" class=\"row_heading level0 row1\" >1</th>\n",
       "      <td id=\"T_235f4_row1_col0\" class=\"data row1 col0\" >2</td>\n",
       "      <td id=\"T_235f4_row1_col1\" class=\"data row1 col1\" >-2</td>\n",
       "    </tr>\n",
       "    <tr>\n",
       "      <th id=\"T_235f4_level0_row2\" class=\"row_heading level0 row2\" >2</th>\n",
       "      <td id=\"T_235f4_row2_col0\" class=\"data row2 col0\" >3</td>\n",
       "      <td id=\"T_235f4_row2_col1\" class=\"data row2 col1\" >3</td>\n",
       "    </tr>\n",
       "  </tbody>\n",
       "</table>\n"
      ],
      "text/plain": [
       "<pandas.io.formats.style.Styler at 0x1b09dfdba90>"
      ]
     },
     "execution_count": 27,
     "metadata": {},
     "output_type": "execute_result"
    }
   ],
   "source": [
    "df.style.background_gradient(cmap=\"Set1\")"
   ]
  },
  {
   "cell_type": "code",
   "execution_count": null,
   "metadata": {},
   "outputs": [],
   "source": []
  }
 ],
 "metadata": {
  "kernelspec": {
   "display_name": "experiments",
   "language": "python",
   "name": "python3"
  },
  "language_info": {
   "codemirror_mode": {
    "name": "ipython",
    "version": 3
   },
   "file_extension": ".py",
   "mimetype": "text/x-python",
   "name": "python",
   "nbconvert_exporter": "python",
   "pygments_lexer": "ipython3",
   "version": "3.10.4"
  },
  "orig_nbformat": 4,
  "vscode": {
   "interpreter": {
    "hash": "2c6509fba79fc55280b1b16c13683e4475dd343bed06b3fbf71f5783e17f5ac7"
   }
  }
 },
 "nbformat": 4,
 "nbformat_minor": 2
}
