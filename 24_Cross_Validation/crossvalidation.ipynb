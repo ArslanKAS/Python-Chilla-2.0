{
 "cells": [
  {
   "attachments": {},
   "cell_type": "markdown",
   "metadata": {},
   "source": [
    "# **Cross Validation:** Model Evaluation\n",
    "Cross-validation is a technique for evaluating ML models by training several ML models on subsets of the available input data<br>\n",
    "and evaluating them on the complementary subset of the data. Use cross-validation to detect overfitting, ie, failing to generalize a pattern"
   ]
  },
  {
   "cell_type": "code",
   "execution_count": 28,
   "metadata": {},
   "outputs": [],
   "source": [
    "import numpy as np\n",
    "import pandas as pd\n",
    "import seaborn as sns\n",
    "\n",
    "from sklearn.neighbors import KNeighborsClassifier\n",
    "from sklearn.metrics import accuracy_score"
   ]
  },
  {
   "cell_type": "code",
   "execution_count": 2,
   "metadata": {},
   "outputs": [
    {
     "data": {
      "text/html": [
       "<div>\n",
       "<style scoped>\n",
       "    .dataframe tbody tr th:only-of-type {\n",
       "        vertical-align: middle;\n",
       "    }\n",
       "\n",
       "    .dataframe tbody tr th {\n",
       "        vertical-align: top;\n",
       "    }\n",
       "\n",
       "    .dataframe thead th {\n",
       "        text-align: right;\n",
       "    }\n",
       "</style>\n",
       "<table border=\"1\" class=\"dataframe\">\n",
       "  <thead>\n",
       "    <tr style=\"text-align: right;\">\n",
       "      <th></th>\n",
       "      <th>sepal_length</th>\n",
       "      <th>sepal_width</th>\n",
       "      <th>petal_length</th>\n",
       "      <th>petal_width</th>\n",
       "      <th>species</th>\n",
       "    </tr>\n",
       "  </thead>\n",
       "  <tbody>\n",
       "    <tr>\n",
       "      <th>0</th>\n",
       "      <td>5.1</td>\n",
       "      <td>3.5</td>\n",
       "      <td>1.4</td>\n",
       "      <td>0.2</td>\n",
       "      <td>setosa</td>\n",
       "    </tr>\n",
       "    <tr>\n",
       "      <th>1</th>\n",
       "      <td>4.9</td>\n",
       "      <td>3.0</td>\n",
       "      <td>1.4</td>\n",
       "      <td>0.2</td>\n",
       "      <td>setosa</td>\n",
       "    </tr>\n",
       "    <tr>\n",
       "      <th>2</th>\n",
       "      <td>4.7</td>\n",
       "      <td>3.2</td>\n",
       "      <td>1.3</td>\n",
       "      <td>0.2</td>\n",
       "      <td>setosa</td>\n",
       "    </tr>\n",
       "    <tr>\n",
       "      <th>3</th>\n",
       "      <td>4.6</td>\n",
       "      <td>3.1</td>\n",
       "      <td>1.5</td>\n",
       "      <td>0.2</td>\n",
       "      <td>setosa</td>\n",
       "    </tr>\n",
       "    <tr>\n",
       "      <th>4</th>\n",
       "      <td>5.0</td>\n",
       "      <td>3.6</td>\n",
       "      <td>1.4</td>\n",
       "      <td>0.2</td>\n",
       "      <td>setosa</td>\n",
       "    </tr>\n",
       "  </tbody>\n",
       "</table>\n",
       "</div>"
      ],
      "text/plain": [
       "   sepal_length  sepal_width  petal_length  petal_width species\n",
       "0           5.1          3.5           1.4          0.2  setosa\n",
       "1           4.9          3.0           1.4          0.2  setosa\n",
       "2           4.7          3.2           1.3          0.2  setosa\n",
       "3           4.6          3.1           1.5          0.2  setosa\n",
       "4           5.0          3.6           1.4          0.2  setosa"
      ]
     },
     "execution_count": 2,
     "metadata": {},
     "output_type": "execute_result"
    }
   ],
   "source": [
    "df = sns.load_dataset(\"iris\")\n",
    "df.head()"
   ]
  },
  {
   "cell_type": "code",
   "execution_count": 24,
   "metadata": {},
   "outputs": [],
   "source": [
    "X = df.iloc[:, :2]\n",
    "y = df.iloc[:, -1]"
   ]
  },
  {
   "attachments": {},
   "cell_type": "markdown",
   "metadata": {},
   "source": [
    "## Model Evaluation using Train Test Split"
   ]
  },
  {
   "cell_type": "code",
   "execution_count": 26,
   "metadata": {},
   "outputs": [
    {
     "name": "stdout",
     "output_type": "stream",
     "text": [
      "The accuracy score is: 0.8\n"
     ]
    }
   ],
   "source": [
    "from sklearn.model_selection import train_test_split\n",
    "X_train, X_test, y_train, y_test = train_test_split(X, y, test_size=0.2, random_state=42)\n",
    "KNN = KNeighborsClassifier()\n",
    "KNN.fit(X_train, y_train)\n",
    "\n",
    "y_pred = KNN.predict(X_test)\n",
    "score = accuracy_score(y_test, y_pred)\n",
    "print(f\"The accuracy score is: {score}\")"
   ]
  },
  {
   "attachments": {},
   "cell_type": "markdown",
   "metadata": {},
   "source": [
    "---\n",
    "## Model Evaluation using **Cross Validation**\n",
    "\n",
    "### Cross Val Score uses:\n",
    "* Model\n",
    "* X Feature(s)\n",
    "* y Target\n",
    "* CV (StratifiedFolds by default)\n",
    "* Scoring"
   ]
  },
  {
   "cell_type": "code",
   "execution_count": 42,
   "metadata": {},
   "outputs": [
    {
     "data": {
      "text/plain": [
       "0.76"
      ]
     },
     "execution_count": 42,
     "metadata": {},
     "output_type": "execute_result"
    }
   ],
   "source": [
    "# Multiple Scores of Models depending on CV\n",
    "\n",
    "from sklearn.model_selection import cross_val_score\n",
    "KNN = KNeighborsClassifier()\n",
    "cv = cross_val_score(KNN, X, y, cv=10, scoring=\"accuracy\")\n",
    "np.mean(cv)"
   ]
  },
  {
   "attachments": {},
   "cell_type": "markdown",
   "metadata": {},
   "source": [
    "---\n",
    "## Model Evaluation using **K-Fold Cross Validation**\n",
    "\n",
    "### KFold Cross Val Score uses:\n",
    "* KFolds\n",
    "* Model\n",
    "* X Feature(s)\n",
    "* y Target\n",
    "* CV (set to KFolds)\n",
    "* Scoring"
   ]
  },
  {
   "cell_type": "code",
   "execution_count": 43,
   "metadata": {},
   "outputs": [
    {
     "data": {
      "text/plain": [
       "0.6866666666666666"
      ]
     },
     "execution_count": 43,
     "metadata": {},
     "output_type": "execute_result"
    }
   ],
   "source": [
    "# Multiple Scores of Models depending on CV\n",
    "\n",
    "from sklearn.model_selection import cross_val_score, KFold\n",
    "\n",
    "KFold = KFold(n_splits=10)\n",
    "KNN = KNeighborsClassifier()\n",
    "cv = cross_val_score(KNN, X, y, cv=KFold, scoring=\"accuracy\")\n",
    "np.mean(cv)"
   ]
  },
  {
   "attachments": {},
   "cell_type": "markdown",
   "metadata": {},
   "source": [
    "---\n",
    "## Model Evaluation using **Repeated K-Fold Cross Validation**\n",
    "\n",
    "### Repeated KFold Cross Val Score uses:\n",
    "* Repeated KFolds\n",
    "* Model\n",
    "* X Feature(s)\n",
    "* y Target\n",
    "* CV (set to Repeated KFolds)\n",
    "* Scoring"
   ]
  },
  {
   "cell_type": "code",
   "execution_count": 44,
   "metadata": {},
   "outputs": [
    {
     "data": {
      "text/plain": [
       "0.7600000000000001"
      ]
     },
     "execution_count": 44,
     "metadata": {},
     "output_type": "execute_result"
    }
   ],
   "source": [
    "# Multiple Scores of Models depending on CV\n",
    "\n",
    "from sklearn.model_selection import cross_val_score, RepeatedKFold\n",
    "\n",
    "RKFold = RepeatedKFold(n_splits=10, n_repeats=3, random_state=1)\n",
    "KNN = KNeighborsClassifier()\n",
    "cv = cross_val_score(KNN, X, y, cv=RKFold, scoring=\"accuracy\")\n",
    "np.mean(cv)"
   ]
  },
  {
   "attachments": {},
   "cell_type": "markdown",
   "metadata": {},
   "source": [
    "---\n",
    "## Model Evaluation using **Stratified K-Fold Cross Validation**\n",
    "\n",
    "### Stratified KFold Cross Val Score uses:\n",
    "* StratifiedKFolds\n",
    "* Model\n",
    "* X Feature(s)\n",
    "* y Target\n",
    "* CV (set to StratifiedKFolds)\n",
    "* Scoring"
   ]
  },
  {
   "cell_type": "code",
   "execution_count": 45,
   "metadata": {},
   "outputs": [
    {
     "data": {
      "text/plain": [
       "0.76"
      ]
     },
     "execution_count": 45,
     "metadata": {},
     "output_type": "execute_result"
    }
   ],
   "source": [
    "# Multiple Scores of Models depending on CV\n",
    "\n",
    "from sklearn.model_selection import cross_val_score, StratifiedKFold\n",
    "\n",
    "SKFold = StratifiedKFold(n_splits=10)\n",
    "KNN = KNeighborsClassifier()\n",
    "cv = cross_val_score(KNN, X, y, cv=SKFold, scoring=\"accuracy\")\n",
    "np.mean(cv)"
   ]
  },
  {
   "attachments": {},
   "cell_type": "markdown",
   "metadata": {},
   "source": [
    "---\n",
    "## Model Evaluation using **Repeated Stratified K-Fold Cross Validation**\n",
    "\n",
    "### Repeated Stratified KFold Cross Val Score uses:\n",
    "* Repeated StratifiedKFolds\n",
    "* Model\n",
    "* X Feature(s)\n",
    "* y Target\n",
    "* CV (set to Repeated StratifiedKFolds)\n",
    "* Scoring"
   ]
  },
  {
   "cell_type": "code",
   "execution_count": 46,
   "metadata": {},
   "outputs": [
    {
     "data": {
      "text/plain": [
       "0.78"
      ]
     },
     "execution_count": 46,
     "metadata": {},
     "output_type": "execute_result"
    }
   ],
   "source": [
    "# Multiple Scores of Models depending on CV\n",
    "\n",
    "from sklearn.model_selection import cross_val_score, RepeatedStratifiedKFold\n",
    "\n",
    "RSKFold = RepeatedStratifiedKFold(n_splits=10, n_repeats=3, random_state=1)\n",
    "KNN = KNeighborsClassifier()\n",
    "cv = cross_val_score(KNN, X, y, cv=RSKFold, scoring=\"accuracy\")\n",
    "np.mean(cv)"
   ]
  },
  {
   "attachments": {},
   "cell_type": "markdown",
   "metadata": {},
   "source": [
    "| Technique | Usefulness |\n",
    "| --- | --- |\n",
    "| `cross_val_score` | A function that can use different cross-validation strategies to evaluate model performance on unseen data. |\n",
    "| `kfold` | A simple cross-validation strategy that can be used when data is independent and identically distributed. |\n",
    "| `RepeatedKFold` | A variation of k-fold cross-validation that can be used to reduce the variance of the evaluation metric. |\n",
    "| `StratifiedKFold` | A cross-validation strategy that is useful when dealing with imbalanced datasets. |\n",
    "| `RepeatedStratifiedKFold` | A variation of StratifiedKFold that repeats the stratified k-fold process n times to improve evaluation performance. |\n",
    "| `StratifiedGroupKFold` | A variation of StratifiedKFold that takes into account a grouping factor for the data, useful when the samples are not independent and identically distributed. |\n"
   ]
  }
 ],
 "metadata": {
  "kernelspec": {
   "display_name": "latest_python",
   "language": "python",
   "name": "python3"
  },
  "language_info": {
   "codemirror_mode": {
    "name": "ipython",
    "version": 3
   },
   "file_extension": ".py",
   "mimetype": "text/x-python",
   "name": "python",
   "nbconvert_exporter": "python",
   "pygments_lexer": "ipython3",
   "version": "3.11.0"
  },
  "orig_nbformat": 4,
  "vscode": {
   "interpreter": {
    "hash": "0e89fa9d34bf160a830340249d57759ad2bc513e7c7d8dbe75f5cb00cde144ca"
   }
  }
 },
 "nbformat": 4,
 "nbformat_minor": 2
}
