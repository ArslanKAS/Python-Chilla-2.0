{
 "cells": [
  {
   "attachments": {},
   "cell_type": "markdown",
   "metadata": {},
   "source": [
    "# <strong>Httpx:</strong> Web Scrapping\n",
    "\n",
    "**Name:** Arsalan Ali<br>\n",
    "**Email:** arslanchaos@gmail.com\n",
    "\n",
    "---"
   ]
  },
  {
   "attachments": {},
   "cell_type": "markdown",
   "metadata": {},
   "source": [
    "### **Table of Contents**\n",
    "* Website to Scrap: \"Thomann\"\n",
    "* Link of the site: https://www.thomann.de/intl/lp_models.html\n",
    "\n",
    "**Note :** Columns to extract\n",
    "*   Manufacturer\n",
    "*   Title\n",
    "*   Price\n",
    "\n",
    "---"
   ]
  },
  {
   "cell_type": "code",
   "execution_count": 1,
   "metadata": {},
   "outputs": [],
   "source": [
    "# Importing Libraries\n",
    "import httpx\n",
    "import csv\n",
    "from selectolax.parser import HTMLParser\n",
    "from dataclasses import dataclass, asdict"
   ]
  },
  {
   "cell_type": "code",
   "execution_count": 2,
   "metadata": {},
   "outputs": [],
   "source": [
    "# Creating Data Class to deal with datatypes\n",
    "@dataclass\n",
    "class Product:\n",
    "    manufacturer : str\n",
    "    title : str\n",
    "    price: str"
   ]
  },
  {
   "cell_type": "code",
   "execution_count": 3,
   "metadata": {},
   "outputs": [],
   "source": [
    "# Setting URL, Header and Parser\n",
    "def get_html(page):\n",
    "    url = f\"https://www.thomann.de/intl/lp_models.html?ls=25&pg={page}\"\n",
    "    headers={'User-Agent':'Mozilla/5.0 (Windows NT 6.3; Win 64 ; x64) Apple WeKit /537.36(KHTML , like Gecko) Chrome/80.0.3987.162 Safari/537.36'}\n",
    "    resp = httpx.get(url, headers=headers)\n",
    "    return HTMLParser(resp.text)\n",
    "\n",
    "# Setting up the Products using CSS Selectors\n",
    "def parse_products(html):\n",
    "    products = html.css(\"div.product\")\n",
    "\n",
    "    results = []\n",
    "    for item in products:\n",
    "        new_item = Product(\n",
    "            manufacturer=item.css_first(\"span.title__manufacturer\").text(),\n",
    "            title=item.css_first(\"span.title__name\").text(),\n",
    "            price=item.css_first(\"div.product__price-group\").text().split()[0].replace(\".\", \",\"))\n",
    "        results.append(asdict(new_item))\n",
    "    return results\n",
    "\n",
    "# Convert data to CSV\n",
    "def to_csv(res):\n",
    "    import os.path\n",
    "    file_exists = os.path.isfile(\"guitars.csv\")\n",
    "    with open(\"guitars.csv\", \"a\") as file:\n",
    "        writer = csv.DictWriter(file, fieldnames=[\"manufacturer\", \"title\", \"price\"])\n",
    "        if not file_exists:\n",
    "            writer.writeheader()        \n",
    "        writer.writerows(res)\n",
    "\n",
    "\n",
    "# Calls out all the functions\n",
    "def main():\n",
    "    for i in range(1,25):\n",
    "        html = get_html(i)\n",
    "        res = parse_products(html)\n",
    "        to_csv(res)"
   ]
  },
  {
   "cell_type": "code",
   "execution_count": 4,
   "metadata": {},
   "outputs": [],
   "source": [
    "main()"
   ]
  },
  {
   "cell_type": "code",
   "execution_count": 5,
   "metadata": {},
   "outputs": [
    {
     "data": {
      "text/html": [
       "<div>\n",
       "<style scoped>\n",
       "    .dataframe tbody tr th:only-of-type {\n",
       "        vertical-align: middle;\n",
       "    }\n",
       "\n",
       "    .dataframe tbody tr th {\n",
       "        vertical-align: top;\n",
       "    }\n",
       "\n",
       "    .dataframe thead th {\n",
       "        text-align: right;\n",
       "    }\n",
       "</style>\n",
       "<table border=\"1\" class=\"dataframe\">\n",
       "  <thead>\n",
       "    <tr style=\"text-align: right;\">\n",
       "      <th></th>\n",
       "      <th>manufacturer</th>\n",
       "      <th>title</th>\n",
       "      <th>price</th>\n",
       "    </tr>\n",
       "  </thead>\n",
       "  <tbody>\n",
       "    <tr>\n",
       "      <th>0</th>\n",
       "      <td>Harley Benton</td>\n",
       "      <td>SC-1000 SBK Progressive Line</td>\n",
       "      <td>175</td>\n",
       "    </tr>\n",
       "    <tr>\n",
       "      <th>1</th>\n",
       "      <td>Harley Benton</td>\n",
       "      <td>Electric Guitar Kit Single Cut</td>\n",
       "      <td>87</td>\n",
       "    </tr>\n",
       "    <tr>\n",
       "      <th>2</th>\n",
       "      <td>Harley Benton</td>\n",
       "      <td>SC-450 BK Classic Series</td>\n",
       "      <td>123</td>\n",
       "    </tr>\n",
       "    <tr>\n",
       "      <th>3</th>\n",
       "      <td>Harley Benton</td>\n",
       "      <td>SC-450 P90 GT Classic Series</td>\n",
       "      <td>132</td>\n",
       "    </tr>\n",
       "    <tr>\n",
       "      <th>4</th>\n",
       "      <td>Harley Benton</td>\n",
       "      <td>SC-450Plus HB Vintage Series</td>\n",
       "      <td>158</td>\n",
       "    </tr>\n",
       "    <tr>\n",
       "      <th>...</th>\n",
       "      <td>...</td>\n",
       "      <td>...</td>\n",
       "      <td>...</td>\n",
       "    </tr>\n",
       "    <tr>\n",
       "      <th>586</th>\n",
       "      <td>ESP</td>\n",
       "      <td>E-II Eclipse Snow Whit B-Stock</td>\n",
       "      <td>1,939</td>\n",
       "    </tr>\n",
       "    <tr>\n",
       "      <th>587</th>\n",
       "      <td>Gretsch</td>\n",
       "      <td>G2210 Streaml. Jr. Jet B-Stock</td>\n",
       "      <td>229</td>\n",
       "    </tr>\n",
       "    <tr>\n",
       "      <th>588</th>\n",
       "      <td>Gretsch</td>\n",
       "      <td>G6128T-53 VS Duo Jet B B-Stock</td>\n",
       "      <td>2,399</td>\n",
       "    </tr>\n",
       "    <tr>\n",
       "      <th>589</th>\n",
       "      <td>ESP</td>\n",
       "      <td>LTD EC-1000FR Black Sa B-Stock</td>\n",
       "      <td>1,025</td>\n",
       "    </tr>\n",
       "    <tr>\n",
       "      <th>590</th>\n",
       "      <td>Harley Benton</td>\n",
       "      <td>SC-200 BK Student Serie Bundle</td>\n",
       "      <td>211</td>\n",
       "    </tr>\n",
       "  </tbody>\n",
       "</table>\n",
       "<p>591 rows × 3 columns</p>\n",
       "</div>"
      ],
      "text/plain": [
       "      manufacturer                           title  price\n",
       "0    Harley Benton    SC-1000 SBK Progressive Line    175\n",
       "1    Harley Benton  Electric Guitar Kit Single Cut     87\n",
       "2    Harley Benton        SC-450 BK Classic Series    123\n",
       "3    Harley Benton    SC-450 P90 GT Classic Series    132\n",
       "4    Harley Benton    SC-450Plus HB Vintage Series    158\n",
       "..             ...                             ...    ...\n",
       "586            ESP  E-II Eclipse Snow Whit B-Stock  1,939\n",
       "587        Gretsch  G2210 Streaml. Jr. Jet B-Stock    229\n",
       "588        Gretsch  G6128T-53 VS Duo Jet B B-Stock  2,399\n",
       "589            ESP  LTD EC-1000FR Black Sa B-Stock  1,025\n",
       "590  Harley Benton  SC-200 BK Student Serie Bundle    211\n",
       "\n",
       "[591 rows x 3 columns]"
      ]
     },
     "execution_count": 5,
     "metadata": {},
     "output_type": "execute_result"
    }
   ],
   "source": [
    "import pandas as pd\n",
    "\n",
    "pd.read_csv(\"guitars.csv\", encoding=\"Latin-1\")"
   ]
  },
  {
   "cell_type": "code",
   "execution_count": null,
   "metadata": {},
   "outputs": [],
   "source": []
  }
 ],
 "metadata": {
  "kernelspec": {
   "display_name": "selenium_env",
   "language": "python",
   "name": "python3"
  },
  "language_info": {
   "codemirror_mode": {
    "name": "ipython",
    "version": 3
   },
   "file_extension": ".py",
   "mimetype": "text/x-python",
   "name": "python",
   "nbconvert_exporter": "python",
   "pygments_lexer": "ipython3",
   "version": "3.10.8"
  },
  "orig_nbformat": 4,
  "vscode": {
   "interpreter": {
    "hash": "630b974f88e77e6c0afc16e6983d3f061372a1679273518474dff7d5f0800fb8"
   }
  }
 },
 "nbformat": 4,
 "nbformat_minor": 2
}
