{
 "cells": [
  {
   "attachments": {},
   "cell_type": "markdown",
   "metadata": {},
   "source": [
    "# **Imbalanced Data:** Handling Techniques\n",
    "A classification data set with skewed class proportions is called imbalanced. \n",
    "* **Majority Class:** Classes that make up a large proportion of the dataset\n",
    "* **Minority Class:** Classes that make up a smaller proportion of the dataset"
   ]
  },
  {
   "cell_type": "code",
   "execution_count": null,
   "metadata": {},
   "outputs": [],
   "source": []
  }
 ],
 "metadata": {
  "language_info": {
   "name": "python"
  },
  "orig_nbformat": 4
 },
 "nbformat": 4,
 "nbformat_minor": 2
}
