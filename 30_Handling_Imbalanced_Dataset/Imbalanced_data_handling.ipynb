{
  "cells": [
    {
      "cell_type": "markdown",
      "metadata": {
        "id": "r961Ukr2Dbvd"
      },
      "source": [
        "# **Imbalanced Data:** Handling Techniques\n",
        "* **Name:** Arsalan Ali\n",
        "* **Email:** arslanchaos@gmail.com\n",
        "\n",
        "#### **What is Imbalanced Data?**\n",
        "A classification dataset with skewed class proportions is called imbalanced. \n",
        "* **Majority Class:** Classes that make up a large proportion of the dataset\n",
        "* **Minority Class:** Classes that make up a smaller proportion of the dataset\n",
        "\n",
        "\n",
        "#### **Methods to Handle Imbalanced Data:**\n",
        "* More Data Collection\n",
        "* Undersampling Techniques\n",
        "* Oversampling Techniques\n",
        "* Hybrid Techniques\n",
        "* Ensemble Models\n",
        "\n",
        "#### **Method Priority:**\n",
        "More Data > Ensemble > Oversampling > Hybrid > Undersampling\n"
      ]
    },
    {
      "cell_type": "markdown",
      "metadata": {
        "id": "FYARkYH5Dbvn"
      },
      "source": [
        "### **Importing Libraries**"
      ]
    },
    {
      "cell_type": "code",
      "execution_count": 72,
      "metadata": {
        "id": "RLqfMBehDbvo"
      },
      "outputs": [],
      "source": [
        "import numpy as np\n",
        "import pandas as pd\n",
        "import seaborn as sns\n",
        "import matplotlib.pyplot as plt\n",
        "\n",
        "from sklearn import metrics\n",
        "from sklearn.model_selection import cross_val_score\n",
        "from sklearn.linear_model import LogisticRegression\n",
        "from sklearn.model_selection import train_test_split\n",
        "from sklearn.metrics import accuracy_score,confusion_matrix,classification_report"
      ]
    },
    {
      "cell_type": "code",
      "source": [
        "from google.colab import drive\n",
        "drive.mount('/content/drive')"
      ],
      "metadata": {
        "colab": {
          "base_uri": "https://localhost:8080/"
        },
        "id": "eU4yoi9iH0_3",
        "outputId": "5908f7b5-79cc-4d95-a05d-89b34fa21b8f"
      },
      "execution_count": 2,
      "outputs": [
        {
          "output_type": "stream",
          "name": "stdout",
          "text": [
            "Mounted at /content/drive\n"
          ]
        }
      ]
    },
    {
      "cell_type": "markdown",
      "metadata": {
        "id": "fIrRKm_nDbvs"
      },
      "source": [
        "### **Importing Dataset**"
      ]
    },
    {
      "cell_type": "code",
      "execution_count": 73,
      "metadata": {
        "colab": {
          "base_uri": "https://localhost:8080/",
          "height": 300
        },
        "id": "OlFp7D1HDbvt",
        "outputId": "f11b16df-dc81-4683-e96f-00ef793a5e32"
      },
      "outputs": [
        {
          "output_type": "execute_result",
          "data": {
            "text/plain": [
              "   Time        V1        V2        V3        V4        V5        V6        V7  \\\n",
              "0   0.0 -1.359807 -0.072781  2.536347  1.378155 -0.338321  0.462388  0.239599   \n",
              "1   0.0  1.191857  0.266151  0.166480  0.448154  0.060018 -0.082361 -0.078803   \n",
              "2   1.0 -1.358354 -1.340163  1.773209  0.379780 -0.503198  1.800499  0.791461   \n",
              "3   1.0 -0.966272 -0.185226  1.792993 -0.863291 -0.010309  1.247203  0.237609   \n",
              "4   2.0 -1.158233  0.877737  1.548718  0.403034 -0.407193  0.095921  0.592941   \n",
              "\n",
              "         V8        V9  ...       V21       V22       V23       V24       V25  \\\n",
              "0  0.098698  0.363787  ... -0.018307  0.277838 -0.110474  0.066928  0.128539   \n",
              "1  0.085102 -0.255425  ... -0.225775 -0.638672  0.101288 -0.339846  0.167170   \n",
              "2  0.247676 -1.514654  ...  0.247998  0.771679  0.909412 -0.689281 -0.327642   \n",
              "3  0.377436 -1.387024  ... -0.108300  0.005274 -0.190321 -1.175575  0.647376   \n",
              "4 -0.270533  0.817739  ... -0.009431  0.798278 -0.137458  0.141267 -0.206010   \n",
              "\n",
              "        V26       V27       V28  Amount  Class  \n",
              "0 -0.189115  0.133558 -0.021053  149.62      0  \n",
              "1  0.125895 -0.008983  0.014724    2.69      0  \n",
              "2 -0.139097 -0.055353 -0.059752  378.66      0  \n",
              "3 -0.221929  0.062723  0.061458  123.50      0  \n",
              "4  0.502292  0.219422  0.215153   69.99      0  \n",
              "\n",
              "[5 rows x 31 columns]"
            ],
            "text/html": [
              "\n",
              "  <div id=\"df-9ac45ea0-5e9a-42a9-9137-a4e487b99b38\">\n",
              "    <div class=\"colab-df-container\">\n",
              "      <div>\n",
              "<style scoped>\n",
              "    .dataframe tbody tr th:only-of-type {\n",
              "        vertical-align: middle;\n",
              "    }\n",
              "\n",
              "    .dataframe tbody tr th {\n",
              "        vertical-align: top;\n",
              "    }\n",
              "\n",
              "    .dataframe thead th {\n",
              "        text-align: right;\n",
              "    }\n",
              "</style>\n",
              "<table border=\"1\" class=\"dataframe\">\n",
              "  <thead>\n",
              "    <tr style=\"text-align: right;\">\n",
              "      <th></th>\n",
              "      <th>Time</th>\n",
              "      <th>V1</th>\n",
              "      <th>V2</th>\n",
              "      <th>V3</th>\n",
              "      <th>V4</th>\n",
              "      <th>V5</th>\n",
              "      <th>V6</th>\n",
              "      <th>V7</th>\n",
              "      <th>V8</th>\n",
              "      <th>V9</th>\n",
              "      <th>...</th>\n",
              "      <th>V21</th>\n",
              "      <th>V22</th>\n",
              "      <th>V23</th>\n",
              "      <th>V24</th>\n",
              "      <th>V25</th>\n",
              "      <th>V26</th>\n",
              "      <th>V27</th>\n",
              "      <th>V28</th>\n",
              "      <th>Amount</th>\n",
              "      <th>Class</th>\n",
              "    </tr>\n",
              "  </thead>\n",
              "  <tbody>\n",
              "    <tr>\n",
              "      <th>0</th>\n",
              "      <td>0.0</td>\n",
              "      <td>-1.359807</td>\n",
              "      <td>-0.072781</td>\n",
              "      <td>2.536347</td>\n",
              "      <td>1.378155</td>\n",
              "      <td>-0.338321</td>\n",
              "      <td>0.462388</td>\n",
              "      <td>0.239599</td>\n",
              "      <td>0.098698</td>\n",
              "      <td>0.363787</td>\n",
              "      <td>...</td>\n",
              "      <td>-0.018307</td>\n",
              "      <td>0.277838</td>\n",
              "      <td>-0.110474</td>\n",
              "      <td>0.066928</td>\n",
              "      <td>0.128539</td>\n",
              "      <td>-0.189115</td>\n",
              "      <td>0.133558</td>\n",
              "      <td>-0.021053</td>\n",
              "      <td>149.62</td>\n",
              "      <td>0</td>\n",
              "    </tr>\n",
              "    <tr>\n",
              "      <th>1</th>\n",
              "      <td>0.0</td>\n",
              "      <td>1.191857</td>\n",
              "      <td>0.266151</td>\n",
              "      <td>0.166480</td>\n",
              "      <td>0.448154</td>\n",
              "      <td>0.060018</td>\n",
              "      <td>-0.082361</td>\n",
              "      <td>-0.078803</td>\n",
              "      <td>0.085102</td>\n",
              "      <td>-0.255425</td>\n",
              "      <td>...</td>\n",
              "      <td>-0.225775</td>\n",
              "      <td>-0.638672</td>\n",
              "      <td>0.101288</td>\n",
              "      <td>-0.339846</td>\n",
              "      <td>0.167170</td>\n",
              "      <td>0.125895</td>\n",
              "      <td>-0.008983</td>\n",
              "      <td>0.014724</td>\n",
              "      <td>2.69</td>\n",
              "      <td>0</td>\n",
              "    </tr>\n",
              "    <tr>\n",
              "      <th>2</th>\n",
              "      <td>1.0</td>\n",
              "      <td>-1.358354</td>\n",
              "      <td>-1.340163</td>\n",
              "      <td>1.773209</td>\n",
              "      <td>0.379780</td>\n",
              "      <td>-0.503198</td>\n",
              "      <td>1.800499</td>\n",
              "      <td>0.791461</td>\n",
              "      <td>0.247676</td>\n",
              "      <td>-1.514654</td>\n",
              "      <td>...</td>\n",
              "      <td>0.247998</td>\n",
              "      <td>0.771679</td>\n",
              "      <td>0.909412</td>\n",
              "      <td>-0.689281</td>\n",
              "      <td>-0.327642</td>\n",
              "      <td>-0.139097</td>\n",
              "      <td>-0.055353</td>\n",
              "      <td>-0.059752</td>\n",
              "      <td>378.66</td>\n",
              "      <td>0</td>\n",
              "    </tr>\n",
              "    <tr>\n",
              "      <th>3</th>\n",
              "      <td>1.0</td>\n",
              "      <td>-0.966272</td>\n",
              "      <td>-0.185226</td>\n",
              "      <td>1.792993</td>\n",
              "      <td>-0.863291</td>\n",
              "      <td>-0.010309</td>\n",
              "      <td>1.247203</td>\n",
              "      <td>0.237609</td>\n",
              "      <td>0.377436</td>\n",
              "      <td>-1.387024</td>\n",
              "      <td>...</td>\n",
              "      <td>-0.108300</td>\n",
              "      <td>0.005274</td>\n",
              "      <td>-0.190321</td>\n",
              "      <td>-1.175575</td>\n",
              "      <td>0.647376</td>\n",
              "      <td>-0.221929</td>\n",
              "      <td>0.062723</td>\n",
              "      <td>0.061458</td>\n",
              "      <td>123.50</td>\n",
              "      <td>0</td>\n",
              "    </tr>\n",
              "    <tr>\n",
              "      <th>4</th>\n",
              "      <td>2.0</td>\n",
              "      <td>-1.158233</td>\n",
              "      <td>0.877737</td>\n",
              "      <td>1.548718</td>\n",
              "      <td>0.403034</td>\n",
              "      <td>-0.407193</td>\n",
              "      <td>0.095921</td>\n",
              "      <td>0.592941</td>\n",
              "      <td>-0.270533</td>\n",
              "      <td>0.817739</td>\n",
              "      <td>...</td>\n",
              "      <td>-0.009431</td>\n",
              "      <td>0.798278</td>\n",
              "      <td>-0.137458</td>\n",
              "      <td>0.141267</td>\n",
              "      <td>-0.206010</td>\n",
              "      <td>0.502292</td>\n",
              "      <td>0.219422</td>\n",
              "      <td>0.215153</td>\n",
              "      <td>69.99</td>\n",
              "      <td>0</td>\n",
              "    </tr>\n",
              "  </tbody>\n",
              "</table>\n",
              "<p>5 rows × 31 columns</p>\n",
              "</div>\n",
              "      <button class=\"colab-df-convert\" onclick=\"convertToInteractive('df-9ac45ea0-5e9a-42a9-9137-a4e487b99b38')\"\n",
              "              title=\"Convert this dataframe to an interactive table.\"\n",
              "              style=\"display:none;\">\n",
              "        \n",
              "  <svg xmlns=\"http://www.w3.org/2000/svg\" height=\"24px\"viewBox=\"0 0 24 24\"\n",
              "       width=\"24px\">\n",
              "    <path d=\"M0 0h24v24H0V0z\" fill=\"none\"/>\n",
              "    <path d=\"M18.56 5.44l.94 2.06.94-2.06 2.06-.94-2.06-.94-.94-2.06-.94 2.06-2.06.94zm-11 1L8.5 8.5l.94-2.06 2.06-.94-2.06-.94L8.5 2.5l-.94 2.06-2.06.94zm10 10l.94 2.06.94-2.06 2.06-.94-2.06-.94-.94-2.06-.94 2.06-2.06.94z\"/><path d=\"M17.41 7.96l-1.37-1.37c-.4-.4-.92-.59-1.43-.59-.52 0-1.04.2-1.43.59L10.3 9.45l-7.72 7.72c-.78.78-.78 2.05 0 2.83L4 21.41c.39.39.9.59 1.41.59.51 0 1.02-.2 1.41-.59l7.78-7.78 2.81-2.81c.8-.78.8-2.07 0-2.86zM5.41 20L4 18.59l7.72-7.72 1.47 1.35L5.41 20z\"/>\n",
              "  </svg>\n",
              "      </button>\n",
              "      \n",
              "  <style>\n",
              "    .colab-df-container {\n",
              "      display:flex;\n",
              "      flex-wrap:wrap;\n",
              "      gap: 12px;\n",
              "    }\n",
              "\n",
              "    .colab-df-convert {\n",
              "      background-color: #E8F0FE;\n",
              "      border: none;\n",
              "      border-radius: 50%;\n",
              "      cursor: pointer;\n",
              "      display: none;\n",
              "      fill: #1967D2;\n",
              "      height: 32px;\n",
              "      padding: 0 0 0 0;\n",
              "      width: 32px;\n",
              "    }\n",
              "\n",
              "    .colab-df-convert:hover {\n",
              "      background-color: #E2EBFA;\n",
              "      box-shadow: 0px 1px 2px rgba(60, 64, 67, 0.3), 0px 1px 3px 1px rgba(60, 64, 67, 0.15);\n",
              "      fill: #174EA6;\n",
              "    }\n",
              "\n",
              "    [theme=dark] .colab-df-convert {\n",
              "      background-color: #3B4455;\n",
              "      fill: #D2E3FC;\n",
              "    }\n",
              "\n",
              "    [theme=dark] .colab-df-convert:hover {\n",
              "      background-color: #434B5C;\n",
              "      box-shadow: 0px 1px 3px 1px rgba(0, 0, 0, 0.15);\n",
              "      filter: drop-shadow(0px 1px 2px rgba(0, 0, 0, 0.3));\n",
              "      fill: #FFFFFF;\n",
              "    }\n",
              "  </style>\n",
              "\n",
              "      <script>\n",
              "        const buttonEl =\n",
              "          document.querySelector('#df-9ac45ea0-5e9a-42a9-9137-a4e487b99b38 button.colab-df-convert');\n",
              "        buttonEl.style.display =\n",
              "          google.colab.kernel.accessAllowed ? 'block' : 'none';\n",
              "\n",
              "        async function convertToInteractive(key) {\n",
              "          const element = document.querySelector('#df-9ac45ea0-5e9a-42a9-9137-a4e487b99b38');\n",
              "          const dataTable =\n",
              "            await google.colab.kernel.invokeFunction('convertToInteractive',\n",
              "                                                     [key], {});\n",
              "          if (!dataTable) return;\n",
              "\n",
              "          const docLinkHtml = 'Like what you see? Visit the ' +\n",
              "            '<a target=\"_blank\" href=https://colab.research.google.com/notebooks/data_table.ipynb>data table notebook</a>'\n",
              "            + ' to learn more about interactive tables.';\n",
              "          element.innerHTML = '';\n",
              "          dataTable['output_type'] = 'display_data';\n",
              "          await google.colab.output.renderOutput(dataTable, element);\n",
              "          const docLink = document.createElement('div');\n",
              "          docLink.innerHTML = docLinkHtml;\n",
              "          element.appendChild(docLink);\n",
              "        }\n",
              "      </script>\n",
              "    </div>\n",
              "  </div>\n",
              "  "
            ]
          },
          "metadata": {},
          "execution_count": 73
        }
      ],
      "source": [
        "df = pd.read_parquet('/content/drive/MyDrive/Colab Notebooks/creditcard.parquet')\n",
        "df.head()"
      ]
    },
    {
      "cell_type": "markdown",
      "metadata": {
        "id": "r9J6G500Dbvw"
      },
      "source": [
        "### **Dataset Info**"
      ]
    },
    {
      "cell_type": "code",
      "execution_count": 4,
      "metadata": {
        "colab": {
          "base_uri": "https://localhost:8080/"
        },
        "id": "CzypIOWXDbvw",
        "outputId": "f41360b3-0d4b-4200-ade5-73bc7434233e"
      },
      "outputs": [
        {
          "output_type": "stream",
          "name": "stdout",
          "text": [
            "(284807, 31)\n",
            "<class 'pandas.core.frame.DataFrame'>\n",
            "RangeIndex: 284807 entries, 0 to 284806\n",
            "Data columns (total 31 columns):\n",
            " #   Column  Non-Null Count   Dtype  \n",
            "---  ------  --------------   -----  \n",
            " 0   Time    284807 non-null  float64\n",
            " 1   V1      284807 non-null  float64\n",
            " 2   V2      284807 non-null  float64\n",
            " 3   V3      284807 non-null  float64\n",
            " 4   V4      284807 non-null  float64\n",
            " 5   V5      284807 non-null  float64\n",
            " 6   V6      284807 non-null  float64\n",
            " 7   V7      284807 non-null  float64\n",
            " 8   V8      284807 non-null  float64\n",
            " 9   V9      284807 non-null  float64\n",
            " 10  V10     284807 non-null  float64\n",
            " 11  V11     284807 non-null  float64\n",
            " 12  V12     284807 non-null  float64\n",
            " 13  V13     284807 non-null  float64\n",
            " 14  V14     284807 non-null  float64\n",
            " 15  V15     284807 non-null  float64\n",
            " 16  V16     284807 non-null  float64\n",
            " 17  V17     284807 non-null  float64\n",
            " 18  V18     284807 non-null  float64\n",
            " 19  V19     284807 non-null  float64\n",
            " 20  V20     284807 non-null  float64\n",
            " 21  V21     284807 non-null  float64\n",
            " 22  V22     284807 non-null  float64\n",
            " 23  V23     284807 non-null  float64\n",
            " 24  V24     284807 non-null  float64\n",
            " 25  V25     284807 non-null  float64\n",
            " 26  V26     284807 non-null  float64\n",
            " 27  V27     284807 non-null  float64\n",
            " 28  V28     284807 non-null  float64\n",
            " 29  Amount  284807 non-null  float64\n",
            " 30  Class   284807 non-null  int64  \n",
            "dtypes: float64(30), int64(1)\n",
            "memory usage: 67.4 MB\n"
          ]
        }
      ],
      "source": [
        "print(df.shape)\n",
        "df.info()"
      ]
    },
    {
      "cell_type": "markdown",
      "metadata": {
        "id": "J824l4v2Dbvy"
      },
      "source": [
        "### **Check for Missing Data**"
      ]
    },
    {
      "cell_type": "code",
      "execution_count": 4,
      "metadata": {
        "colab": {
          "base_uri": "https://localhost:8080/"
        },
        "id": "DaY-SaTrDbvy",
        "outputId": "0223293f-d0dd-430c-c48e-ac6665b5f9ba"
      },
      "outputs": [
        {
          "output_type": "execute_result",
          "data": {
            "text/plain": [
              "Time      0\n",
              "V1        0\n",
              "V2        0\n",
              "V3        0\n",
              "V4        0\n",
              "V5        0\n",
              "V6        0\n",
              "V7        0\n",
              "V8        0\n",
              "V9        0\n",
              "V10       0\n",
              "V11       0\n",
              "V12       0\n",
              "V13       0\n",
              "V14       0\n",
              "V15       0\n",
              "V16       0\n",
              "V17       0\n",
              "V18       0\n",
              "V19       0\n",
              "V20       0\n",
              "V21       0\n",
              "V22       0\n",
              "V23       0\n",
              "V24       0\n",
              "V25       0\n",
              "V26       0\n",
              "V27       0\n",
              "V28       0\n",
              "Amount    0\n",
              "Class     0\n",
              "dtype: int64"
            ]
          },
          "metadata": {},
          "execution_count": 4
        }
      ],
      "source": [
        "df.isnull().sum()"
      ]
    },
    {
      "cell_type": "markdown",
      "metadata": {
        "id": "CTpYPE2vDbvz"
      },
      "source": [
        "### **Value Counts**"
      ]
    },
    {
      "cell_type": "code",
      "execution_count": 74,
      "metadata": {
        "colab": {
          "base_uri": "https://localhost:8080/"
        },
        "id": "RfjnA2AJDbv0",
        "outputId": "0f41c738-f24f-46d1-bfe0-d7bd100590be"
      },
      "outputs": [
        {
          "output_type": "execute_result",
          "data": {
            "text/plain": [
              "0    284315\n",
              "1       492\n",
              "Name: Class, dtype: int64"
            ]
          },
          "metadata": {},
          "execution_count": 74
        }
      ],
      "source": [
        "df['Class'].value_counts()"
      ]
    },
    {
      "cell_type": "markdown",
      "metadata": {
        "id": "8t3PLjiGDbv1"
      },
      "source": [
        "### **Exploratory Data Analysis**"
      ]
    },
    {
      "cell_type": "code",
      "execution_count": 75,
      "metadata": {
        "colab": {
          "base_uri": "https://localhost:8080/"
        },
        "id": "UjRsxfIwDbv2",
        "outputId": "99c0a8a8-5df7-45ed-d65a-d9fc0a302a71"
      },
      "outputs": [
        {
          "output_type": "stream",
          "name": "stdout",
          "text": [
            "(284315, 31) (492, 31)\n"
          ]
        }
      ],
      "source": [
        "\n",
        "legit = df[df.Class == 0]\n",
        "fraud = df[df.Class == 1]\n",
        "\n",
        "print(legit.shape, fraud.shape)"
      ]
    },
    {
      "cell_type": "markdown",
      "source": [
        "**For the purpose of demonstration we're reducing the size of dataset**<br>\n",
        "**so all algorithms may run on it**"
      ],
      "metadata": {
        "id": "ZWL3VWimIdNu"
      }
    },
    {
      "cell_type": "code",
      "source": [
        "legit = legit.sample(20000)"
      ],
      "metadata": {
        "id": "kSj17hWFIT_H"
      },
      "execution_count": 28,
      "outputs": []
    },
    {
      "cell_type": "code",
      "source": [
        "df = pd.concat([legit, fraud])"
      ],
      "metadata": {
        "id": "pFmHT7YyIxTv"
      },
      "execution_count": 29,
      "outputs": []
    },
    {
      "cell_type": "code",
      "execution_count": 30,
      "metadata": {
        "id": "iXLqkc5RDbv3"
      },
      "outputs": [],
      "source": [
        "def plotting(data):\n",
        "\n",
        "    fig, (ax1, ax2) = plt.subplots(1, 2, figsize=(10, 6))\n",
        "    fig.suptitle('Legit vs Fraud Transactions')\n",
        "    ax1.pie(data.value_counts(), labels= ['Legit', 'Fraud'],\n",
        "        colors=[\"purple\", \"orange\"], startangle=270,autopct='%1.1f%%')\n",
        "    ax2.bar([\"0 : Legit\", \"1 : Fraud\"], data.value_counts().values)\n",
        "    for bars in ax2.containers:\n",
        "        ax2.bar_label(bars)\n",
        "    plt.show()"
      ]
    },
    {
      "cell_type": "code",
      "execution_count": 31,
      "metadata": {
        "colab": {
          "base_uri": "https://localhost:8080/",
          "height": 417
        },
        "id": "Jn4sjNExDbv4",
        "outputId": "642248b0-a70c-43aa-e8ca-f6cbbae9587f"
      },
      "outputs": [
        {
          "output_type": "display_data",
          "data": {
            "text/plain": [
              "<Figure size 720x432 with 2 Axes>"
            ],
            "image/png": "[encoded data removed]"
          },
          "metadata": {
            "needs_background": "light"
          }
        }
      ],
      "source": [
        "plotting(df['Class'])"
      ]
    },
    {
      "cell_type": "code",
      "execution_count": 32,
      "metadata": {
        "colab": {
          "base_uri": "https://localhost:8080/"
        },
        "id": "3XCvXtOxDbv5",
        "outputId": "bdf0f6a9-ee09-45a2-be97-e38746df5026"
      },
      "outputs": [
        {
          "output_type": "execute_result",
          "data": {
            "text/plain": [
              "count    20000.000000\n",
              "mean        87.405036\n",
              "std        241.066567\n",
              "min          0.000000\n",
              "25%          5.380000\n",
              "50%         21.295000\n",
              "75%         77.000000\n",
              "max      12910.930000\n",
              "Name: Amount, dtype: float64"
            ]
          },
          "metadata": {},
          "execution_count": 32
        }
      ],
      "source": [
        "legit[\"Amount\"].describe()"
      ]
    },
    {
      "cell_type": "code",
      "execution_count": 33,
      "metadata": {
        "colab": {
          "base_uri": "https://localhost:8080/"
        },
        "id": "SONI1dtmDbv7",
        "outputId": "4e1712f9-25c5-4f1c-f0f2-3b0b1e1ce2b7"
      },
      "outputs": [
        {
          "output_type": "execute_result",
          "data": {
            "text/plain": [
              "count     492.000000\n",
              "mean      122.211321\n",
              "std       256.683288\n",
              "min         0.000000\n",
              "25%         1.000000\n",
              "50%         9.250000\n",
              "75%       105.890000\n",
              "max      2125.870000\n",
              "Name: Amount, dtype: float64"
            ]
          },
          "metadata": {},
          "execution_count": 33
        }
      ],
      "source": [
        "fraud[\"Amount\"].describe()"
      ]
    },
    {
      "cell_type": "code",
      "execution_count": 34,
      "metadata": {
        "colab": {
          "base_uri": "https://localhost:8080/"
        },
        "id": "mA5lgapADbv9",
        "outputId": "9b5eaa4a-d915-4fb0-97b9-0e2862ae1772"
      },
      "outputs": [
        {
          "output_type": "execute_result",
          "data": {
            "text/plain": [
              "Index(['Time', 'V1', 'V2', 'V3', 'V4', 'V5', 'V6', 'V7', 'V8', 'V9', 'V10',\n",
              "       'V11', 'V12', 'V13', 'V14', 'V15', 'V16', 'V17', 'V18', 'V19', 'V20',\n",
              "       'V21', 'V22', 'V23', 'V24', 'V25', 'V26', 'V27', 'V28', 'Amount',\n",
              "       'Class'],\n",
              "      dtype='object')"
            ]
          },
          "metadata": {},
          "execution_count": 34
        }
      ],
      "source": [
        "df.columns"
      ]
    },
    {
      "cell_type": "code",
      "execution_count": 35,
      "metadata": {
        "colab": {
          "base_uri": "https://localhost:8080/",
          "height": 286
        },
        "id": "CNUZTDgLDbwB",
        "outputId": "ebee9b5f-f933-4065-f5fd-d70728b33e81"
      },
      "outputs": [
        {
          "output_type": "execute_result",
          "data": {
            "text/plain": [
              "<AxesSubplot:>"
            ]
          },
          "metadata": {},
          "execution_count": 35
        },
        {
          "output_type": "display_data",
          "data": {
            "text/plain": [
              "<Figure size 720x288 with 2 Axes>"
            ],
            "image/png": "[encoded data removed]"
          },
          "metadata": {
            "needs_background": "light"
          }
        }
      ],
      "source": [
        "corr = df[['Time', 'V1', 'V2', 'V3', 'V4','Amount','Class']].corr()\n",
        "plt.figure(figsize=(10,4))\n",
        "sns.heatmap(corr, cmap='RdBu', vmin=-1, vmax= 1 , annot=True)"
      ]
    },
    {
      "cell_type": "markdown",
      "metadata": {
        "id": "eu3RCBQnDbwN"
      },
      "source": [
        "### **Model Development and Validation**"
      ]
    },
    {
      "cell_type": "code",
      "execution_count": 36,
      "metadata": {
        "id": "tL0rNNyuDbwO"
      },
      "outputs": [],
      "source": [
        "def model_validation(X, y):\n",
        "    model = LogisticRegression(max_iter=400, n_jobs=-1)\n",
        "\n",
        "    X_train, X_test, y_train, y_test = train_test_split(X,y, test_size=0.2, random_state=42)\n",
        "    model.fit(X_train, y_train)\n",
        "    y_pred = model.predict(X_test)\n",
        "\n",
        "    confusion = confusion_matrix(y_test,y_pred)\n",
        "    accuracy = accuracy_score(y_test, y_pred)\n",
        "    report = classification_report(y_test,y_pred)\n",
        "\n",
        "    print(f\"THE CONFUSION MATRIX:\\n{confusion}\\n\")\n",
        "    print(f\"THE ACCURACY SCORE (Misleading): {accuracy}\\n\")\n",
        "    print(f\"THE CLASSIFICATION REPORT:\\n{report}\")\n",
        "    "
      ]
    },
    {
      "cell_type": "code",
      "execution_count": 37,
      "metadata": {
        "colab": {
          "base_uri": "https://localhost:8080/"
        },
        "id": "mkOUsTa-DbwQ",
        "outputId": "7544dc40-e774-416d-9132-edc45f58a8b6"
      },
      "outputs": [
        {
          "output_type": "stream",
          "name": "stdout",
          "text": [
            "THE CONFUSION MATRIX:\n",
            "[[3995    5]\n",
            " [  13   86]]\n",
            "\n",
            "THE ACCURACY SCORE (Misleading): 0.995608685045133\n",
            "\n",
            "THE CLASSIFICATION REPORT:\n",
            "              precision    recall  f1-score   support\n",
            "\n",
            "           0       1.00      1.00      1.00      4000\n",
            "           1       0.95      0.87      0.91        99\n",
            "\n",
            "    accuracy                           1.00      4099\n",
            "   macro avg       0.97      0.93      0.95      4099\n",
            "weighted avg       1.00      1.00      1.00      4099\n",
            "\n"
          ]
        }
      ],
      "source": [
        "X_org = df.iloc[:,:30]\n",
        "y_org = df.iloc[:,-1]\n",
        "\n",
        "model_validation(X_org, y_org)"
      ]
    },
    {
      "cell_type": "markdown",
      "metadata": {
        "id": "-5X8SfqaDbwR"
      },
      "source": [
        "---\n",
        "## **Under-Sampling Techniques**\n",
        "* **Manual:** We undersample the Majority class to match the size of Minority class\n",
        "* **Imblearn Techniques:**\n",
        "    * RandomUnderSampler\n",
        "    * NearMiss\n",
        "    * EditedNearestNeighbours\n",
        "    * CondensedNearestNeighbours\n",
        "    * InstanceHardnessThreshold\n",
        "    * TomekLinks"
      ]
    },
    {
      "cell_type": "markdown",
      "source": [
        "| Undersampling Technique | Description | Pros & Cons |\n",
        "| --- | --- | --- |\n",
        "| RandomUnderSampler | Randomly selects a subset of majority class instances to balance the class distribution. | ✔️ Simple and effective. <br> ❌ May discard informative data. |\n",
        "| NearMiss | Selects samples from the majority class that are closest to the minority class. | ✔️ Can help reduce class imbalance without discarding too many samples. <br> ❌ Only works well when the decision boundary is well-defined. |\n",
        "| EditedNearestNeighbours | Removes majority class samples that are misclassified by the k-nearest neighbor classifier. | ✔️ Can improve the decision boundary by removing noisy samples. <br> ❌ May not work well when the decision boundary is complex.|\n",
        "| CondensedNearestNeighbours | Creates a subset of the majority class that can represent the entire class. | ✔️ Can reduce the size of the dataset while still retaining the original distribution of classes. <br> ❌ Can be computationally expensive. |\n",
        "| InstanceHardnessThreshold | Identifies samples that are misclassified with high certainty and removes them. | ✔️ Can remove samples that are likely to be noisy or mislabeled. <br> ❌ Can be sensitive to the choice of classifier. |\n",
        "| TomekLinks | Identifies pairs of samples from different classes that are nearest neighbors and removes the majority class instance. | ✔️ Can help improve the decision boundary by removing noisy samples. <br> ❌ May not work well when the minority class is sparse. |\n"
      ],
      "metadata": {
        "id": "qz6qYkpHIg1-"
      }
    },
    {
      "cell_type": "markdown",
      "metadata": {
        "id": "tgpdX2CQDbwS"
      },
      "source": [
        "### **Manual Undersampling**"
      ]
    },
    {
      "cell_type": "code",
      "execution_count": 38,
      "metadata": {
        "colab": {
          "base_uri": "https://localhost:8080/",
          "height": 300
        },
        "id": "ozLLsNk7DbwT",
        "outputId": "7eb23cf9-4bcb-42a7-9ec1-e9bd4e53c4af"
      },
      "outputs": [
        {
          "output_type": "execute_result",
          "data": {
            "text/plain": [
              "            Time        V1        V2        V3        V4        V5        V6  \\\n",
              "258028  158456.0  2.034883  0.284327 -2.396533  0.791946  0.676932 -0.899122   \n",
              "123358   76894.0 -3.743769  0.588051  0.603599  1.601632 -1.101007  0.519601   \n",
              "259377  159087.0  1.975821 -0.101014 -2.133557  0.269500  0.570056 -0.505033   \n",
              "164912  117071.0  1.379321 -0.955902 -2.276028  0.660305  0.132659 -0.873930   \n",
              "102440   68207.0 -1.171197  1.039103  1.405342  0.972502  0.220715 -0.928678   \n",
              "\n",
              "              V7        V8        V9  ...       V21       V22       V23  \\\n",
              "258028  0.150210 -0.186130  0.765481  ... -0.029700  0.200956 -0.014932   \n",
              "123358 -1.560864 -1.909120  0.263053  ... -1.281613  1.034914  0.579611   \n",
              "259377  0.126126 -0.158610  1.066338  ... -0.274778 -0.684725  0.088201   \n",
              "164912  0.698722 -0.425980  0.226641  ...  0.380609  0.402984 -0.286689   \n",
              "102440  0.344191  0.262082 -1.143424  ...  0.179758  0.290998 -0.346720   \n",
              "\n",
              "             V24       V25       V26       V27       V28  Amount  Class  \n",
              "258028  0.454825  0.214874  0.704335 -0.040761 -0.007378    9.31      0  \n",
              "123358  0.436872  0.035116 -0.271347 -1.002611  0.559776   57.91      0  \n",
              "259377 -0.044967  0.024438 -0.086924 -0.021561 -0.008965   63.22      0  \n",
              "164912  0.669812 -0.006043  0.609745 -0.132876  0.029890  370.66      0  \n",
              "102440  0.435099  0.564471 -0.200885 -0.038164 -0.057133    5.00      0  \n",
              "\n",
              "[5 rows x 31 columns]"
            ],
            "text/html": [
              "\n",
              "  <div id=\"df-c7b938be-e0ee-46fd-9bae-48add4a6c787\">\n",
              "    <div class=\"colab-df-container\">\n",
              "      <div>\n",
              "<style scoped>\n",
              "    .dataframe tbody tr th:only-of-type {\n",
              "        vertical-align: middle;\n",
              "    }\n",
              "\n",
              "    .dataframe tbody tr th {\n",
              "        vertical-align: top;\n",
              "    }\n",
              "\n",
              "    .dataframe thead th {\n",
              "        text-align: right;\n",
              "    }\n",
              "</style>\n",
              "<table border=\"1\" class=\"dataframe\">\n",
              "  <thead>\n",
              "    <tr style=\"text-align: right;\">\n",
              "      <th></th>\n",
              "      <th>Time</th>\n",
              "      <th>V1</th>\n",
              "      <th>V2</th>\n",
              "      <th>V3</th>\n",
              "      <th>V4</th>\n",
              "      <th>V5</th>\n",
              "      <th>V6</th>\n",
              "      <th>V7</th>\n",
              "      <th>V8</th>\n",
              "      <th>V9</th>\n",
              "      <th>...</th>\n",
              "      <th>V21</th>\n",
              "      <th>V22</th>\n",
              "      <th>V23</th>\n",
              "      <th>V24</th>\n",
              "      <th>V25</th>\n",
              "      <th>V26</th>\n",
              "      <th>V27</th>\n",
              "      <th>V28</th>\n",
              "      <th>Amount</th>\n",
              "      <th>Class</th>\n",
              "    </tr>\n",
              "  </thead>\n",
              "  <tbody>\n",
              "    <tr>\n",
              "      <th>258028</th>\n",
              "      <td>158456.0</td>\n",
              "      <td>2.034883</td>\n",
              "      <td>0.284327</td>\n",
              "      <td>-2.396533</td>\n",
              "      <td>0.791946</td>\n",
              "      <td>0.676932</td>\n",
              "      <td>-0.899122</td>\n",
              "      <td>0.150210</td>\n",
              "      <td>-0.186130</td>\n",
              "      <td>0.765481</td>\n",
              "      <td>...</td>\n",
              "      <td>-0.029700</td>\n",
              "      <td>0.200956</td>\n",
              "      <td>-0.014932</td>\n",
              "      <td>0.454825</td>\n",
              "      <td>0.214874</td>\n",
              "      <td>0.704335</td>\n",
              "      <td>-0.040761</td>\n",
              "      <td>-0.007378</td>\n",
              "      <td>9.31</td>\n",
              "      <td>0</td>\n",
              "    </tr>\n",
              "    <tr>\n",
              "      <th>123358</th>\n",
              "      <td>76894.0</td>\n",
              "      <td>-3.743769</td>\n",
              "      <td>0.588051</td>\n",
              "      <td>0.603599</td>\n",
              "      <td>1.601632</td>\n",
              "      <td>-1.101007</td>\n",
              "      <td>0.519601</td>\n",
              "      <td>-1.560864</td>\n",
              "      <td>-1.909120</td>\n",
              "      <td>0.263053</td>\n",
              "      <td>...</td>\n",
              "      <td>-1.281613</td>\n",
              "      <td>1.034914</td>\n",
              "      <td>0.579611</td>\n",
              "      <td>0.436872</td>\n",
              "      <td>0.035116</td>\n",
              "      <td>-0.271347</td>\n",
              "      <td>-1.002611</td>\n",
              "      <td>0.559776</td>\n",
              "      <td>57.91</td>\n",
              "      <td>0</td>\n",
              "    </tr>\n",
              "    <tr>\n",
              "      <th>259377</th>\n",
              "      <td>159087.0</td>\n",
              "      <td>1.975821</td>\n",
              "      <td>-0.101014</td>\n",
              "      <td>-2.133557</td>\n",
              "      <td>0.269500</td>\n",
              "      <td>0.570056</td>\n",
              "      <td>-0.505033</td>\n",
              "      <td>0.126126</td>\n",
              "      <td>-0.158610</td>\n",
              "      <td>1.066338</td>\n",
              "      <td>...</td>\n",
              "      <td>-0.274778</td>\n",
              "      <td>-0.684725</td>\n",
              "      <td>0.088201</td>\n",
              "      <td>-0.044967</td>\n",
              "      <td>0.024438</td>\n",
              "      <td>-0.086924</td>\n",
              "      <td>-0.021561</td>\n",
              "      <td>-0.008965</td>\n",
              "      <td>63.22</td>\n",
              "      <td>0</td>\n",
              "    </tr>\n",
              "    <tr>\n",
              "      <th>164912</th>\n",
              "      <td>117071.0</td>\n",
              "      <td>1.379321</td>\n",
              "      <td>-0.955902</td>\n",
              "      <td>-2.276028</td>\n",
              "      <td>0.660305</td>\n",
              "      <td>0.132659</td>\n",
              "      <td>-0.873930</td>\n",
              "      <td>0.698722</td>\n",
              "      <td>-0.425980</td>\n",
              "      <td>0.226641</td>\n",
              "      <td>...</td>\n",
              "      <td>0.380609</td>\n",
              "      <td>0.402984</td>\n",
              "      <td>-0.286689</td>\n",
              "      <td>0.669812</td>\n",
              "      <td>-0.006043</td>\n",
              "      <td>0.609745</td>\n",
              "      <td>-0.132876</td>\n",
              "      <td>0.029890</td>\n",
              "      <td>370.66</td>\n",
              "      <td>0</td>\n",
              "    </tr>\n",
              "    <tr>\n",
              "      <th>102440</th>\n",
              "      <td>68207.0</td>\n",
              "      <td>-1.171197</td>\n",
              "      <td>1.039103</td>\n",
              "      <td>1.405342</td>\n",
              "      <td>0.972502</td>\n",
              "      <td>0.220715</td>\n",
              "      <td>-0.928678</td>\n",
              "      <td>0.344191</td>\n",
              "      <td>0.262082</td>\n",
              "      <td>-1.143424</td>\n",
              "      <td>...</td>\n",
              "      <td>0.179758</td>\n",
              "      <td>0.290998</td>\n",
              "      <td>-0.346720</td>\n",
              "      <td>0.435099</td>\n",
              "      <td>0.564471</td>\n",
              "      <td>-0.200885</td>\n",
              "      <td>-0.038164</td>\n",
              "      <td>-0.057133</td>\n",
              "      <td>5.00</td>\n",
              "      <td>0</td>\n",
              "    </tr>\n",
              "  </tbody>\n",
              "</table>\n",
              "<p>5 rows × 31 columns</p>\n",
              "</div>\n",
              "      <button class=\"colab-df-convert\" onclick=\"convertToInteractive('df-c7b938be-e0ee-46fd-9bae-48add4a6c787')\"\n",
              "              title=\"Convert this dataframe to an interactive table.\"\n",
              "              style=\"display:none;\">\n",
              "        \n",
              "  <svg xmlns=\"http://www.w3.org/2000/svg\" height=\"24px\"viewBox=\"0 0 24 24\"\n",
              "       width=\"24px\">\n",
              "    <path d=\"M0 0h24v24H0V0z\" fill=\"none\"/>\n",
              "    <path d=\"M18.56 5.44l.94 2.06.94-2.06 2.06-.94-2.06-.94-.94-2.06-.94 2.06-2.06.94zm-11 1L8.5 8.5l.94-2.06 2.06-.94-2.06-.94L8.5 2.5l-.94 2.06-2.06.94zm10 10l.94 2.06.94-2.06 2.06-.94-2.06-.94-.94-2.06-.94 2.06-2.06.94z\"/><path d=\"M17.41 7.96l-1.37-1.37c-.4-.4-.92-.59-1.43-.59-.52 0-1.04.2-1.43.59L10.3 9.45l-7.72 7.72c-.78.78-.78 2.05 0 2.83L4 21.41c.39.39.9.59 1.41.59.51 0 1.02-.2 1.41-.59l7.78-7.78 2.81-2.81c.8-.78.8-2.07 0-2.86zM5.41 20L4 18.59l7.72-7.72 1.47 1.35L5.41 20z\"/>\n",
              "  </svg>\n",
              "      </button>\n",
              "      \n",
              "  <style>\n",
              "    .colab-df-container {\n",
              "      display:flex;\n",
              "      flex-wrap:wrap;\n",
              "      gap: 12px;\n",
              "    }\n",
              "\n",
              "    .colab-df-convert {\n",
              "      background-color: #E8F0FE;\n",
              "      border: none;\n",
              "      border-radius: 50%;\n",
              "      cursor: pointer;\n",
              "      display: none;\n",
              "      fill: #1967D2;\n",
              "      height: 32px;\n",
              "      padding: 0 0 0 0;\n",
              "      width: 32px;\n",
              "    }\n",
              "\n",
              "    .colab-df-convert:hover {\n",
              "      background-color: #E2EBFA;\n",
              "      box-shadow: 0px 1px 2px rgba(60, 64, 67, 0.3), 0px 1px 3px 1px rgba(60, 64, 67, 0.15);\n",
              "      fill: #174EA6;\n",
              "    }\n",
              "\n",
              "    [theme=dark] .colab-df-convert {\n",
              "      background-color: #3B4455;\n",
              "      fill: #D2E3FC;\n",
              "    }\n",
              "\n",
              "    [theme=dark] .colab-df-convert:hover {\n",
              "      background-color: #434B5C;\n",
              "      box-shadow: 0px 1px 3px 1px rgba(0, 0, 0, 0.15);\n",
              "      filter: drop-shadow(0px 1px 2px rgba(0, 0, 0, 0.3));\n",
              "      fill: #FFFFFF;\n",
              "    }\n",
              "  </style>\n",
              "\n",
              "      <script>\n",
              "        const buttonEl =\n",
              "          document.querySelector('#df-c7b938be-e0ee-46fd-9bae-48add4a6c787 button.colab-df-convert');\n",
              "        buttonEl.style.display =\n",
              "          google.colab.kernel.accessAllowed ? 'block' : 'none';\n",
              "\n",
              "        async function convertToInteractive(key) {\n",
              "          const element = document.querySelector('#df-c7b938be-e0ee-46fd-9bae-48add4a6c787');\n",
              "          const dataTable =\n",
              "            await google.colab.kernel.invokeFunction('convertToInteractive',\n",
              "                                                     [key], {});\n",
              "          if (!dataTable) return;\n",
              "\n",
              "          const docLinkHtml = 'Like what you see? Visit the ' +\n",
              "            '<a target=\"_blank\" href=https://colab.research.google.com/notebooks/data_table.ipynb>data table notebook</a>'\n",
              "            + ' to learn more about interactive tables.';\n",
              "          element.innerHTML = '';\n",
              "          dataTable['output_type'] = 'display_data';\n",
              "          await google.colab.output.renderOutput(dataTable, element);\n",
              "          const docLink = document.createElement('div');\n",
              "          docLink.innerHTML = docLinkHtml;\n",
              "          element.appendChild(docLink);\n",
              "        }\n",
              "      </script>\n",
              "    </div>\n",
              "  </div>\n",
              "  "
            ]
          },
          "metadata": {},
          "execution_count": 38
        }
      ],
      "source": [
        "legit_sample = legit.sample(n=len(fraud))\n",
        "\n",
        "df_manual_under = pd.concat([legit_sample, fraud], axis=0)\n",
        "df_manual_under.head()"
      ]
    },
    {
      "cell_type": "code",
      "execution_count": 39,
      "metadata": {
        "colab": {
          "base_uri": "https://localhost:8080/",
          "height": 695
        },
        "id": "8XLcnxPsDbwU",
        "outputId": "4ed32e0b-b2c1-4844-82db-147f9f94e95e"
      },
      "outputs": [
        {
          "output_type": "display_data",
          "data": {
            "text/plain": [
              "<Figure size 720x432 with 2 Axes>"
            ],
            "image/png": "[encoded data removed]"
          },
          "metadata": {
            "needs_background": "light"
          }
        },
        {
          "output_type": "stream",
          "name": "stdout",
          "text": [
            "THE CONFUSION MATRIX:\n",
            "[[94  5]\n",
            " [ 9 89]]\n",
            "\n",
            "THE ACCURACY SCORE (Misleading): 0.9289340101522843\n",
            "\n",
            "THE CLASSIFICATION REPORT:\n",
            "              precision    recall  f1-score   support\n",
            "\n",
            "           0       0.91      0.95      0.93        99\n",
            "           1       0.95      0.91      0.93        98\n",
            "\n",
            "    accuracy                           0.93       197\n",
            "   macro avg       0.93      0.93      0.93       197\n",
            "weighted avg       0.93      0.93      0.93       197\n",
            "\n"
          ]
        }
      ],
      "source": [
        "plotting(df_manual_under[\"Class\"])\n",
        "\n",
        "X_under = df_manual_under.iloc[:,:30]\n",
        "y_under = df_manual_under.iloc[:,-1]\n",
        "\n",
        "model_validation(X_under, y_under)"
      ]
    },
    {
      "cell_type": "markdown",
      "metadata": {
        "id": "cOFirqDvDbwV"
      },
      "source": [
        "### **RandomUnderSampler**"
      ]
    },
    {
      "cell_type": "code",
      "execution_count": 40,
      "metadata": {
        "colab": {
          "base_uri": "https://localhost:8080/",
          "height": 712
        },
        "id": "D4CRyST_DbwV",
        "outputId": "6f907801-cfc4-43a3-96ed-367749299f5c"
      },
      "outputs": [
        {
          "output_type": "stream",
          "name": "stdout",
          "text": [
            "Shapes of resampled X and Y: ((984, 30), (984,))\n"
          ]
        },
        {
          "output_type": "display_data",
          "data": {
            "text/plain": [
              "<Figure size 720x432 with 2 Axes>"
            ],
            "image/png": "[encoded data removed]"
          },
          "metadata": {
            "needs_background": "light"
          }
        },
        {
          "output_type": "stream",
          "name": "stdout",
          "text": [
            "THE CONFUSION MATRIX:\n",
            "[[98  1]\n",
            " [ 8 90]]\n",
            "\n",
            "THE ACCURACY SCORE (Misleading): 0.9543147208121827\n",
            "\n",
            "THE CLASSIFICATION REPORT:\n",
            "              precision    recall  f1-score   support\n",
            "\n",
            "           0       0.92      0.99      0.96        99\n",
            "           1       0.99      0.92      0.95        98\n",
            "\n",
            "    accuracy                           0.95       197\n",
            "   macro avg       0.96      0.95      0.95       197\n",
            "weighted avg       0.96      0.95      0.95       197\n",
            "\n"
          ]
        }
      ],
      "source": [
        "from imblearn.under_sampling import RandomUnderSampler\n",
        "\n",
        "rus = RandomUnderSampler(random_state=0)\n",
        "X_rus_under, y_rus_under = rus.fit_resample(X_org, y_org)\n",
        "\n",
        "print(f\"Shapes of resampled X and Y: {(X_rus_under.shape, y_rus_under.shape)}\")\n",
        "plotting((pd.DataFrame(X_rus_under).join(y_rus_under))[\"Class\"])\n",
        "\n",
        "model_validation(X_rus_under, y_rus_under)"
      ]
    },
    {
      "cell_type": "markdown",
      "metadata": {
        "id": "LpWmvxLyDbwX"
      },
      "source": [
        "### **NearMiss**\n",
        "NearMiss implements 3 different types of heuristic which can be selected with the parameter **version**<br>\n",
        "NearMiss has three versions. version=1, version=2 and version=3"
      ]
    },
    {
      "cell_type": "code",
      "execution_count": 41,
      "metadata": {
        "colab": {
          "base_uri": "https://localhost:8080/",
          "height": 712
        },
        "id": "JsaDgITrDbwY",
        "outputId": "35ed4742-7371-4d41-8d5b-e7ff8d728c8e"
      },
      "outputs": [
        {
          "output_type": "stream",
          "name": "stdout",
          "text": [
            "Shapes of resampled X and Y: ((984, 30), (984,))\n"
          ]
        },
        {
          "output_type": "display_data",
          "data": {
            "text/plain": [
              "<Figure size 720x432 with 2 Axes>"
            ],
            "image/png": "[encoded data removed]"
          },
          "metadata": {
            "needs_background": "light"
          }
        },
        {
          "output_type": "stream",
          "name": "stdout",
          "text": [
            "THE CONFUSION MATRIX:\n",
            "[[94  5]\n",
            " [ 7 91]]\n",
            "\n",
            "THE ACCURACY SCORE (Misleading): 0.9390862944162437\n",
            "\n",
            "THE CLASSIFICATION REPORT:\n",
            "              precision    recall  f1-score   support\n",
            "\n",
            "           0       0.93      0.95      0.94        99\n",
            "           1       0.95      0.93      0.94        98\n",
            "\n",
            "    accuracy                           0.94       197\n",
            "   macro avg       0.94      0.94      0.94       197\n",
            "weighted avg       0.94      0.94      0.94       197\n",
            "\n"
          ]
        }
      ],
      "source": [
        "from imblearn.under_sampling import NearMiss\n",
        "nm1 = NearMiss(version=1)\n",
        "X_nm1_under, y_nm1_under = nm1.fit_resample(X_org, y_org)\n",
        "\n",
        "print(f\"Shapes of resampled X and Y: {(X_nm1_under.shape, y_nm1_under.shape)}\")\n",
        "plotting((pd.DataFrame(X_nm1_under).join(y_nm1_under))[\"Class\"])\n",
        "\n",
        "model_validation(X_nm1_under, y_nm1_under)"
      ]
    },
    {
      "cell_type": "markdown",
      "metadata": {
        "id": "27CrpRqADbwZ"
      },
      "source": [
        "### **EditedNearestNeighbours**\n",
        "Removes samples of the majority class for which their class differ from the one of their nearest-neighbors.<br>\n",
        "This can be repeated which is the principle of the **RepeatedEditedNearestNeighbours**\n",
        "\n",
        "* **NOTE:** It takes some time"
      ]
    },
    {
      "cell_type": "code",
      "execution_count": 42,
      "metadata": {
        "colab": {
          "base_uri": "https://localhost:8080/",
          "height": 712
        },
        "id": "d8ybZcnKDbwa",
        "outputId": "bc33754d-7a06-4ecc-ed59-d6080d46aa51"
      },
      "outputs": [
        {
          "output_type": "stream",
          "name": "stdout",
          "text": [
            "Shapes of resampled X and Y: ((19670, 30), (19670,))\n"
          ]
        },
        {
          "output_type": "display_data",
          "data": {
            "text/plain": [
              "<Figure size 720x432 with 2 Axes>"
            ],
            "image/png": "[encoded data removed]"
          },
          "metadata": {
            "needs_background": "light"
          }
        },
        {
          "output_type": "stream",
          "name": "stdout",
          "text": [
            "THE CONFUSION MATRIX:\n",
            "[[3823    5]\n",
            " [  18   88]]\n",
            "\n",
            "THE ACCURACY SCORE (Misleading): 0.9941535332994408\n",
            "\n",
            "THE CLASSIFICATION REPORT:\n",
            "              precision    recall  f1-score   support\n",
            "\n",
            "           0       1.00      1.00      1.00      3828\n",
            "           1       0.95      0.83      0.88       106\n",
            "\n",
            "    accuracy                           0.99      3934\n",
            "   macro avg       0.97      0.91      0.94      3934\n",
            "weighted avg       0.99      0.99      0.99      3934\n",
            "\n"
          ]
        }
      ],
      "source": [
        "from imblearn.under_sampling import EditedNearestNeighbours\n",
        "enn = EditedNearestNeighbours()\n",
        "X_enn_under, y_enn_under = enn.fit_resample(X_org, y_org)\n",
        "\n",
        "print(f\"Shapes of resampled X and Y: {(X_enn_under.shape, y_enn_under.shape)}\")\n",
        "plotting((pd.DataFrame(X_enn_under).join(y_enn_under))[\"Class\"])\n",
        "\n",
        "model_validation(X_enn_under, y_enn_under)"
      ]
    },
    {
      "cell_type": "markdown",
      "metadata": {
        "id": "66tJERgYDbwb"
      },
      "source": [
        "### **CondensedNearestNeighbour**\n",
        "Makes use of a 1-NN to iteratively decide if a sample should be kept in a dataset or not.<br>\n",
        "The issue is that CondensedNearestNeighbour is sensitive to noise by preserving the noisy samples.\n",
        "\n",
        "* **NOTE:** It takes a lot of time"
      ]
    },
    {
      "cell_type": "code",
      "execution_count": 44,
      "metadata": {
        "id": "pMMX1K-GDbwb"
      },
      "outputs": [],
      "source": [
        "from imblearn.under_sampling import CondensedNearestNeighbour\n",
        "cnn = CondensedNearestNeighbour()\n",
        "X_cnn_under, y_cnn_under = cnn.fit_resample(X_org, y_org)\n",
        "\n",
        "print(f\"Shapes of resampled X and Y: {(X_cnn_under.shape, y_cnn_under.shape)}\")\n",
        "plotting((pd.DataFrame(X_cnn_under).join(y_cnn_under))[\"Class\"])\n",
        "\n",
        "model_validation(X_cnn_under, y_cnn_under)"
      ]
    },
    {
      "cell_type": "markdown",
      "metadata": {
        "id": "1gsUrU3ZDbwc"
      },
      "source": [
        "### **InstanceHardnessThreshold**\n",
        "Uses the prediction of classifier to exclude samples.<br>All samples which are classified with a low probability will be removed.\n",
        "\n",
        "* **NOTE:** It takes a lot of time"
      ]
    },
    {
      "cell_type": "code",
      "execution_count": 45,
      "metadata": {
        "colab": {
          "base_uri": "https://localhost:8080/",
          "height": 712
        },
        "id": "-5jks5pbDbwd",
        "outputId": "c4136250-8c50-4e0c-ee8f-4623780a88a2"
      },
      "outputs": [
        {
          "output_type": "stream",
          "name": "stdout",
          "text": [
            "Shapes of resampled X and Y: ((16864, 30), (16864,))\n"
          ]
        },
        {
          "output_type": "display_data",
          "data": {
            "text/plain": [
              "<Figure size 720x432 with 2 Axes>"
            ],
            "image/png": "[encoded data removed]"
          },
          "metadata": {
            "needs_background": "light"
          }
        },
        {
          "output_type": "stream",
          "name": "stdout",
          "text": [
            "THE CONFUSION MATRIX:\n",
            "[[3258    9]\n",
            " [  16   90]]\n",
            "\n",
            "THE ACCURACY SCORE (Misleading): 0.9925882004150608\n",
            "\n",
            "THE CLASSIFICATION REPORT:\n",
            "              precision    recall  f1-score   support\n",
            "\n",
            "           0       1.00      1.00      1.00      3267\n",
            "           1       0.91      0.85      0.88       106\n",
            "\n",
            "    accuracy                           0.99      3373\n",
            "   macro avg       0.95      0.92      0.94      3373\n",
            "weighted avg       0.99      0.99      0.99      3373\n",
            "\n"
          ]
        }
      ],
      "source": [
        "from imblearn.under_sampling import InstanceHardnessThreshold\n",
        "iht = InstanceHardnessThreshold()\n",
        "X_iht_under, y_iht_under = iht.fit_resample(X_org, y_org)\n",
        "\n",
        "print(f\"Shapes of resampled X and Y: {(X_iht_under.shape, y_iht_under.shape)}\")\n",
        "plotting((pd.DataFrame(X_iht_under).join(y_iht_under))[\"Class\"])\n",
        "\n",
        "model_validation(X_iht_under, y_iht_under)"
      ]
    },
    {
      "cell_type": "markdown",
      "source": [
        "### **TomekLinks**\n",
        "Under-sampling by removing Tomek’s links.\n",
        "\n",
        "* **NOTE:** It takes some time"
      ],
      "metadata": {
        "id": "OaRmVE4FbaeE"
      }
    },
    {
      "cell_type": "code",
      "source": [
        "from imblearn.under_sampling import TomekLinks\n",
        "tl = TomekLinks()\n",
        "X_tl_under, y_tl_under = tl.fit_resample(X_org, y_org)\n",
        "\n",
        "print(f\"Shapes of resampled X and Y: {(X_tl_under.shape, y_tl_under.shape)}\")\n",
        "plotting((pd.DataFrame(X_tl_under).join(y_tl_under))[\"Class\"])\n",
        "\n",
        "model_validation(X_tl_under, y_tl_under)"
      ],
      "metadata": {
        "colab": {
          "base_uri": "https://localhost:8080/",
          "height": 712
        },
        "id": "GmtAokW9bjXZ",
        "outputId": "8fd7a66c-fe6b-4cc0-ae10-88e2c0c87fe5"
      },
      "execution_count": 46,
      "outputs": [
        {
          "output_type": "stream",
          "name": "stdout",
          "text": [
            "Shapes of resampled X and Y: ((20353, 30), (20353,))\n"
          ]
        },
        {
          "output_type": "display_data",
          "data": {
            "text/plain": [
              "<Figure size 720x432 with 2 Axes>"
            ],
            "image/png": "[encoded data removed]"
          },
          "metadata": {
            "needs_background": "light"
          }
        },
        {
          "output_type": "stream",
          "name": "stdout",
          "text": [
            "THE CONFUSION MATRIX:\n",
            "[[3971    8]\n",
            " [  19   73]]\n",
            "\n",
            "THE ACCURACY SCORE (Misleading): 0.993367722918202\n",
            "\n",
            "THE CLASSIFICATION REPORT:\n",
            "              precision    recall  f1-score   support\n",
            "\n",
            "           0       1.00      1.00      1.00      3979\n",
            "           1       0.90      0.79      0.84        92\n",
            "\n",
            "    accuracy                           0.99      4071\n",
            "   macro avg       0.95      0.90      0.92      4071\n",
            "weighted avg       0.99      0.99      0.99      4071\n",
            "\n"
          ]
        }
      ]
    },
    {
      "cell_type": "markdown",
      "metadata": {
        "id": "5X5Py2dWDbwf"
      },
      "source": [
        "---\n",
        "## **Over-Sampling Techniques**\n",
        "* **Manual:** We oversample the Minority class to match the size of Majority class\n",
        "* **Imblearn Techniques:**\n",
        "    * RandomOverSampler\n",
        "    * SMOTE (Synthetic Minority Over-sampling Technique)\n",
        "    * ADASYN (Adaptive Synthetic)\n",
        "    * SVMSMOTE\n",
        "    * BorderlineSMOTE\n",
        "    * KMeansSMOTE\n",
        "    * SMOTENC (Synthetic Minority Over-sampling Technique for Nominal and Continuous)\n",
        "    * SMOTEN (Synthetic Minority Over-sampling Technique for Nominal)"
      ]
    },
    {
      "cell_type": "markdown",
      "source": [
        "| Oversampling Technique | Description | Pros and Cons |\n",
        "| --- | --- | --- |\n",
        "| RandomOverSampler | Randomly duplicates minority class samples to balance the class distribution. | ✔️ Simple and easy to implement. <br> ❌ May lead to overfitting and increased computational time. |\n",
        "| SMOTE | Creates synthetic minority class samples by interpolating between existing samples. | ✔️ Can generate diverse synthetic samples and reduce overfitting. <br> ❌ May not work well with complex data distributions. |\n",
        "| ADASYN | Generates more synthetic samples for minority class samples that are difficult to learn. | ✔️ Can adapt to the data distribution and generate more synthetic samples where they are needed the most. <br> ❌ May lead to overfitting and noisy samples. |\n",
        "| SVMSMOTE | Uses an SVM to generate synthetic samples in the areas between minority and majority class samples. | ✔️ Can generate diverse synthetic samples and reduce overfitting. <br> ❌ May be computationally expensive and sensitive to the choice of kernel function. |\n",
        "| BorderlineSMOTE | Generates synthetic samples for minority class samples that are near the majority class boundary. | ✔️ Can generate more relevant synthetic samples and reduce overfitting. <br> ❌ May not work well with sparse datasets. |\n",
        "| KMeansSMOTE | Uses KMeans clustering to generate synthetic samples. | ✔️ Can generate diverse synthetic samples and reduce overfitting. <br> ❌ May be computationally expensive and sensitive to the choice of KMeans parameters. |\n",
        "| SMOTENC | A variation of SMOTE that can handle datasets with mixed continuous and categorical features. | ✔️ Can generate synthetic samples that are representative of the original dataset. <br> ❌ May not work well with high-dimensional datasets. |\n",
        "| SMOTEN | A variation of SMOTE that can handle datasets with categorical features. | ✔️ Can generate synthetic samples that are representative of the original dataset. <br> ❌ May not work well with high-dimensional datasets. |\n"
      ],
      "metadata": {
        "id": "t7dxvukwL3bf"
      }
    },
    {
      "cell_type": "markdown",
      "metadata": {
        "id": "DjXsSw7XDbwg"
      },
      "source": [
        "### **RandomOverSampler**\n",
        "Random over-sampler can be used to repeat some samples and balance the number of samples between the dataset."
      ]
    },
    {
      "cell_type": "code",
      "execution_count": 47,
      "metadata": {
        "colab": {
          "base_uri": "https://localhost:8080/",
          "height": 712
        },
        "id": "4G5Dut6GDbwi",
        "outputId": "45a38fb6-3442-4b37-b8d9-1687422800a5"
      },
      "outputs": [
        {
          "output_type": "stream",
          "name": "stdout",
          "text": [
            "Shapes of resampled X and Y: ((40000, 30), (40000,))\n"
          ]
        },
        {
          "output_type": "display_data",
          "data": {
            "text/plain": [
              "<Figure size 720x432 with 2 Axes>"
            ],
            "image/png": "[encoded data removed]"
          },
          "metadata": {
            "needs_background": "light"
          }
        },
        {
          "output_type": "stream",
          "name": "stdout",
          "text": [
            "THE CONFUSION MATRIX:\n",
            "[[3884  130]\n",
            " [ 374 3612]]\n",
            "\n",
            "THE ACCURACY SCORE (Misleading): 0.937\n",
            "\n",
            "THE CLASSIFICATION REPORT:\n",
            "              precision    recall  f1-score   support\n",
            "\n",
            "           0       0.91      0.97      0.94      4014\n",
            "           1       0.97      0.91      0.93      3986\n",
            "\n",
            "    accuracy                           0.94      8000\n",
            "   macro avg       0.94      0.94      0.94      8000\n",
            "weighted avg       0.94      0.94      0.94      8000\n",
            "\n"
          ]
        }
      ],
      "source": [
        "from imblearn.over_sampling import RandomOverSampler\n",
        "ros = RandomOverSampler()\n",
        "X_ros_over, y_ros_over = ros.fit_resample(X_org, y_org)\n",
        "\n",
        "print(f\"Shapes of resampled X and Y: {(X_ros_over.shape, y_ros_over.shape)}\")\n",
        "plotting((pd.DataFrame(X_ros_over).join(y_ros_over))[\"Class\"])\n",
        "\n",
        "model_validation(X_ros_over, y_ros_over)"
      ]
    },
    {
      "cell_type": "markdown",
      "source": [
        "### **SMOTE (Synthetic Minority Over-sampling Technique)**"
      ],
      "metadata": {
        "id": "wkuVrdwUUdVi"
      }
    },
    {
      "cell_type": "code",
      "source": [
        "from imblearn.over_sampling import SMOTE\n",
        "smote =  SMOTE()\n",
        "X_smote_over, y_smote_over = smote.fit_resample(X_org, y_org)\n",
        "\n",
        "print(f\"Shapes of resampled X and Y: {(X_smote_over.shape, y_smote_over.shape)}\")\n",
        "plotting((pd.DataFrame(X_smote_over).join(y_smote_over))[\"Class\"])\n",
        "\n",
        "model_validation(X_smote_over, y_smote_over)"
      ],
      "metadata": {
        "colab": {
          "base_uri": "https://localhost:8080/",
          "height": 712
        },
        "id": "Jx8cd7qXUsji",
        "outputId": "036de46e-88a2-4dce-faa8-060bff05ec1e"
      },
      "execution_count": 48,
      "outputs": [
        {
          "output_type": "stream",
          "name": "stdout",
          "text": [
            "Shapes of resampled X and Y: ((40000, 30), (40000,))\n"
          ]
        },
        {
          "output_type": "display_data",
          "data": {
            "text/plain": [
              "<Figure size 720x432 with 2 Axes>"
            ],
            "image/png": "[encoded data removed]"
          },
          "metadata": {
            "needs_background": "light"
          }
        },
        {
          "output_type": "stream",
          "name": "stdout",
          "text": [
            "THE CONFUSION MATRIX:\n",
            "[[3968   46]\n",
            " [ 156 3830]]\n",
            "\n",
            "THE ACCURACY SCORE (Misleading): 0.97475\n",
            "\n",
            "THE CLASSIFICATION REPORT:\n",
            "              precision    recall  f1-score   support\n",
            "\n",
            "           0       0.96      0.99      0.98      4014\n",
            "           1       0.99      0.96      0.97      3986\n",
            "\n",
            "    accuracy                           0.97      8000\n",
            "   macro avg       0.98      0.97      0.97      8000\n",
            "weighted avg       0.98      0.97      0.97      8000\n",
            "\n"
          ]
        }
      ]
    },
    {
      "cell_type": "markdown",
      "source": [
        "### **ADASYN (Adaptive Synthetic)**\n",
        "This method is similar to SMOTE but it generates different number of samples depending<br>\n",
        "on an estimate of the local distribution of the class to be oversampled."
      ],
      "metadata": {
        "id": "31Kuntw8TgcT"
      }
    },
    {
      "cell_type": "code",
      "source": [
        "from imblearn.over_sampling import ADASYN\n",
        "ads =  ADASYN()\n",
        "X_ads_over, y_ads_over = ads.fit_resample(X_org, y_org)\n",
        "\n",
        "print(f\"Shapes of resampled X and Y: {(X_ads_over.shape, y_ads_over.shape)}\")\n",
        "plotting((pd.DataFrame(X_ads_over).join(y_ads_over))[\"Class\"])\n",
        "\n",
        "model_validation(X_ads_over, y_ads_over)"
      ],
      "metadata": {
        "colab": {
          "base_uri": "https://localhost:8080/",
          "height": 712
        },
        "id": "APU425FJTfhW",
        "outputId": "0ecdbc4a-ae10-47e5-f70a-f6fb59a599e3"
      },
      "execution_count": 49,
      "outputs": [
        {
          "output_type": "stream",
          "name": "stdout",
          "text": [
            "Shapes of resampled X and Y: ((39942, 30), (39942,))\n"
          ]
        },
        {
          "output_type": "display_data",
          "data": {
            "text/plain": [
              "<Figure size 720x432 with 2 Axes>"
            ],
            "image/png": "[encoded data removed]"
          },
          "metadata": {
            "needs_background": "light"
          }
        },
        {
          "output_type": "stream",
          "name": "stdout",
          "text": [
            "THE CONFUSION MATRIX:\n",
            "[[3921   72]\n",
            " [ 145 3851]]\n",
            "\n",
            "THE ACCURACY SCORE (Misleading): 0.9728376517711854\n",
            "\n",
            "THE CLASSIFICATION REPORT:\n",
            "              precision    recall  f1-score   support\n",
            "\n",
            "           0       0.96      0.98      0.97      3993\n",
            "           1       0.98      0.96      0.97      3996\n",
            "\n",
            "    accuracy                           0.97      7989\n",
            "   macro avg       0.97      0.97      0.97      7989\n",
            "weighted avg       0.97      0.97      0.97      7989\n",
            "\n"
          ]
        }
      ]
    },
    {
      "cell_type": "markdown",
      "source": [
        "### **SVMSMOTE**\n",
        "Variant of SMOTE algorithm which use an SVM algorithm to detect<br>\n",
        "sample to use for generating new synthetic samples"
      ],
      "metadata": {
        "id": "oBTjWx53VCBC"
      }
    },
    {
      "cell_type": "code",
      "source": [
        "from imblearn.over_sampling import SVMSMOTE\n",
        "svms =  SVMSMOTE(n_jobs=-1)\n",
        "X_svms_over, y_svms_over = svms.fit_resample(X_org, y_org)\n",
        "\n",
        "print(f\"Shapes of resampled X and Y: {(X_svms_over.shape, y_svms_over.shape)}\")\n",
        "plotting((pd.DataFrame(X_svms_over).join(y_svms_over))[\"Class\"])\n",
        "\n",
        "model_validation(X_svms_over, y_svms_over)"
      ],
      "metadata": {
        "colab": {
          "base_uri": "https://localhost:8080/",
          "height": 712
        },
        "id": "vgq-_RFtVgrJ",
        "outputId": "6cb11e8b-f0ee-4ab7-86b0-6b319d95988f"
      },
      "execution_count": 50,
      "outputs": [
        {
          "output_type": "stream",
          "name": "stdout",
          "text": [
            "Shapes of resampled X and Y: ((40000, 30), (40000,))\n"
          ]
        },
        {
          "output_type": "display_data",
          "data": {
            "text/plain": [
              "<Figure size 720x432 with 2 Axes>"
            ],
            "image/png": "[encoded data removed]"
          },
          "metadata": {
            "needs_background": "light"
          }
        },
        {
          "output_type": "stream",
          "name": "stdout",
          "text": [
            "THE CONFUSION MATRIX:\n",
            "[[3969   45]\n",
            " [  86 3900]]\n",
            "\n",
            "THE ACCURACY SCORE (Misleading): 0.983625\n",
            "\n",
            "THE CLASSIFICATION REPORT:\n",
            "              precision    recall  f1-score   support\n",
            "\n",
            "           0       0.98      0.99      0.98      4014\n",
            "           1       0.99      0.98      0.98      3986\n",
            "\n",
            "    accuracy                           0.98      8000\n",
            "   macro avg       0.98      0.98      0.98      8000\n",
            "weighted avg       0.98      0.98      0.98      8000\n",
            "\n"
          ]
        }
      ]
    },
    {
      "cell_type": "markdown",
      "source": [
        "### **Borderline SMOTE**\n",
        "This algorithm is a variant of the original SMOTE algorithm<br>\n",
        "Borderline samples will be detected and used to generate new synthetic samples."
      ],
      "metadata": {
        "id": "p32tLL2gVyI0"
      }
    },
    {
      "cell_type": "code",
      "source": [
        "from imblearn.over_sampling import BorderlineSMOTE\n",
        "bsmote =  BorderlineSMOTE(n_jobs=-1)\n",
        "X_bsmote_over, y_bsmote_over = bsmote.fit_resample(X_org, y_org)\n",
        "\n",
        "print(f\"Shapes of resampled X and Y: {(X_bsmote_over.shape, y_bsmote_over.shape)}\")\n",
        "plotting((pd.DataFrame(X_bsmote_over).join(y_bsmote_over))[\"Class\"])\n",
        "\n",
        "model_validation(X_bsmote_over, y_bsmote_over)"
      ],
      "metadata": {
        "colab": {
          "base_uri": "https://localhost:8080/",
          "height": 712
        },
        "id": "bkRqvMW4WOVd",
        "outputId": "607e2f2e-3a4a-4c16-d21a-5199897b613e"
      },
      "execution_count": 51,
      "outputs": [
        {
          "output_type": "stream",
          "name": "stdout",
          "text": [
            "Shapes of resampled X and Y: ((40000, 30), (40000,))\n"
          ]
        },
        {
          "output_type": "display_data",
          "data": {
            "text/plain": [
              "<Figure size 720x432 with 2 Axes>"
            ],
            "image/png": "[encoded data removed]"
          },
          "metadata": {
            "needs_background": "light"
          }
        },
        {
          "output_type": "stream",
          "name": "stdout",
          "text": [
            "THE CONFUSION MATRIX:\n",
            "[[3899  115]\n",
            " [ 154 3832]]\n",
            "\n",
            "THE ACCURACY SCORE (Misleading): 0.966375\n",
            "\n",
            "THE CLASSIFICATION REPORT:\n",
            "              precision    recall  f1-score   support\n",
            "\n",
            "           0       0.96      0.97      0.97      4014\n",
            "           1       0.97      0.96      0.97      3986\n",
            "\n",
            "    accuracy                           0.97      8000\n",
            "   macro avg       0.97      0.97      0.97      8000\n",
            "weighted avg       0.97      0.97      0.97      8000\n",
            "\n"
          ]
        }
      ]
    },
    {
      "cell_type": "markdown",
      "source": [
        "### **KMeans SMOTE**\n",
        "This algorithm apples a KMeans clustering before to over-sample using SMOTE.\n",
        "\n",
        "* **NOTE:** Use it when you've more than 2 clusters"
      ],
      "metadata": {
        "id": "kVuYI-08WnFE"
      }
    },
    {
      "cell_type": "code",
      "source": [
        "from imblearn.over_sampling import KMeansSMOTE\n",
        "ksmote =  KMeansSMOTE(n_jobs=-1)\n",
        "X_ksmote_over, y_ksmote_over = ksmote.fit_resample(X_org, y_org)\n",
        "\n",
        "print(f\"Shapes of resampled X and Y: {(X_ksmote_over.shape, y_ksmote_over.shape)}\")\n",
        "plotting((pd.DataFrame(X_ksmote_over).join(y_ksmote_over))[\"Class\"])\n",
        "\n",
        "model_validation(X_ksmote_over, y_ksmote_over)"
      ],
      "metadata": {
        "id": "XbTKnhd3WnhI"
      },
      "execution_count": 53,
      "outputs": []
    },
    {
      "cell_type": "markdown",
      "source": [
        "### **SMOTENC**\n",
        "It stands for Synthetic Minority Over-sampling Technique for Nominal and Continuous.<br> \n",
        "\n",
        "* **NOTE:** Use it when dealing with a mix of continuous and categorical<br> features, SMOTENC is the only method which can handle this case."
      ],
      "metadata": {
        "id": "Dc5mvkdRXePI"
      }
    },
    {
      "cell_type": "code",
      "source": [
        "from imblearn.over_sampling import SMOTENC\n",
        "\n",
        "# You must use a dataset that has categorical features in order for it to work\n",
        "smoteNC =  SMOTENC(categorical_features=[0, 2])\n",
        "X_smoteNC_over, y_smoteNC_over = smoteNC.fit_resample(X_org, y_org)\n",
        "\n",
        "print(f\"Shapes of resampled X and Y: {(X_smoteNC_over.shape, y_smoteNC_over.shape)}\")\n",
        "plotting((pd.DataFrame(X_smoteNC_over).join(y_smoteNC_over))[\"Class\"])\n",
        "\n",
        "model_validation(X_smoteNC_over, y_smoteNC_over)"
      ],
      "metadata": {
        "id": "KD2KYzHsXejk"
      },
      "execution_count": 12,
      "outputs": []
    },
    {
      "cell_type": "markdown",
      "source": [
        "### **SMOTEN**\n",
        "It stands for Synthetic Minority Over-sampling Technique for Nominal.<br> \n",
        "\n",
        "* **NOTE:** Use it when dealing with categorical features only"
      ],
      "metadata": {
        "id": "_42xLhjbZbjp"
      }
    },
    {
      "cell_type": "code",
      "source": [
        "from imblearn.over_sampling import SMOTEN\n",
        "\n",
        "smoteN =  SMOTEN()\n",
        "X_smoteN_over, y_smoteN_over = smoteN.fit_resample(X_org, y_org)\n",
        "\n",
        "print(f\"Shapes of resampled X and Y: {(X_smoteN_over.shape, y_smoteN_over.shape)}\")\n",
        "plotting((pd.DataFrame(X_smoteN_over).join(y_smoteN_over))[\"Class\"])\n",
        "\n",
        "model_validation(X_smoteN_over, y_smoteN_over)"
      ],
      "metadata": {
        "colab": {
          "base_uri": "https://localhost:8080/",
          "height": 712
        },
        "id": "mfWEw2F9Zc2_",
        "outputId": "ee934042-bd94-4453-bf52-52794ddd905c"
      },
      "execution_count": 54,
      "outputs": [
        {
          "output_type": "stream",
          "name": "stdout",
          "text": [
            "Shapes of resampled X and Y: ((40000, 30), (40000,))\n"
          ]
        },
        {
          "output_type": "display_data",
          "data": {
            "text/plain": [
              "<Figure size 720x432 with 2 Axes>"
            ],
            "image/png": "[encoded data removed]"
          },
          "metadata": {
            "needs_background": "light"
          }
        },
        {
          "output_type": "stream",
          "name": "stdout",
          "text": [
            "THE CONFUSION MATRIX:\n",
            "[[4008    6]\n",
            " [  20 3966]]\n",
            "\n",
            "THE ACCURACY SCORE (Misleading): 0.99675\n",
            "\n",
            "THE CLASSIFICATION REPORT:\n",
            "              precision    recall  f1-score   support\n",
            "\n",
            "           0       1.00      1.00      1.00      4014\n",
            "           1       1.00      0.99      1.00      3986\n",
            "\n",
            "    accuracy                           1.00      8000\n",
            "   macro avg       1.00      1.00      1.00      8000\n",
            "weighted avg       1.00      1.00      1.00      8000\n",
            "\n"
          ]
        }
      ]
    },
    {
      "cell_type": "markdown",
      "metadata": {
        "id": "dK5_gU4UDbwi"
      },
      "source": [
        "---\n",
        "## **Hybrid Techniques**\n",
        "These algorithms combine undersampling and oversampling\n",
        "* **SMOTEENN:**\n",
        "* **SMOTETomek:**\n",
        "\n"
      ]
    },
    {
      "cell_type": "markdown",
      "source": [
        "| Hybrid Technique | Description | Pros and Cons |\n",
        "| --- | --- | --- |\n",
        "| SMOTEENN | A hybrid technique that combines the undersampling technique of Edited Nearest Neighbors (ENN) with the oversampling technique of SMOTE. | ✔️ Can effectively address the problem of both over- and under-sampling. <br> ❌ May be computationally expensive and sensitive to the choice of parameters. |\n",
        "| SMOTETomek | A hybrid technique that combines the undersampling technique of Tomek links with the oversampling technique of SMOTE. | ✔️ Can effectively address the problem of both over- and under-sampling. <br> ❌ May not work well with imbalanced datasets with very different class distributions. |\n"
      ],
      "metadata": {
        "id": "fKnFrEP7NG9K"
      }
    },
    {
      "cell_type": "markdown",
      "source": [
        "### **SMOTEENN**\n",
        "Combine over- and under-sampling using SMOTE and Edited Nearest Neighbours.\n",
        "\n",
        "* **NOTE:** It takes a lot of time\n"
      ],
      "metadata": {
        "id": "EEVOKQTf-LvJ"
      }
    },
    {
      "cell_type": "code",
      "source": [
        "from imblearn.combine import SMOTEENN\n",
        "smoteNN =  SMOTEENN(n_jobs=-1)\n",
        "X_smoteNN_hybrid, y_smoteNN_hybrid = smoteNN.fit_resample(X_org, y_org)\n",
        "\n",
        "print(f\"Shapes of resampled X and Y: {(X_smoteNN_hybrid.shape, y_smoteNN_hybrid.shape)}\")\n",
        "plotting((pd.DataFrame(X_smoteNN_hybrid).join(y_smoteNN_hybrid))[\"Class\"])\n",
        "\n",
        "model_validation(X_smoteNN_hybrid, y_smoteNN_hybrid)"
      ],
      "metadata": {
        "colab": {
          "base_uri": "https://localhost:8080/",
          "height": 712
        },
        "id": "qRdWyHZJ-XUb",
        "outputId": "d63e3a11-6fad-4a2e-aeed-604677f4e14f"
      },
      "execution_count": 57,
      "outputs": [
        {
          "output_type": "stream",
          "name": "stdout",
          "text": [
            "Shapes of resampled X and Y: ((30010, 30), (30010,))\n"
          ]
        },
        {
          "output_type": "display_data",
          "data": {
            "text/plain": [
              "<Figure size 720x432 with 2 Axes>"
            ],
            "image/png": "[encoded data removed]"
          },
          "metadata": {
            "needs_background": "light"
          }
        },
        {
          "output_type": "stream",
          "name": "stdout",
          "text": [
            "THE CONFUSION MATRIX:\n",
            "[[2795   47]\n",
            " [ 101 3059]]\n",
            "\n",
            "THE ACCURACY SCORE (Misleading): 0.9753415528157281\n",
            "\n",
            "THE CLASSIFICATION REPORT:\n",
            "              precision    recall  f1-score   support\n",
            "\n",
            "           0       0.97      0.98      0.97      2842\n",
            "           1       0.98      0.97      0.98      3160\n",
            "\n",
            "    accuracy                           0.98      6002\n",
            "   macro avg       0.97      0.98      0.98      6002\n",
            "weighted avg       0.98      0.98      0.98      6002\n",
            "\n"
          ]
        }
      ]
    },
    {
      "cell_type": "markdown",
      "source": [
        "### **SMOTETomek**\n",
        "Combine over- and under-sampling using SMOTE and Tomek links.\n"
      ],
      "metadata": {
        "id": "boKKIg_4_HRX"
      }
    },
    {
      "cell_type": "code",
      "source": [
        "from imblearn.combine import SMOTETomek\n",
        "smoteT =  SMOTETomek(sampling_strategy = 0.75, n_jobs=-1)\n",
        "X_smoteT_hybrid, y_smoteT_hybrid = smoteT.fit_resample(X_org, y_org)\n",
        "\n",
        "print(f\"Shapes of resampled X and Y: {(X_smoteT_hybrid.shape, y_smoteT_hybrid.shape)}\")\n",
        "plotting((pd.DataFrame(X_smoteT_hybrid).join(y_smoteT_hybrid))[\"Class\"])\n",
        "\n",
        "model_validation(X_smoteT_hybrid, y_smoteT_hybrid)"
      ],
      "metadata": {
        "colab": {
          "base_uri": "https://localhost:8080/",
          "height": 712
        },
        "id": "j3QSc4Ws_Sk_",
        "outputId": "363a9e85-a00a-4852-8504-4cafe35ed372"
      },
      "execution_count": 58,
      "outputs": [
        {
          "output_type": "stream",
          "name": "stdout",
          "text": [
            "Shapes of resampled X and Y: ((33488, 30), (33488,))\n"
          ]
        },
        {
          "output_type": "display_data",
          "data": {
            "text/plain": [
              "<Figure size 720x432 with 2 Axes>"
            ],
            "image/png": "[encoded data removed]"
          },
          "metadata": {
            "needs_background": "light"
          }
        },
        {
          "output_type": "stream",
          "name": "stdout",
          "text": [
            "THE CONFUSION MATRIX:\n",
            "[[3785  103]\n",
            " [ 158 2652]]\n",
            "\n",
            "THE ACCURACY SCORE (Misleading): 0.9610331442221559\n",
            "\n",
            "THE CLASSIFICATION REPORT:\n",
            "              precision    recall  f1-score   support\n",
            "\n",
            "           0       0.96      0.97      0.97      3888\n",
            "           1       0.96      0.94      0.95      2810\n",
            "\n",
            "    accuracy                           0.96      6698\n",
            "   macro avg       0.96      0.96      0.96      6698\n",
            "weighted avg       0.96      0.96      0.96      6698\n",
            "\n"
          ]
        }
      ]
    },
    {
      "cell_type": "markdown",
      "source": [
        "---\n",
        "## **Ensemble Models**\n",
        "Luckily there're a few models that perform quite well even on Imbalanced data\n",
        "\n",
        "* **EasyEnsembleClassifier**\n",
        "* **Decision Tree**\n",
        "* **Random Forest**\n",
        "* **GBT (Gradient Boosting Tree)**\n",
        "* **HistGB (Histogram Gradient Boosting)**\n",
        "* **XGBoost (Extreme Gradient Boosting)** \n",
        "* **LGBM (Light Gradient Boosted Machine)**"
      ],
      "metadata": {
        "id": "PpdmRU4deSYG"
      }
    },
    {
      "cell_type": "markdown",
      "source": [
        "| Ensemble Technique | Description | Pros and Cons |\n",
        "| --- | --- | --- |\n",
        "| EasyEnsembleClassifier | A bagging ensemble technique that creates multiple balanced subsets of the majority class and trains a classifier on each subset. | ✔️ Can effectively handle imbalanced datasets with very large class imbalances. <br> ❌ May not work well with datasets with multiple minority classes. |\n",
        "| Decision Tree | A popular ensemble technique that can be used for classification or regression tasks | ✔️ Can handle imbalanced datasets effectively when used with class weights or cost-sensitive learning. <br> ❌ May be prone to overfitting on noisy data or datasets with a large number of features. |\n",
        "| Random Forest | An extension of decision trees that builds a forest of multiple decision trees and aggregates their predictions | ✔️ Can handle imbalanced datasets effectively when used with class weights or cost-sensitive learning. <br> ❌ May be less interpretable than a single decision tree. |\n",
        "| Gradient Boosting Tree | A boosting ensemble technique that sequentially trains weak classifiers, with each subsequent classifier focusing on the misclassified samples of the previous classifier. | ✔️ Can handle imbalanced datasets effectively when used with class weights or cost-sensitive learning. <br> ❌ May be prone to overfitting on noisy data or datasets with a large number of features. |\n",
        "| Histogram Gradient Boosting | A variant of GBT that uses histograms to approximate the distribution of features and reduce computation time | ✔️ Can handle imbalanced datasets effectively when used with class weights or cost-sensitive learning. <br> ❌ May require a large amount of memory for training on large datasets. |\n",
        "| XGBoost | An optimized implementation of GBT that uses additional regularization techniques to prevent overfitting | ✔️ Can handle imbalanced datasets effectively when used with class weights or cost-sensitive learning. <br> ❌ May require tuning of many hyperparameters for optimal performance. |\n",
        "| LightGBM | A variant of GBT that uses gradient-based one-sided sampling to reduce computation time and reduce overfitting | ✔️ Can handle imbalanced datasets effectively when used with class weights or cost-sensitive learning. <br> ❌ May not perform well on datasets with a large number of categorical features. |\n"
      ],
      "metadata": {
        "id": "6dPQbBOeXnzJ"
      }
    },
    {
      "cell_type": "markdown",
      "metadata": {
        "id": "gaqp52l7Dbwj"
      },
      "source": [
        "### **EasyEnsembleClassifier**\n",
        "Bag of balanced boosted learners also known as EasyEnsemble.\n",
        "\n",
        "This algorithm is an ensemble of AdaBoost learners trained on different<br> balanced bootstrap samples. The balancing is achieved by random under-sampling.\n",
        "\n",
        "* **NOTE:** It has a Bug related to Scikit-Learn. Future version may work"
      ]
    },
    {
      "cell_type": "code",
      "source": [
        "from imblearn.ensemble import EasyEnsembleClassifier\n",
        "\n",
        "eec =  EasyEnsembleClassifier()\n",
        "# eec.fit(X_org, y_org)\n",
        "\n",
        "# print(f\"Shapes of resampled X and Y: {(X_eec_over.shape, y_eec_over.shape)}\")\n",
        "# plotting((pd.DataFrame(X_eec_over).join(y_eec_over))[\"Class\"])\n",
        "\n",
        "# model_validation(X_eec_over, y_eec_over)\n"
      ],
      "metadata": {
        "id": "CJotgWNmfLhZ"
      },
      "execution_count": 60,
      "outputs": []
    },
    {
      "cell_type": "code",
      "source": [],
      "metadata": {
        "id": "Wv8BoPZlj_Sb"
      },
      "execution_count": null,
      "outputs": []
    },
    {
      "cell_type": "code",
      "source": [],
      "metadata": {
        "id": "-gWJRFK_enwH"
      },
      "execution_count": null,
      "outputs": []
    },
    {
      "cell_type": "markdown",
      "source": [
        "### **Decision Tree**"
      ],
      "metadata": {
        "id": "kMS-UDu6-H19"
      }
    },
    {
      "cell_type": "code",
      "source": [
        "from sklearn.tree import DecisionTreeClassifier\n",
        "\n",
        "dt = DecisionTreeClassifier()\n",
        "\n",
        "X_train, X_test, y_train, y_test = train_test_split(X_org, y_org, test_size=0.2)\n",
        "\n",
        "dt.fit(X_train, y_train)\n",
        "y_pred = dt.predict(X_test)\n",
        "\n",
        "confusion = confusion_matrix(y_test,y_pred)\n",
        "accuracy = accuracy_score(y_test, y_pred)\n",
        "report = classification_report(y_test,y_pred)\n",
        "\n",
        "print(f\"THE CONFUSION MATRIX:\\n{confusion}\\n\")\n",
        "print(f\"THE ACCURACY SCORE (Misleading): {accuracy}\\n\")\n",
        "print(f\"THE CLASSIFICATION REPORT:\\n{report}\")"
      ],
      "metadata": {
        "colab": {
          "base_uri": "https://localhost:8080/"
        },
        "id": "Hmm3BcjGPYAB",
        "outputId": "99250a78-99e5-4666-f0c3-3c0f3d478a7b"
      },
      "execution_count": 64,
      "outputs": [
        {
          "output_type": "stream",
          "name": "stdout",
          "text": [
            "THE CONFUSION MATRIX:\n",
            "[[3978   23]\n",
            " [  20   78]]\n",
            "\n",
            "THE ACCURACY SCORE (Misleading): 0.9895096364967065\n",
            "\n",
            "THE CLASSIFICATION REPORT:\n",
            "              precision    recall  f1-score   support\n",
            "\n",
            "           0       0.99      0.99      0.99      4001\n",
            "           1       0.77      0.80      0.78        98\n",
            "\n",
            "    accuracy                           0.99      4099\n",
            "   macro avg       0.88      0.90      0.89      4099\n",
            "weighted avg       0.99      0.99      0.99      4099\n",
            "\n"
          ]
        }
      ]
    },
    {
      "cell_type": "markdown",
      "source": [
        "### **Random Forest**"
      ],
      "metadata": {
        "id": "1NaozXx0QaPO"
      }
    },
    {
      "cell_type": "code",
      "source": [
        "from sklearn.ensemble import RandomForestClassifier\n",
        "\n",
        "rf = RandomForestClassifier()\n",
        "\n",
        "X_train, X_test, y_train, y_test = train_test_split(X_org, y_org, test_size=0.2)\n",
        "\n",
        "rf.fit(X_train, y_train)\n",
        "y_pred = rf.predict(X_test)\n",
        "\n",
        "confusion = confusion_matrix(y_test,y_pred)\n",
        "accuracy = accuracy_score(y_test, y_pred)\n",
        "report = classification_report(y_test,y_pred)\n",
        "\n",
        "print(f\"THE CONFUSION MATRIX:\\n{confusion}\\n\")\n",
        "print(f\"THE ACCURACY SCORE (Misleading): {accuracy}\\n\")\n",
        "print(f\"THE CLASSIFICATION REPORT:\\n{report}\")"
      ],
      "metadata": {
        "colab": {
          "base_uri": "https://localhost:8080/"
        },
        "id": "x2QTpFmsQdkT",
        "outputId": "f48ee80a-de0f-4689-90bc-35d620ffd0a5"
      },
      "execution_count": 65,
      "outputs": [
        {
          "output_type": "stream",
          "name": "stdout",
          "text": [
            "THE CONFUSION MATRIX:\n",
            "[[4016    2]\n",
            " [  15   66]]\n",
            "\n",
            "THE ACCURACY SCORE (Misleading): 0.99585264698707\n",
            "\n",
            "THE CLASSIFICATION REPORT:\n",
            "              precision    recall  f1-score   support\n",
            "\n",
            "           0       1.00      1.00      1.00      4018\n",
            "           1       0.97      0.81      0.89        81\n",
            "\n",
            "    accuracy                           1.00      4099\n",
            "   macro avg       0.98      0.91      0.94      4099\n",
            "weighted avg       1.00      1.00      1.00      4099\n",
            "\n"
          ]
        }
      ]
    },
    {
      "cell_type": "markdown",
      "source": [
        "### **Gradient Boosting for classification**"
      ],
      "metadata": {
        "id": "F3uOSatRQr-p"
      }
    },
    {
      "cell_type": "code",
      "source": [
        "from sklearn.ensemble import GradientBoostingClassifier\n",
        "\n",
        "gbc = GradientBoostingClassifier()\n",
        "\n",
        "X_train, X_test, y_train, y_test = train_test_split(X_org, y_org, test_size=0.2)\n",
        "\n",
        "gbc.fit(X_train, y_train)\n",
        "y_pred = gbc.predict(X_test)\n",
        "\n",
        "confusion = confusion_matrix(y_test,y_pred)\n",
        "accuracy = accuracy_score(y_test, y_pred)\n",
        "report = classification_report(y_test,y_pred)\n",
        "\n",
        "print(f\"THE CONFUSION MATRIX:\\n{confusion}\\n\")\n",
        "print(f\"THE ACCURACY SCORE (Misleading): {accuracy}\\n\")\n",
        "print(f\"THE CLASSIFICATION REPORT:\\n{report}\")"
      ],
      "metadata": {
        "colab": {
          "base_uri": "https://localhost:8080/"
        },
        "id": "GMV8K1AjQwkT",
        "outputId": "2bfc3dbd-6ac6-403a-f4f1-90f9e760ef30"
      },
      "execution_count": 66,
      "outputs": [
        {
          "output_type": "stream",
          "name": "stdout",
          "text": [
            "THE CONFUSION MATRIX:\n",
            "[[3992   13]\n",
            " [  15   79]]\n",
            "\n",
            "THE ACCURACY SCORE (Misleading): 0.9931690656257623\n",
            "\n",
            "THE CLASSIFICATION REPORT:\n",
            "              precision    recall  f1-score   support\n",
            "\n",
            "           0       1.00      1.00      1.00      4005\n",
            "           1       0.86      0.84      0.85        94\n",
            "\n",
            "    accuracy                           0.99      4099\n",
            "   macro avg       0.93      0.92      0.92      4099\n",
            "weighted avg       0.99      0.99      0.99      4099\n",
            "\n"
          ]
        }
      ]
    },
    {
      "cell_type": "markdown",
      "source": [
        "### **Histogram-based Gradient Boosting Classification Tree**"
      ],
      "metadata": {
        "id": "UM69R-LLRGp3"
      }
    },
    {
      "cell_type": "code",
      "source": [
        "from sklearn.ensemble import HistGradientBoostingClassifier\n",
        "\n",
        "hgbc = HistGradientBoostingClassifier()\n",
        "\n",
        "X_train, X_test, y_train, y_test = train_test_split(X_org, y_org, test_size=0.2)\n",
        "\n",
        "hgbc.fit(X_train, y_train)\n",
        "y_pred = hgbc.predict(X_test)\n",
        "\n",
        "confusion = confusion_matrix(y_test,y_pred)\n",
        "accuracy = accuracy_score(y_test, y_pred)\n",
        "report = classification_report(y_test,y_pred)\n",
        "\n",
        "print(f\"THE CONFUSION MATRIX:\\n{confusion}\\n\")\n",
        "print(f\"THE ACCURACY SCORE (Misleading): {accuracy}\\n\")\n",
        "print(f\"THE CLASSIFICATION REPORT:\\n{report}\")"
      ],
      "metadata": {
        "colab": {
          "base_uri": "https://localhost:8080/"
        },
        "id": "zbp-5K0YROcl",
        "outputId": "1fffeaf5-76bc-4f8d-debc-2be139ce0ba3"
      },
      "execution_count": 67,
      "outputs": [
        {
          "output_type": "stream",
          "name": "stdout",
          "text": [
            "THE CONFUSION MATRIX:\n",
            "[[3991    4]\n",
            " [  17   87]]\n",
            "\n",
            "THE ACCURACY SCORE (Misleading): 0.9948767992193218\n",
            "\n",
            "THE CLASSIFICATION REPORT:\n",
            "              precision    recall  f1-score   support\n",
            "\n",
            "           0       1.00      1.00      1.00      3995\n",
            "           1       0.96      0.84      0.89       104\n",
            "\n",
            "    accuracy                           0.99      4099\n",
            "   macro avg       0.98      0.92      0.94      4099\n",
            "weighted avg       0.99      0.99      0.99      4099\n",
            "\n"
          ]
        }
      ]
    },
    {
      "cell_type": "markdown",
      "source": [
        "### **XGBoost (Extreme Gradient Boosting Technique)**"
      ],
      "metadata": {
        "id": "P49igELxRmBf"
      }
    },
    {
      "cell_type": "code",
      "source": [
        "import xgboost as xgb\n",
        "\n",
        "xgb = xgb.XGBClassifier()\n",
        "\n",
        "X_train, X_test, y_train, y_test = train_test_split(X_org, y_org, test_size=0.2)\n",
        "\n",
        "xgb.fit(X_train, y_train)\n",
        "y_pred = xgb.predict(X_test)\n",
        "\n",
        "confusion = confusion_matrix(y_test,y_pred)\n",
        "accuracy = accuracy_score(y_test, y_pred)\n",
        "report = classification_report(y_test,y_pred)\n",
        "\n",
        "print(f\"THE CONFUSION MATRIX:\\n{confusion}\\n\")\n",
        "print(f\"THE ACCURACY SCORE (Misleading): {accuracy}\\n\")\n",
        "print(f\"THE CLASSIFICATION REPORT:\\n{report}\")"
      ],
      "metadata": {
        "colab": {
          "base_uri": "https://localhost:8080/"
        },
        "id": "mIV4mnCZR0YE",
        "outputId": "d3ec9c3c-3c03-47c0-b2a1-37f82f037cff"
      },
      "execution_count": 68,
      "outputs": [
        {
          "output_type": "stream",
          "name": "stdout",
          "text": [
            "THE CONFUSION MATRIX:\n",
            "[[3998    5]\n",
            " [  17   79]]\n",
            "\n",
            "THE ACCURACY SCORE (Misleading): 0.9946328372773847\n",
            "\n",
            "THE CLASSIFICATION REPORT:\n",
            "              precision    recall  f1-score   support\n",
            "\n",
            "           0       1.00      1.00      1.00      4003\n",
            "           1       0.94      0.82      0.88        96\n",
            "\n",
            "    accuracy                           0.99      4099\n",
            "   macro avg       0.97      0.91      0.94      4099\n",
            "weighted avg       0.99      0.99      0.99      4099\n",
            "\n"
          ]
        }
      ]
    },
    {
      "cell_type": "markdown",
      "source": [
        "### **LightGBM (Light Gradient Boosting Machine)**"
      ],
      "metadata": {
        "id": "CYWUJvrESOuC"
      }
    },
    {
      "cell_type": "code",
      "source": [
        "import lightgbm as ltb\n",
        "\n",
        "lgbm = ltb.LGBMClassifier()\n",
        "\n",
        "X_train, X_test, y_train, y_test = train_test_split(X_org, y_org, test_size=0.2)\n",
        "\n",
        "lgbm.fit(X_train, y_train)\n",
        "y_pred = lgbm.predict(X_test)\n",
        "\n",
        "confusion = confusion_matrix(y_test,y_pred)\n",
        "accuracy = accuracy_score(y_test, y_pred)\n",
        "report = classification_report(y_test,y_pred)\n",
        "\n",
        "print(f\"THE CONFUSION MATRIX:\\n{confusion}\\n\")\n",
        "print(f\"THE ACCURACY SCORE (Misleading): {accuracy}\\n\")\n",
        "print(f\"THE CLASSIFICATION REPORT:\\n{report}\")"
      ],
      "metadata": {
        "colab": {
          "base_uri": "https://localhost:8080/"
        },
        "id": "SlBGUoiESPVM",
        "outputId": "191443c0-9aa5-466c-f43b-1adef77582a1"
      },
      "execution_count": 69,
      "outputs": [
        {
          "output_type": "stream",
          "name": "stdout",
          "text": [
            "THE CONFUSION MATRIX:\n",
            "[[4010    3]\n",
            " [  15   71]]\n",
            "\n",
            "THE ACCURACY SCORE (Misleading): 0.995608685045133\n",
            "\n",
            "THE CLASSIFICATION REPORT:\n",
            "              precision    recall  f1-score   support\n",
            "\n",
            "           0       1.00      1.00      1.00      4013\n",
            "           1       0.96      0.83      0.89        86\n",
            "\n",
            "    accuracy                           1.00      4099\n",
            "   macro avg       0.98      0.91      0.94      4099\n",
            "weighted avg       1.00      1.00      1.00      4099\n",
            "\n"
          ]
        }
      ]
    }
  ],
  "metadata": {
    "kernelspec": {
      "display_name": "latest_python",
      "language": "python",
      "name": "python3"
    },
    "language_info": {
      "codemirror_mode": {
        "name": "ipython",
        "version": 3
      },
      "file_extension": ".py",
      "mimetype": "text/x-python",
      "name": "python",
      "nbconvert_exporter": "python",
      "pygments_lexer": "ipython3",
      "version": "3.11.0"
    },
    "orig_nbformat": 4,
    "vscode": {
      "interpreter": {
        "hash": "0e89fa9d34bf160a830340249d57759ad2bc513e7c7d8dbe75f5cb00cde144ca"
      }
    },
    "colab": {
      "provenance": [],
      "collapsed_sections": [
        "66tJERgYDbwb",
        "kVuYI-08WnFE",
        "Dc5mvkdRXePI",
        "gaqp52l7Dbwj"
      ]
    }
  },
  "nbformat": 4,
  "nbformat_minor": 0
}