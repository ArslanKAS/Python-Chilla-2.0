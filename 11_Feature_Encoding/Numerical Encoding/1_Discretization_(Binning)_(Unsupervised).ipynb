{
 "cells": [
  {
   "cell_type": "markdown",
   "id": "015c91bb",
   "metadata": {},
   "source": [
    "## Discretisation is the process of transforming continuous variables into discrete variables by creating a set of contiguous intervals that span the range of variable values."
   ]
  },
  {
   "cell_type": "markdown",
   "id": "6d7db003",
   "metadata": {},
   "source": [
    "# There are two common Techniques for Numerical Encoding"
   ]
  },
  {
   "cell_type": "markdown",
   "id": "6e444717",
   "metadata": {},
   "source": [
    "* ## 1 Discretization / Binning\n",
    "* ## 2 Binarization"
   ]
  },
  {
   "cell_type": "markdown",
   "id": "e8e3df06",
   "metadata": {},
   "source": [
    "## In applied mathematics, discretization is the process of transferring continuous functions, models, variables, and equations into discrete counterparts."
   ]
  },
  {
   "cell_type": "markdown",
   "id": "b9e7f14b",
   "metadata": {},
   "source": [
    "# Use of Discretization\n",
    "\n",
    "* ## To Handle Outliers\n",
    "* ## To Improve the value spread"
   ]
  },
  {
   "cell_type": "markdown",
   "id": "755396ef",
   "metadata": {},
   "source": [
    "# Types of Discretization\n",
    "* # Unsupervised\n",
    "    * ## Three Types Of Unsupervised Discretization\n",
    "        * ### Equal Width / Uniform\n",
    "        * ### Equal Frequency / Quantile\n",
    "        * ### K-Means\n",
    "        <br>\n",
    "* # Supervised\n",
    "    * ## Only One Type of Supervised Discretization\n",
    "        * ### Decision Tree \n",
    "* # Custom\n",
    "<br>"
   ]
  },
  {
   "cell_type": "markdown",
   "id": "fe2c348b",
   "metadata": {},
   "source": [
    "# Syntax :\n",
    "\n",
    "### KBinsDiscretizer(n_bins,strategy,encode)\n",
    "\n",
    "### strategy = uniform / quantile / kmean\n",
    "### encode = ordinal (used when the data are orderd ) / onehot ( when the the are not orderd)"
   ]
  },
  {
   "cell_type": "markdown",
   "id": "8d4b75a7",
   "metadata": {},
   "source": [
    "# Unsupervised Discretization\n",
    "\n",
    "## Equal Width / Uniform\n",
    "\n",
    "# Uniform: Each bin has the same width in the span of possible values for the variable."
   ]
  },
  {
   "cell_type": "code",
   "execution_count": 1,
   "id": "e63baf00",
   "metadata": {},
   "outputs": [],
   "source": [
    "import pandas as pd\n",
    "import numpy as np\n",
    "import matplotlib.pyplot as plt\n",
    "\n",
    "from sklearn.model_selection import train_test_split,cross_val_score\n",
    "from sklearn.metrics import accuracy_score\n",
    "from sklearn.compose import ColumnTransformer\n",
    "\n",
    "from sklearn.tree import DecisionTreeClassifier\n",
    "from sklearn.preprocessing import KBinsDiscretizer\n"
   ]
  },
  {
   "cell_type": "code",
   "execution_count": 2,
   "id": "b1d66a84",
   "metadata": {},
   "outputs": [
    {
     "data": {
      "text/html": [
       "<div>\n",
       "<style scoped>\n",
       "    .dataframe tbody tr th:only-of-type {\n",
       "        vertical-align: middle;\n",
       "    }\n",
       "\n",
       "    .dataframe tbody tr th {\n",
       "        vertical-align: top;\n",
       "    }\n",
       "\n",
       "    .dataframe thead th {\n",
       "        text-align: right;\n",
       "    }\n",
       "</style>\n",
       "<table border=\"1\" class=\"dataframe\">\n",
       "  <thead>\n",
       "    <tr style=\"text-align: right;\">\n",
       "      <th></th>\n",
       "      <th>Age</th>\n",
       "    </tr>\n",
       "  </thead>\n",
       "  <tbody>\n",
       "    <tr>\n",
       "      <th>0</th>\n",
       "      <td>80</td>\n",
       "    </tr>\n",
       "    <tr>\n",
       "      <th>1</th>\n",
       "      <td>15</td>\n",
       "    </tr>\n",
       "    <tr>\n",
       "      <th>2</th>\n",
       "      <td>15</td>\n",
       "    </tr>\n",
       "    <tr>\n",
       "      <th>3</th>\n",
       "      <td>13</td>\n",
       "    </tr>\n",
       "    <tr>\n",
       "      <th>4</th>\n",
       "      <td>28</td>\n",
       "    </tr>\n",
       "    <tr>\n",
       "      <th>5</th>\n",
       "      <td>35</td>\n",
       "    </tr>\n",
       "    <tr>\n",
       "      <th>6</th>\n",
       "      <td>40</td>\n",
       "    </tr>\n",
       "    <tr>\n",
       "      <th>7</th>\n",
       "      <td>45</td>\n",
       "    </tr>\n",
       "    <tr>\n",
       "      <th>8</th>\n",
       "      <td>50</td>\n",
       "    </tr>\n",
       "    <tr>\n",
       "      <th>9</th>\n",
       "      <td>55</td>\n",
       "    </tr>\n",
       "    <tr>\n",
       "      <th>10</th>\n",
       "      <td>20</td>\n",
       "    </tr>\n",
       "  </tbody>\n",
       "</table>\n",
       "</div>"
      ],
      "text/plain": [
       "    Age\n",
       "0    80\n",
       "1    15\n",
       "2    15\n",
       "3    13\n",
       "4    28\n",
       "5    35\n",
       "6    40\n",
       "7    45\n",
       "8    50\n",
       "9    55\n",
       "10   20"
      ]
     },
     "execution_count": 2,
     "metadata": {},
     "output_type": "execute_result"
    }
   ],
   "source": [
    "data = {\n",
    "    \"Age\":[80,15,15,13,28,35,40,45,50,55,20]\n",
    "}\n",
    "data = pd.DataFrame(data)\n",
    "data"
   ]
  },
  {
   "cell_type": "markdown",
   "id": "fe39f7ed",
   "metadata": {},
   "source": [
    "# Apply Equal Width / Uniform"
   ]
  },
  {
   "cell_type": "code",
   "execution_count": 3,
   "id": "fec3bfb2",
   "metadata": {},
   "outputs": [],
   "source": [
    "kbin_age = KBinsDiscretizer(n_bins=3,strategy='uniform',encode=\"ordinal\")"
   ]
  },
  {
   "cell_type": "markdown",
   "id": "03b27825",
   "metadata": {},
   "source": [
    "# Use ColumnTransformer"
   ]
  },
  {
   "cell_type": "code",
   "execution_count": 4,
   "id": "637715b2",
   "metadata": {},
   "outputs": [],
   "source": [
    "trf = ColumnTransformer(\n",
    "[\n",
    "    \n",
    "    (\"age\",kbin_age,[0]),\n",
    "]\n",
    "\n",
    ")"
   ]
  },
  {
   "cell_type": "code",
   "execution_count": 5,
   "id": "3ec89e88",
   "metadata": {
    "scrolled": false
   },
   "outputs": [
    {
     "data": {
      "text/plain": [
       "array([[2.],\n",
       "       [0.],\n",
       "       [0.],\n",
       "       [0.],\n",
       "       [0.],\n",
       "       [0.],\n",
       "       [1.],\n",
       "       [1.],\n",
       "       [1.],\n",
       "       [1.],\n",
       "       [0.]])"
      ]
     },
     "execution_count": 5,
     "metadata": {},
     "output_type": "execute_result"
    }
   ],
   "source": [
    "new_data = trf.fit_transform(data)\n",
    "new_data"
   ]
  },
  {
   "cell_type": "markdown",
   "id": "e2f91870",
   "metadata": {},
   "source": [
    "# Check Transform"
   ]
  },
  {
   "cell_type": "code",
   "execution_count": 6,
   "id": "dd22b3c2",
   "metadata": {},
   "outputs": [
    {
     "data": {
      "text/plain": [
       "{'age': KBinsDiscretizer(encode='ordinal', n_bins=3, strategy='uniform')}"
      ]
     },
     "execution_count": 6,
     "metadata": {},
     "output_type": "execute_result"
    }
   ],
   "source": [
    "trf.named_transformers_\n"
   ]
  },
  {
   "cell_type": "markdown",
   "id": "5bacb089",
   "metadata": {},
   "source": [
    "# Check Bins"
   ]
  },
  {
   "cell_type": "code",
   "execution_count": 7,
   "id": "743498e1",
   "metadata": {},
   "outputs": [
    {
     "data": {
      "text/plain": [
       "array([3])"
      ]
     },
     "execution_count": 7,
     "metadata": {},
     "output_type": "execute_result"
    }
   ],
   "source": [
    "trf.named_transformers_[\"age\"].n_bins_"
   ]
  },
  {
   "cell_type": "markdown",
   "id": "c61fff74",
   "metadata": {},
   "source": [
    "# Check Edges range"
   ]
  },
  {
   "cell_type": "code",
   "execution_count": 8,
   "id": "963856b9",
   "metadata": {},
   "outputs": [
    {
     "data": {
      "text/plain": [
       "array([array([13.        , 35.33333333, 57.66666667, 80.        ])],\n",
       "      dtype=object)"
      ]
     },
     "execution_count": 8,
     "metadata": {},
     "output_type": "execute_result"
    }
   ],
   "source": [
    "trf.named_transformers_[\"age\"].bin_edges_"
   ]
  },
  {
   "cell_type": "code",
   "execution_count": 9,
   "id": "2a811983",
   "metadata": {},
   "outputs": [
    {
     "data": {
      "text/html": [
       "<div>\n",
       "<style scoped>\n",
       "    .dataframe tbody tr th:only-of-type {\n",
       "        vertical-align: middle;\n",
       "    }\n",
       "\n",
       "    .dataframe tbody tr th {\n",
       "        vertical-align: top;\n",
       "    }\n",
       "\n",
       "    .dataframe thead th {\n",
       "        text-align: right;\n",
       "    }\n",
       "</style>\n",
       "<table border=\"1\" class=\"dataframe\">\n",
       "  <thead>\n",
       "    <tr style=\"text-align: right;\">\n",
       "      <th></th>\n",
       "      <th>age</th>\n",
       "      <th>age_trf</th>\n",
       "    </tr>\n",
       "  </thead>\n",
       "  <tbody>\n",
       "    <tr>\n",
       "      <th>0</th>\n",
       "      <td>80</td>\n",
       "      <td>2.0</td>\n",
       "    </tr>\n",
       "    <tr>\n",
       "      <th>1</th>\n",
       "      <td>15</td>\n",
       "      <td>0.0</td>\n",
       "    </tr>\n",
       "    <tr>\n",
       "      <th>2</th>\n",
       "      <td>15</td>\n",
       "      <td>0.0</td>\n",
       "    </tr>\n",
       "    <tr>\n",
       "      <th>3</th>\n",
       "      <td>13</td>\n",
       "      <td>0.0</td>\n",
       "    </tr>\n",
       "    <tr>\n",
       "      <th>4</th>\n",
       "      <td>28</td>\n",
       "      <td>0.0</td>\n",
       "    </tr>\n",
       "    <tr>\n",
       "      <th>5</th>\n",
       "      <td>35</td>\n",
       "      <td>0.0</td>\n",
       "    </tr>\n",
       "    <tr>\n",
       "      <th>6</th>\n",
       "      <td>40</td>\n",
       "      <td>1.0</td>\n",
       "    </tr>\n",
       "    <tr>\n",
       "      <th>7</th>\n",
       "      <td>45</td>\n",
       "      <td>1.0</td>\n",
       "    </tr>\n",
       "    <tr>\n",
       "      <th>8</th>\n",
       "      <td>50</td>\n",
       "      <td>1.0</td>\n",
       "    </tr>\n",
       "    <tr>\n",
       "      <th>9</th>\n",
       "      <td>55</td>\n",
       "      <td>1.0</td>\n",
       "    </tr>\n",
       "    <tr>\n",
       "      <th>10</th>\n",
       "      <td>20</td>\n",
       "      <td>0.0</td>\n",
       "    </tr>\n",
       "  </tbody>\n",
       "</table>\n",
       "</div>"
      ],
      "text/plain": [
       "    age  age_trf\n",
       "0    80      2.0\n",
       "1    15      0.0\n",
       "2    15      0.0\n",
       "3    13      0.0\n",
       "4    28      0.0\n",
       "5    35      0.0\n",
       "6    40      1.0\n",
       "7    45      1.0\n",
       "8    50      1.0\n",
       "9    55      1.0\n",
       "10   20      0.0"
      ]
     },
     "execution_count": 9,
     "metadata": {},
     "output_type": "execute_result"
    }
   ],
   "source": [
    "output = pd.DataFrame({\n",
    "    \"age\":data[\"Age\"],\n",
    "    \"age_trf\":new_data[:,0],\n",
    "})\n",
    "output"
   ]
  },
  {
   "cell_type": "markdown",
   "id": "ed3eea5b",
   "metadata": {},
   "source": [
    "# Attach Labels"
   ]
  },
  {
   "cell_type": "code",
   "execution_count": 10,
   "id": "28048cb5",
   "metadata": {},
   "outputs": [
    {
     "data": {
      "text/html": [
       "<div>\n",
       "<style scoped>\n",
       "    .dataframe tbody tr th:only-of-type {\n",
       "        vertical-align: middle;\n",
       "    }\n",
       "\n",
       "    .dataframe tbody tr th {\n",
       "        vertical-align: top;\n",
       "    }\n",
       "\n",
       "    .dataframe thead th {\n",
       "        text-align: right;\n",
       "    }\n",
       "</style>\n",
       "<table border=\"1\" class=\"dataframe\">\n",
       "  <thead>\n",
       "    <tr style=\"text-align: right;\">\n",
       "      <th></th>\n",
       "      <th>age</th>\n",
       "      <th>age_trf</th>\n",
       "      <th>age_labels</th>\n",
       "    </tr>\n",
       "  </thead>\n",
       "  <tbody>\n",
       "    <tr>\n",
       "      <th>0</th>\n",
       "      <td>80</td>\n",
       "      <td>2.0</td>\n",
       "      <td>(57.667, 80.0]</td>\n",
       "    </tr>\n",
       "    <tr>\n",
       "      <th>1</th>\n",
       "      <td>15</td>\n",
       "      <td>0.0</td>\n",
       "      <td>(13.0, 35.333]</td>\n",
       "    </tr>\n",
       "    <tr>\n",
       "      <th>2</th>\n",
       "      <td>15</td>\n",
       "      <td>0.0</td>\n",
       "      <td>(13.0, 35.333]</td>\n",
       "    </tr>\n",
       "    <tr>\n",
       "      <th>3</th>\n",
       "      <td>13</td>\n",
       "      <td>0.0</td>\n",
       "      <td>NaN</td>\n",
       "    </tr>\n",
       "    <tr>\n",
       "      <th>4</th>\n",
       "      <td>28</td>\n",
       "      <td>0.0</td>\n",
       "      <td>(13.0, 35.333]</td>\n",
       "    </tr>\n",
       "    <tr>\n",
       "      <th>5</th>\n",
       "      <td>35</td>\n",
       "      <td>0.0</td>\n",
       "      <td>(13.0, 35.333]</td>\n",
       "    </tr>\n",
       "    <tr>\n",
       "      <th>6</th>\n",
       "      <td>40</td>\n",
       "      <td>1.0</td>\n",
       "      <td>(35.333, 57.667]</td>\n",
       "    </tr>\n",
       "    <tr>\n",
       "      <th>7</th>\n",
       "      <td>45</td>\n",
       "      <td>1.0</td>\n",
       "      <td>(35.333, 57.667]</td>\n",
       "    </tr>\n",
       "    <tr>\n",
       "      <th>8</th>\n",
       "      <td>50</td>\n",
       "      <td>1.0</td>\n",
       "      <td>(35.333, 57.667]</td>\n",
       "    </tr>\n",
       "    <tr>\n",
       "      <th>9</th>\n",
       "      <td>55</td>\n",
       "      <td>1.0</td>\n",
       "      <td>(35.333, 57.667]</td>\n",
       "    </tr>\n",
       "    <tr>\n",
       "      <th>10</th>\n",
       "      <td>20</td>\n",
       "      <td>0.0</td>\n",
       "      <td>(13.0, 35.333]</td>\n",
       "    </tr>\n",
       "  </tbody>\n",
       "</table>\n",
       "</div>"
      ],
      "text/plain": [
       "    age  age_trf        age_labels\n",
       "0    80      2.0    (57.667, 80.0]\n",
       "1    15      0.0    (13.0, 35.333]\n",
       "2    15      0.0    (13.0, 35.333]\n",
       "3    13      0.0               NaN\n",
       "4    28      0.0    (13.0, 35.333]\n",
       "5    35      0.0    (13.0, 35.333]\n",
       "6    40      1.0  (35.333, 57.667]\n",
       "7    45      1.0  (35.333, 57.667]\n",
       "8    50      1.0  (35.333, 57.667]\n",
       "9    55      1.0  (35.333, 57.667]\n",
       "10   20      0.0    (13.0, 35.333]"
      ]
     },
     "execution_count": 10,
     "metadata": {},
     "output_type": "execute_result"
    }
   ],
   "source": [
    "output[\"age_labels\"] = pd.cut(data[\"Age\"],trf.named_transformers_[\"age\"].bin_edges_[0].tolist())\n",
    "output"
   ]
  },
  {
   "cell_type": "markdown",
   "id": "626a2971",
   "metadata": {},
   "source": [
    "# Formulae\n",
    "## ( Max - Min ) / Bins = Ans\n",
    "\n",
    "## e.g Max = 80 , Min = 13 , Bins = 3\n",
    "\n",
    "## (80-13)/3 = 22\n",
    "\n",
    "## 13 + 22 = 35  (13,35)\n",
    "## 35 + 22 = 57 (35,57)\n",
    "## 57 + 22 = 79 (57,79+1)\n"
   ]
  },
  {
   "cell_type": "markdown",
   "id": "3f62dc79",
   "metadata": {},
   "source": [
    "# Graph"
   ]
  },
  {
   "cell_type": "code",
   "execution_count": 11,
   "id": "78c73d8f",
   "metadata": {},
   "outputs": [
    {
     "data": {
      "image/png": "[encoded data removed]",
      "text/plain": [
       "<Figure size 1008x360 with 2 Axes>"
      ]
     },
     "metadata": {
      "needs_background": "light"
     },
     "output_type": "display_data"
    }
   ],
   "source": [
    "plt.figure(figsize=(14,5))\n",
    "plt.subplot(121)\n",
    "plt.hist(data[\"Age\"])\n",
    "plt.title(\"Before\")\n",
    "\n",
    "plt.subplot(122)\n",
    "plt.hist(new_data[:,0],color=\"orange\")\n",
    "plt.title(\"After\")\n",
    "\n",
    "plt.show()"
   ]
  },
  {
   "cell_type": "markdown",
   "id": "de2afb1b",
   "metadata": {},
   "source": [
    "# Create Function"
   ]
  },
  {
   "cell_type": "code",
   "execution_count": 12,
   "id": "517eb0d3",
   "metadata": {},
   "outputs": [],
   "source": [
    "def discretize(bins,strategy):\n",
    "    kbin_age = KBinsDiscretizer(n_bins=bins,encode='ordinal',strategy=strategy)\n",
    "    \n",
    "    trf = ColumnTransformer([\n",
    "        ('first',kbin_age,[0]),\n",
    "       ])\n",
    "    \n",
    "    X_trf = trf.fit_transform(data)\n",
    "    \n",
    "    plt.figure(figsize=(14,4))\n",
    "    plt.subplot(121)\n",
    "    plt.hist(data['Age'])\n",
    "    plt.title(\"Before Age\")\n",
    "\n",
    "    plt.subplot(122)\n",
    "    plt.hist(X_trf[:,0],color='orange')\n",
    "    plt.title(\"After Age\")\n",
    "\n",
    "    plt.show()\n",
    "    dss = pd.DataFrame({\"Age\":data.Age,\"Age_Trf\":X_trf[:,0]})\n",
    "    dss[\"labels\"] = pd.cut(data[\"Age\"],trf.named_transformers_['first'].bin_edges_[0].tolist())\n",
    "    return dss\n"
   ]
  },
  {
   "cell_type": "markdown",
   "id": "3b263c77",
   "metadata": {},
   "source": [
    "# Equal Width / Uniform"
   ]
  },
  {
   "cell_type": "code",
   "execution_count": 13,
   "id": "9a58e790",
   "metadata": {},
   "outputs": [
    {
     "data": {
      "image/png": "[encoded data removed]",
      "text/plain": [
       "<Figure size 1008x288 with 2 Axes>"
      ]
     },
     "metadata": {
      "needs_background": "light"
     },
     "output_type": "display_data"
    },
    {
     "data": {
      "text/html": [
       "<div>\n",
       "<style scoped>\n",
       "    .dataframe tbody tr th:only-of-type {\n",
       "        vertical-align: middle;\n",
       "    }\n",
       "\n",
       "    .dataframe tbody tr th {\n",
       "        vertical-align: top;\n",
       "    }\n",
       "\n",
       "    .dataframe thead th {\n",
       "        text-align: right;\n",
       "    }\n",
       "</style>\n",
       "<table border=\"1\" class=\"dataframe\">\n",
       "  <thead>\n",
       "    <tr style=\"text-align: right;\">\n",
       "      <th></th>\n",
       "      <th>Age</th>\n",
       "      <th>Age_Trf</th>\n",
       "      <th>labels</th>\n",
       "    </tr>\n",
       "  </thead>\n",
       "  <tbody>\n",
       "    <tr>\n",
       "      <th>0</th>\n",
       "      <td>80</td>\n",
       "      <td>2.0</td>\n",
       "      <td>(57.667, 80.0]</td>\n",
       "    </tr>\n",
       "    <tr>\n",
       "      <th>1</th>\n",
       "      <td>15</td>\n",
       "      <td>0.0</td>\n",
       "      <td>(13.0, 35.333]</td>\n",
       "    </tr>\n",
       "    <tr>\n",
       "      <th>2</th>\n",
       "      <td>15</td>\n",
       "      <td>0.0</td>\n",
       "      <td>(13.0, 35.333]</td>\n",
       "    </tr>\n",
       "    <tr>\n",
       "      <th>3</th>\n",
       "      <td>13</td>\n",
       "      <td>0.0</td>\n",
       "      <td>NaN</td>\n",
       "    </tr>\n",
       "    <tr>\n",
       "      <th>4</th>\n",
       "      <td>28</td>\n",
       "      <td>0.0</td>\n",
       "      <td>(13.0, 35.333]</td>\n",
       "    </tr>\n",
       "    <tr>\n",
       "      <th>5</th>\n",
       "      <td>35</td>\n",
       "      <td>0.0</td>\n",
       "      <td>(13.0, 35.333]</td>\n",
       "    </tr>\n",
       "    <tr>\n",
       "      <th>6</th>\n",
       "      <td>40</td>\n",
       "      <td>1.0</td>\n",
       "      <td>(35.333, 57.667]</td>\n",
       "    </tr>\n",
       "    <tr>\n",
       "      <th>7</th>\n",
       "      <td>45</td>\n",
       "      <td>1.0</td>\n",
       "      <td>(35.333, 57.667]</td>\n",
       "    </tr>\n",
       "    <tr>\n",
       "      <th>8</th>\n",
       "      <td>50</td>\n",
       "      <td>1.0</td>\n",
       "      <td>(35.333, 57.667]</td>\n",
       "    </tr>\n",
       "    <tr>\n",
       "      <th>9</th>\n",
       "      <td>55</td>\n",
       "      <td>1.0</td>\n",
       "      <td>(35.333, 57.667]</td>\n",
       "    </tr>\n",
       "    <tr>\n",
       "      <th>10</th>\n",
       "      <td>20</td>\n",
       "      <td>0.0</td>\n",
       "      <td>(13.0, 35.333]</td>\n",
       "    </tr>\n",
       "  </tbody>\n",
       "</table>\n",
       "</div>"
      ],
      "text/plain": [
       "    Age  Age_Trf            labels\n",
       "0    80      2.0    (57.667, 80.0]\n",
       "1    15      0.0    (13.0, 35.333]\n",
       "2    15      0.0    (13.0, 35.333]\n",
       "3    13      0.0               NaN\n",
       "4    28      0.0    (13.0, 35.333]\n",
       "5    35      0.0    (13.0, 35.333]\n",
       "6    40      1.0  (35.333, 57.667]\n",
       "7    45      1.0  (35.333, 57.667]\n",
       "8    50      1.0  (35.333, 57.667]\n",
       "9    55      1.0  (35.333, 57.667]\n",
       "10   20      0.0    (13.0, 35.333]"
      ]
     },
     "execution_count": 13,
     "metadata": {},
     "output_type": "execute_result"
    }
   ],
   "source": [
    "discretize(3,\"uniform\")"
   ]
  },
  {
   "cell_type": "markdown",
   "id": "e16caf98",
   "metadata": {},
   "source": [
    "# Equal Frequency / Quantile\n",
    "# Quantile: Each bin has the same number of values, split based on percentiles."
   ]
  },
  {
   "cell_type": "code",
   "execution_count": 14,
   "id": "74312df5",
   "metadata": {},
   "outputs": [
    {
     "data": {
      "image/png": "[encoded data removed]",
      "text/plain": [
       "<Figure size 1008x288 with 2 Axes>"
      ]
     },
     "metadata": {
      "needs_background": "light"
     },
     "output_type": "display_data"
    },
    {
     "data": {
      "text/html": [
       "<div>\n",
       "<style scoped>\n",
       "    .dataframe tbody tr th:only-of-type {\n",
       "        vertical-align: middle;\n",
       "    }\n",
       "\n",
       "    .dataframe tbody tr th {\n",
       "        vertical-align: top;\n",
       "    }\n",
       "\n",
       "    .dataframe thead th {\n",
       "        text-align: right;\n",
       "    }\n",
       "</style>\n",
       "<table border=\"1\" class=\"dataframe\">\n",
       "  <thead>\n",
       "    <tr style=\"text-align: right;\">\n",
       "      <th></th>\n",
       "      <th>Age</th>\n",
       "      <th>Age_Trf</th>\n",
       "      <th>labels</th>\n",
       "    </tr>\n",
       "  </thead>\n",
       "  <tbody>\n",
       "    <tr>\n",
       "      <th>0</th>\n",
       "      <td>80</td>\n",
       "      <td>2.0</td>\n",
       "      <td>(43.333, 80.0]</td>\n",
       "    </tr>\n",
       "    <tr>\n",
       "      <th>1</th>\n",
       "      <td>15</td>\n",
       "      <td>0.0</td>\n",
       "      <td>(13.0, 22.667]</td>\n",
       "    </tr>\n",
       "    <tr>\n",
       "      <th>2</th>\n",
       "      <td>15</td>\n",
       "      <td>0.0</td>\n",
       "      <td>(13.0, 22.667]</td>\n",
       "    </tr>\n",
       "    <tr>\n",
       "      <th>3</th>\n",
       "      <td>13</td>\n",
       "      <td>0.0</td>\n",
       "      <td>NaN</td>\n",
       "    </tr>\n",
       "    <tr>\n",
       "      <th>4</th>\n",
       "      <td>28</td>\n",
       "      <td>1.0</td>\n",
       "      <td>(22.667, 43.333]</td>\n",
       "    </tr>\n",
       "    <tr>\n",
       "      <th>5</th>\n",
       "      <td>35</td>\n",
       "      <td>1.0</td>\n",
       "      <td>(22.667, 43.333]</td>\n",
       "    </tr>\n",
       "    <tr>\n",
       "      <th>6</th>\n",
       "      <td>40</td>\n",
       "      <td>1.0</td>\n",
       "      <td>(22.667, 43.333]</td>\n",
       "    </tr>\n",
       "    <tr>\n",
       "      <th>7</th>\n",
       "      <td>45</td>\n",
       "      <td>2.0</td>\n",
       "      <td>(43.333, 80.0]</td>\n",
       "    </tr>\n",
       "    <tr>\n",
       "      <th>8</th>\n",
       "      <td>50</td>\n",
       "      <td>2.0</td>\n",
       "      <td>(43.333, 80.0]</td>\n",
       "    </tr>\n",
       "    <tr>\n",
       "      <th>9</th>\n",
       "      <td>55</td>\n",
       "      <td>2.0</td>\n",
       "      <td>(43.333, 80.0]</td>\n",
       "    </tr>\n",
       "    <tr>\n",
       "      <th>10</th>\n",
       "      <td>20</td>\n",
       "      <td>0.0</td>\n",
       "      <td>(13.0, 22.667]</td>\n",
       "    </tr>\n",
       "  </tbody>\n",
       "</table>\n",
       "</div>"
      ],
      "text/plain": [
       "    Age  Age_Trf            labels\n",
       "0    80      2.0    (43.333, 80.0]\n",
       "1    15      0.0    (13.0, 22.667]\n",
       "2    15      0.0    (13.0, 22.667]\n",
       "3    13      0.0               NaN\n",
       "4    28      1.0  (22.667, 43.333]\n",
       "5    35      1.0  (22.667, 43.333]\n",
       "6    40      1.0  (22.667, 43.333]\n",
       "7    45      2.0    (43.333, 80.0]\n",
       "8    50      2.0    (43.333, 80.0]\n",
       "9    55      2.0    (43.333, 80.0]\n",
       "10   20      0.0    (13.0, 22.667]"
      ]
     },
     "execution_count": 14,
     "metadata": {},
     "output_type": "execute_result"
    }
   ],
   "source": [
    "discretize(3,\"quantile\")"
   ]
  },
  {
   "cell_type": "markdown",
   "id": "24486305",
   "metadata": {},
   "source": [
    "# Kmeans"
   ]
  },
  {
   "cell_type": "code",
   "execution_count": 15,
   "id": "e0f3fcb9",
   "metadata": {},
   "outputs": [
    {
     "data": {
      "image/png": "[encoded data removed]",
      "text/plain": [
       "<Figure size 1008x288 with 2 Axes>"
      ]
     },
     "metadata": {
      "needs_background": "light"
     },
     "output_type": "display_data"
    },
    {
     "data": {
      "text/html": [
       "<div>\n",
       "<style scoped>\n",
       "    .dataframe tbody tr th:only-of-type {\n",
       "        vertical-align: middle;\n",
       "    }\n",
       "\n",
       "    .dataframe tbody tr th {\n",
       "        vertical-align: top;\n",
       "    }\n",
       "\n",
       "    .dataframe thead th {\n",
       "        text-align: right;\n",
       "    }\n",
       "</style>\n",
       "<table border=\"1\" class=\"dataframe\">\n",
       "  <thead>\n",
       "    <tr style=\"text-align: right;\">\n",
       "      <th></th>\n",
       "      <th>Age</th>\n",
       "      <th>Age_Trf</th>\n",
       "      <th>labels</th>\n",
       "    </tr>\n",
       "  </thead>\n",
       "  <tbody>\n",
       "    <tr>\n",
       "      <th>0</th>\n",
       "      <td>80</td>\n",
       "      <td>2.0</td>\n",
       "      <td>(62.5, 80.0]</td>\n",
       "    </tr>\n",
       "    <tr>\n",
       "      <th>1</th>\n",
       "      <td>15</td>\n",
       "      <td>0.0</td>\n",
       "      <td>(13.0, 31.6]</td>\n",
       "    </tr>\n",
       "    <tr>\n",
       "      <th>2</th>\n",
       "      <td>15</td>\n",
       "      <td>0.0</td>\n",
       "      <td>(13.0, 31.6]</td>\n",
       "    </tr>\n",
       "    <tr>\n",
       "      <th>3</th>\n",
       "      <td>13</td>\n",
       "      <td>0.0</td>\n",
       "      <td>NaN</td>\n",
       "    </tr>\n",
       "    <tr>\n",
       "      <th>4</th>\n",
       "      <td>28</td>\n",
       "      <td>0.0</td>\n",
       "      <td>(13.0, 31.6]</td>\n",
       "    </tr>\n",
       "    <tr>\n",
       "      <th>5</th>\n",
       "      <td>35</td>\n",
       "      <td>1.0</td>\n",
       "      <td>(31.6, 62.5]</td>\n",
       "    </tr>\n",
       "    <tr>\n",
       "      <th>6</th>\n",
       "      <td>40</td>\n",
       "      <td>1.0</td>\n",
       "      <td>(31.6, 62.5]</td>\n",
       "    </tr>\n",
       "    <tr>\n",
       "      <th>7</th>\n",
       "      <td>45</td>\n",
       "      <td>1.0</td>\n",
       "      <td>(31.6, 62.5]</td>\n",
       "    </tr>\n",
       "    <tr>\n",
       "      <th>8</th>\n",
       "      <td>50</td>\n",
       "      <td>1.0</td>\n",
       "      <td>(31.6, 62.5]</td>\n",
       "    </tr>\n",
       "    <tr>\n",
       "      <th>9</th>\n",
       "      <td>55</td>\n",
       "      <td>1.0</td>\n",
       "      <td>(31.6, 62.5]</td>\n",
       "    </tr>\n",
       "    <tr>\n",
       "      <th>10</th>\n",
       "      <td>20</td>\n",
       "      <td>0.0</td>\n",
       "      <td>(13.0, 31.6]</td>\n",
       "    </tr>\n",
       "  </tbody>\n",
       "</table>\n",
       "</div>"
      ],
      "text/plain": [
       "    Age  Age_Trf        labels\n",
       "0    80      2.0  (62.5, 80.0]\n",
       "1    15      0.0  (13.0, 31.6]\n",
       "2    15      0.0  (13.0, 31.6]\n",
       "3    13      0.0           NaN\n",
       "4    28      0.0  (13.0, 31.6]\n",
       "5    35      1.0  (31.6, 62.5]\n",
       "6    40      1.0  (31.6, 62.5]\n",
       "7    45      1.0  (31.6, 62.5]\n",
       "8    50      1.0  (31.6, 62.5]\n",
       "9    55      1.0  (31.6, 62.5]\n",
       "10   20      0.0  (13.0, 31.6]"
      ]
     },
     "execution_count": 15,
     "metadata": {},
     "output_type": "execute_result"
    }
   ],
   "source": [
    "discretize(3,\"kmeans\")"
   ]
  },
  {
   "cell_type": "markdown",
   "id": "a522d97b",
   "metadata": {},
   "source": [
    "# Working on Dataset"
   ]
  },
  {
   "cell_type": "markdown",
   "id": "5cfdc70b",
   "metadata": {},
   "source": [
    "# Create Function"
   ]
  },
  {
   "cell_type": "code",
   "execution_count": 16,
   "id": "f69cfbee",
   "metadata": {},
   "outputs": [],
   "source": [
    "df = pd.read_csv('train.csv',usecols=['Age','Fare','Survived'])\n",
    "df.dropna(inplace=True)\n",
    "X = df.iloc[:,1:]\n",
    "y = df.iloc[:,0]\n",
    "X_train,X_test,y_train,y_test = train_test_split(X,y,test_size=0.2,random_state=42)"
   ]
  },
  {
   "cell_type": "code",
   "execution_count": 17,
   "id": "8da1aa4c",
   "metadata": {},
   "outputs": [],
   "source": [
    "def discretize(bins,strategy):\n",
    "    kbin_age = KBinsDiscretizer(n_bins=bins,encode='ordinal',strategy=strategy)\n",
    "    kbin_fare = KBinsDiscretizer(n_bins=bins,encode='ordinal',strategy=strategy)\n",
    "    \n",
    "    trf = ColumnTransformer([\n",
    "        ('first',kbin_age,[0]),\n",
    "        ('second',kbin_fare,[1])\n",
    "    ])\n",
    "    \n",
    "    X_trf = trf.fit_transform(X)\n",
    "    print(np.mean(cross_val_score(DecisionTreeClassifier(),X,y,cv=10,scoring='accuracy')))\n",
    "    \n",
    "    plt.figure(figsize=(14,4))\n",
    "    plt.subplot(121)\n",
    "    plt.hist(X['Age'])\n",
    "    plt.title(\"Before Age\")\n",
    "\n",
    "    plt.subplot(122)\n",
    "    plt.hist(X_trf[:,0],color='orange')\n",
    "    plt.title(\"After Age\")\n",
    "\n",
    "    plt.show()\n",
    "    \n",
    "    plt.figure(figsize=(14,4))\n",
    "    plt.subplot(121)\n",
    "    plt.hist(X['Fare'])\n",
    "    plt.title(\"Before Fare\")\n",
    "\n",
    "    plt.subplot(122)\n",
    "    plt.hist(X_trf[:,1],color='orange')\n",
    "    plt.title(\"After Fare\")\n",
    "\n",
    "    plt.show()"
   ]
  },
  {
   "cell_type": "markdown",
   "id": "d8d6376f",
   "metadata": {},
   "source": [
    "# Equal Width / Uniform"
   ]
  },
  {
   "cell_type": "code",
   "execution_count": 18,
   "id": "57efb6ff",
   "metadata": {
    "scrolled": false
   },
   "outputs": [
    {
     "name": "stdout",
     "output_type": "stream",
     "text": [
      "0.6330985915492958\n"
     ]
    },
    {
     "data": {
      "image/png": "[encoded data removed]",
      "text/plain": [
       "<Figure size 1008x288 with 2 Axes>"
      ]
     },
     "metadata": {
      "needs_background": "light"
     },
     "output_type": "display_data"
    },
    {
     "data": {
      "image/png": "[encoded data removed]",
      "text/plain": [
       "<Figure size 1008x288 with 2 Axes>"
      ]
     },
     "metadata": {
      "needs_background": "light"
     },
     "output_type": "display_data"
    }
   ],
   "source": [
    "discretize(15,\"uniform\")"
   ]
  },
  {
   "cell_type": "markdown",
   "id": "bb4764a1",
   "metadata": {},
   "source": [
    "# Equal Frequency / Quantile\n",
    "\n",
    "## Quantile are most used "
   ]
  },
  {
   "cell_type": "code",
   "execution_count": 19,
   "id": "602870cc",
   "metadata": {},
   "outputs": [
    {
     "name": "stdout",
     "output_type": "stream",
     "text": [
      "0.630281690140845\n"
     ]
    },
    {
     "data": {
      "image/png": "[encoded data removed]",
      "text/plain": [
       "<Figure size 1008x288 with 2 Axes>"
      ]
     },
     "metadata": {
      "needs_background": "light"
     },
     "output_type": "display_data"
    },
    {
     "data": {
      "image/png": "[encoded data removed]",
      "text/plain": [
       "<Figure size 1008x288 with 2 Axes>"
      ]
     },
     "metadata": {
      "needs_background": "light"
     },
     "output_type": "display_data"
    }
   ],
   "source": [
    "discretize(15,\"quantile\")"
   ]
  },
  {
   "cell_type": "markdown",
   "id": "d2a86155",
   "metadata": {},
   "source": [
    "# Kmeans"
   ]
  },
  {
   "cell_type": "markdown",
   "id": "04d02c05",
   "metadata": {},
   "source": [
    "## K-means only used when the data range are in clusters"
   ]
  },
  {
   "cell_type": "code",
   "execution_count": 20,
   "id": "cefe3e58",
   "metadata": {},
   "outputs": [
    {
     "name": "stdout",
     "output_type": "stream",
     "text": [
      "0.6358959311424099\n"
     ]
    },
    {
     "data": {
      "image/png": "[encoded data removed]",
      "text/plain": [
       "<Figure size 1008x288 with 2 Axes>"
      ]
     },
     "metadata": {
      "needs_background": "light"
     },
     "output_type": "display_data"
    },
    {
     "data": {
      "image/png": "[encoded data removed]",
      "text/plain": [
       "<Figure size 1008x288 with 2 Axes>"
      ]
     },
     "metadata": {
      "needs_background": "light"
     },
     "output_type": "display_data"
    }
   ],
   "source": [
    "discretize(15,\"kmeans\")"
   ]
  }
 ],
 "metadata": {
  "kernelspec": {
   "display_name": "Python 3 (ipykernel)",
   "language": "python",
   "name": "python3"
  },
  "language_info": {
   "codemirror_mode": {
    "name": "ipython",
    "version": 3
   },
   "file_extension": ".py",
   "mimetype": "text/x-python",
   "name": "python",
   "nbconvert_exporter": "python",
   "pygments_lexer": "ipython3",
   "version": "3.9.2"
  }
 },
 "nbformat": 4,
 "nbformat_minor": 5
}
