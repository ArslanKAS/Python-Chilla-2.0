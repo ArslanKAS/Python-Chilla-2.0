{
  "nbformat": 4,
  "nbformat_minor": 0,
  "metadata": {
    "colab": {
      "name": "gradient-boost-step-by-step.ipynb",
      "provenance": []
    },
    "kernelspec": {
      "name": "python3",
      "display_name": "Python 3"
    },
    "language_info": {
      "name": "python"
    }
  },
  "cells": [
    {
      "cell_type": "code",
      "metadata": {
        "id": "uZCSNIawbQKr"
      },
      "source": [
        "import numpy as np\n",
        "import matplotlib.pyplot as plt"
      ],
      "execution_count": 34,
      "outputs": []
    },
    {
      "cell_type": "code",
      "metadata": {
        "id": "IfLejin3bVGL"
      },
      "source": [
        "np.random.seed(42)\n",
        "X = np.random.rand(100, 1) - 0.5\n",
        "y = 3*X[:, 0]**2 + 0.05 * np.random.randn(100)"
      ],
      "execution_count": 35,
      "outputs": []
    },
    {
      "cell_type": "code",
      "metadata": {
        "id": "sMHXeN3kbWlw"
      },
      "source": [
        "import pandas as pd"
      ],
      "execution_count": 36,
      "outputs": []
    },
    {
      "cell_type": "code",
      "metadata": {
        "id": "0jJoztbUbYW7"
      },
      "source": [
        "df = pd.DataFrame()"
      ],
      "execution_count": 37,
      "outputs": []
    },
    {
      "cell_type": "code",
      "metadata": {
        "id": "lHEpruVAbbG3"
      },
      "source": [
        "df['X'] = X.reshape(100)\n",
        "df['y'] = y"
      ],
      "execution_count": 38,
      "outputs": []
    },
    {
      "cell_type": "code",
      "metadata": {
        "colab": {
          "base_uri": "https://localhost:8080/",
          "height": 420
        },
        "id": "p4nfMcL1beac",
        "outputId": "14ca3bed-3869-43a5-9784-6c37e9ff5e2b"
      },
      "source": [
        "df"
      ],
      "execution_count": 39,
      "outputs": [
        {
          "output_type": "execute_result",
          "data": {
            "text/html": [
              "<div>\n",
              "<style scoped>\n",
              "    .dataframe tbody tr th:only-of-type {\n",
              "        vertical-align: middle;\n",
              "    }\n",
              "\n",
              "    .dataframe tbody tr th {\n",
              "        vertical-align: top;\n",
              "    }\n",
              "\n",
              "    .dataframe thead th {\n",
              "        text-align: right;\n",
              "    }\n",
              "</style>\n",
              "<table border=\"1\" class=\"dataframe\">\n",
              "  <thead>\n",
              "    <tr style=\"text-align: right;\">\n",
              "      <th></th>\n",
              "      <th>X</th>\n",
              "      <th>y</th>\n",
              "    </tr>\n",
              "  </thead>\n",
              "  <tbody>\n",
              "    <tr>\n",
              "      <th>0</th>\n",
              "      <td>-0.125460</td>\n",
              "      <td>0.051573</td>\n",
              "    </tr>\n",
              "    <tr>\n",
              "      <th>1</th>\n",
              "      <td>0.450714</td>\n",
              "      <td>0.594480</td>\n",
              "    </tr>\n",
              "    <tr>\n",
              "      <th>2</th>\n",
              "      <td>0.231994</td>\n",
              "      <td>0.166052</td>\n",
              "    </tr>\n",
              "    <tr>\n",
              "      <th>3</th>\n",
              "      <td>0.098658</td>\n",
              "      <td>-0.070178</td>\n",
              "    </tr>\n",
              "    <tr>\n",
              "      <th>4</th>\n",
              "      <td>-0.343981</td>\n",
              "      <td>0.343986</td>\n",
              "    </tr>\n",
              "    <tr>\n",
              "      <th>...</th>\n",
              "      <td>...</td>\n",
              "      <td>...</td>\n",
              "    </tr>\n",
              "    <tr>\n",
              "      <th>95</th>\n",
              "      <td>-0.006204</td>\n",
              "      <td>-0.040675</td>\n",
              "    </tr>\n",
              "    <tr>\n",
              "      <th>96</th>\n",
              "      <td>0.022733</td>\n",
              "      <td>-0.002305</td>\n",
              "    </tr>\n",
              "    <tr>\n",
              "      <th>97</th>\n",
              "      <td>-0.072459</td>\n",
              "      <td>0.032809</td>\n",
              "    </tr>\n",
              "    <tr>\n",
              "      <th>98</th>\n",
              "      <td>-0.474581</td>\n",
              "      <td>0.689516</td>\n",
              "    </tr>\n",
              "    <tr>\n",
              "      <th>99</th>\n",
              "      <td>-0.392109</td>\n",
              "      <td>0.502607</td>\n",
              "    </tr>\n",
              "  </tbody>\n",
              "</table>\n",
              "<p>100 rows × 2 columns</p>\n",
              "</div>"
            ],
            "text/plain": [
              "           X         y\n",
              "0  -0.125460  0.051573\n",
              "1   0.450714  0.594480\n",
              "2   0.231994  0.166052\n",
              "3   0.098658 -0.070178\n",
              "4  -0.343981  0.343986\n",
              "..       ...       ...\n",
              "95 -0.006204 -0.040675\n",
              "96  0.022733 -0.002305\n",
              "97 -0.072459  0.032809\n",
              "98 -0.474581  0.689516\n",
              "99 -0.392109  0.502607\n",
              "\n",
              "[100 rows x 2 columns]"
            ]
          },
          "metadata": {},
          "execution_count": 39
        }
      ]
    },
    {
      "cell_type": "code",
      "metadata": {
        "colab": {
          "base_uri": "https://localhost:8080/",
          "height": 298
        },
        "id": "jpHtK8R1BNtN",
        "outputId": "23ba6686-ba3b-472f-b83a-18e10e2e7901"
      },
      "source": [
        "plt.scatter(df['X'],df['y'])\n",
        "plt.title('X vs Y')"
      ],
      "execution_count": 40,
      "outputs": [
        {
          "output_type": "execute_result",
          "data": {
            "text/plain": [
              "Text(0.5, 1.0, 'X vs Y')"
            ]
          },
          "metadata": {},
          "execution_count": 40
        },
        {
          "output_type": "display_data",
          "data": {
            "image/png": "[encoded data removed]",
            "text/plain": [
              "<Figure size 432x288 with 1 Axes>"
            ]
          },
          "metadata": {
            "needs_background": "light"
          }
        }
      ]
    },
    {
      "cell_type": "code",
      "metadata": {
        "id": "GbiTrFJZbiWY"
      },
      "source": [
        "df['pred1'] = df['y'].mean()"
      ],
      "execution_count": 41,
      "outputs": []
    },
    {
      "cell_type": "code",
      "metadata": {
        "colab": {
          "base_uri": "https://localhost:8080/",
          "height": 420
        },
        "id": "8XuACSn-bvev",
        "outputId": "d846369b-013a-4e7f-ed2d-b6cde34a4b8d"
      },
      "source": [
        "df"
      ],
      "execution_count": 42,
      "outputs": [
        {
          "output_type": "execute_result",
          "data": {
            "text/html": [
              "<div>\n",
              "<style scoped>\n",
              "    .dataframe tbody tr th:only-of-type {\n",
              "        vertical-align: middle;\n",
              "    }\n",
              "\n",
              "    .dataframe tbody tr th {\n",
              "        vertical-align: top;\n",
              "    }\n",
              "\n",
              "    .dataframe thead th {\n",
              "        text-align: right;\n",
              "    }\n",
              "</style>\n",
              "<table border=\"1\" class=\"dataframe\">\n",
              "  <thead>\n",
              "    <tr style=\"text-align: right;\">\n",
              "      <th></th>\n",
              "      <th>X</th>\n",
              "      <th>y</th>\n",
              "      <th>pred1</th>\n",
              "    </tr>\n",
              "  </thead>\n",
              "  <tbody>\n",
              "    <tr>\n",
              "      <th>0</th>\n",
              "      <td>-0.125460</td>\n",
              "      <td>0.051573</td>\n",
              "      <td>0.265458</td>\n",
              "    </tr>\n",
              "    <tr>\n",
              "      <th>1</th>\n",
              "      <td>0.450714</td>\n",
              "      <td>0.594480</td>\n",
              "      <td>0.265458</td>\n",
              "    </tr>\n",
              "    <tr>\n",
              "      <th>2</th>\n",
              "      <td>0.231994</td>\n",
              "      <td>0.166052</td>\n",
              "      <td>0.265458</td>\n",
              "    </tr>\n",
              "    <tr>\n",
              "      <th>3</th>\n",
              "      <td>0.098658</td>\n",
              "      <td>-0.070178</td>\n",
              "      <td>0.265458</td>\n",
              "    </tr>\n",
              "    <tr>\n",
              "      <th>4</th>\n",
              "      <td>-0.343981</td>\n",
              "      <td>0.343986</td>\n",
              "      <td>0.265458</td>\n",
              "    </tr>\n",
              "    <tr>\n",
              "      <th>...</th>\n",
              "      <td>...</td>\n",
              "      <td>...</td>\n",
              "      <td>...</td>\n",
              "    </tr>\n",
              "    <tr>\n",
              "      <th>95</th>\n",
              "      <td>-0.006204</td>\n",
              "      <td>-0.040675</td>\n",
              "      <td>0.265458</td>\n",
              "    </tr>\n",
              "    <tr>\n",
              "      <th>96</th>\n",
              "      <td>0.022733</td>\n",
              "      <td>-0.002305</td>\n",
              "      <td>0.265458</td>\n",
              "    </tr>\n",
              "    <tr>\n",
              "      <th>97</th>\n",
              "      <td>-0.072459</td>\n",
              "      <td>0.032809</td>\n",
              "      <td>0.265458</td>\n",
              "    </tr>\n",
              "    <tr>\n",
              "      <th>98</th>\n",
              "      <td>-0.474581</td>\n",
              "      <td>0.689516</td>\n",
              "      <td>0.265458</td>\n",
              "    </tr>\n",
              "    <tr>\n",
              "      <th>99</th>\n",
              "      <td>-0.392109</td>\n",
              "      <td>0.502607</td>\n",
              "      <td>0.265458</td>\n",
              "    </tr>\n",
              "  </tbody>\n",
              "</table>\n",
              "<p>100 rows × 3 columns</p>\n",
              "</div>"
            ],
            "text/plain": [
              "           X         y     pred1\n",
              "0  -0.125460  0.051573  0.265458\n",
              "1   0.450714  0.594480  0.265458\n",
              "2   0.231994  0.166052  0.265458\n",
              "3   0.098658 -0.070178  0.265458\n",
              "4  -0.343981  0.343986  0.265458\n",
              "..       ...       ...       ...\n",
              "95 -0.006204 -0.040675  0.265458\n",
              "96  0.022733 -0.002305  0.265458\n",
              "97 -0.072459  0.032809  0.265458\n",
              "98 -0.474581  0.689516  0.265458\n",
              "99 -0.392109  0.502607  0.265458\n",
              "\n",
              "[100 rows x 3 columns]"
            ]
          },
          "metadata": {},
          "execution_count": 42
        }
      ]
    },
    {
      "cell_type": "code",
      "metadata": {
        "id": "dUIy2RxobwVr"
      },
      "source": [
        "df['res1'] = df['y'] - df['pred1']"
      ],
      "execution_count": 43,
      "outputs": []
    },
    {
      "cell_type": "code",
      "metadata": {
        "colab": {
          "base_uri": "https://localhost:8080/",
          "height": 420
        },
        "id": "38KvYW9Sb5B-",
        "outputId": "a3040a9b-80a8-4587-a0d0-8515b8a9fc8f"
      },
      "source": [
        "df"
      ],
      "execution_count": 44,
      "outputs": [
        {
          "output_type": "execute_result",
          "data": {
            "text/html": [
              "<div>\n",
              "<style scoped>\n",
              "    .dataframe tbody tr th:only-of-type {\n",
              "        vertical-align: middle;\n",
              "    }\n",
              "\n",
              "    .dataframe tbody tr th {\n",
              "        vertical-align: top;\n",
              "    }\n",
              "\n",
              "    .dataframe thead th {\n",
              "        text-align: right;\n",
              "    }\n",
              "</style>\n",
              "<table border=\"1\" class=\"dataframe\">\n",
              "  <thead>\n",
              "    <tr style=\"text-align: right;\">\n",
              "      <th></th>\n",
              "      <th>X</th>\n",
              "      <th>y</th>\n",
              "      <th>pred1</th>\n",
              "      <th>res1</th>\n",
              "    </tr>\n",
              "  </thead>\n",
              "  <tbody>\n",
              "    <tr>\n",
              "      <th>0</th>\n",
              "      <td>-0.125460</td>\n",
              "      <td>0.051573</td>\n",
              "      <td>0.265458</td>\n",
              "      <td>-0.213885</td>\n",
              "    </tr>\n",
              "    <tr>\n",
              "      <th>1</th>\n",
              "      <td>0.450714</td>\n",
              "      <td>0.594480</td>\n",
              "      <td>0.265458</td>\n",
              "      <td>0.329021</td>\n",
              "    </tr>\n",
              "    <tr>\n",
              "      <th>2</th>\n",
              "      <td>0.231994</td>\n",
              "      <td>0.166052</td>\n",
              "      <td>0.265458</td>\n",
              "      <td>-0.099407</td>\n",
              "    </tr>\n",
              "    <tr>\n",
              "      <th>3</th>\n",
              "      <td>0.098658</td>\n",
              "      <td>-0.070178</td>\n",
              "      <td>0.265458</td>\n",
              "      <td>-0.335636</td>\n",
              "    </tr>\n",
              "    <tr>\n",
              "      <th>4</th>\n",
              "      <td>-0.343981</td>\n",
              "      <td>0.343986</td>\n",
              "      <td>0.265458</td>\n",
              "      <td>0.078528</td>\n",
              "    </tr>\n",
              "    <tr>\n",
              "      <th>...</th>\n",
              "      <td>...</td>\n",
              "      <td>...</td>\n",
              "      <td>...</td>\n",
              "      <td>...</td>\n",
              "    </tr>\n",
              "    <tr>\n",
              "      <th>95</th>\n",
              "      <td>-0.006204</td>\n",
              "      <td>-0.040675</td>\n",
              "      <td>0.265458</td>\n",
              "      <td>-0.306133</td>\n",
              "    </tr>\n",
              "    <tr>\n",
              "      <th>96</th>\n",
              "      <td>0.022733</td>\n",
              "      <td>-0.002305</td>\n",
              "      <td>0.265458</td>\n",
              "      <td>-0.267763</td>\n",
              "    </tr>\n",
              "    <tr>\n",
              "      <th>97</th>\n",
              "      <td>-0.072459</td>\n",
              "      <td>0.032809</td>\n",
              "      <td>0.265458</td>\n",
              "      <td>-0.232650</td>\n",
              "    </tr>\n",
              "    <tr>\n",
              "      <th>98</th>\n",
              "      <td>-0.474581</td>\n",
              "      <td>0.689516</td>\n",
              "      <td>0.265458</td>\n",
              "      <td>0.424057</td>\n",
              "    </tr>\n",
              "    <tr>\n",
              "      <th>99</th>\n",
              "      <td>-0.392109</td>\n",
              "      <td>0.502607</td>\n",
              "      <td>0.265458</td>\n",
              "      <td>0.237148</td>\n",
              "    </tr>\n",
              "  </tbody>\n",
              "</table>\n",
              "<p>100 rows × 4 columns</p>\n",
              "</div>"
            ],
            "text/plain": [
              "           X         y     pred1      res1\n",
              "0  -0.125460  0.051573  0.265458 -0.213885\n",
              "1   0.450714  0.594480  0.265458  0.329021\n",
              "2   0.231994  0.166052  0.265458 -0.099407\n",
              "3   0.098658 -0.070178  0.265458 -0.335636\n",
              "4  -0.343981  0.343986  0.265458  0.078528\n",
              "..       ...       ...       ...       ...\n",
              "95 -0.006204 -0.040675  0.265458 -0.306133\n",
              "96  0.022733 -0.002305  0.265458 -0.267763\n",
              "97 -0.072459  0.032809  0.265458 -0.232650\n",
              "98 -0.474581  0.689516  0.265458  0.424057\n",
              "99 -0.392109  0.502607  0.265458  0.237148\n",
              "\n",
              "[100 rows x 4 columns]"
            ]
          },
          "metadata": {},
          "execution_count": 44
        }
      ]
    },
    {
      "cell_type": "code",
      "metadata": {
        "colab": {
          "base_uri": "https://localhost:8080/",
          "height": 286
        },
        "id": "38eiADY1BaJO",
        "outputId": "75610e5a-4f41-4aee-eca4-4ab2daa727b4"
      },
      "source": [
        "plt.scatter(df['X'],df['y'])\n",
        "plt.plot(df['X'],df['pred1'],color='red')"
      ],
      "execution_count": 45,
      "outputs": [
        {
          "output_type": "execute_result",
          "data": {
            "text/plain": [
              "[<matplotlib.lines.Line2D at 0x7f40df5f2d90>]"
            ]
          },
          "metadata": {},
          "execution_count": 45
        },
        {
          "output_type": "display_data",
          "data": {
            "image/png": "[encoded data removed]",
            "text/plain": [
              "<Figure size 432x288 with 1 Axes>"
            ]
          },
          "metadata": {
            "needs_background": "light"
          }
        }
      ]
    },
    {
      "cell_type": "code",
      "metadata": {
        "id": "w-ocxPrbb5_N"
      },
      "source": [
        "from sklearn.tree import DecisionTreeRegressor"
      ],
      "execution_count": 46,
      "outputs": []
    },
    {
      "cell_type": "code",
      "metadata": {
        "id": "AHu918SIcS9v"
      },
      "source": [
        "tree1 = DecisionTreeRegressor(max_leaf_nodes=8)"
      ],
      "execution_count": 17,
      "outputs": []
    },
    {
      "cell_type": "code",
      "metadata": {
        "colab": {
          "base_uri": "https://localhost:8080/"
        },
        "id": "RsGgZjNAcXz3",
        "outputId": "74ae2153-25a7-44f1-b249-58cb45ea9a24"
      },
      "source": [
        "tree1.fit(df['X'].values.reshape(100,1),df['res1'].values)"
      ],
      "execution_count": 47,
      "outputs": [
        {
          "output_type": "execute_result",
          "data": {
            "text/plain": [
              "DecisionTreeRegressor(ccp_alpha=0.0, criterion='mse', max_depth=None,\n",
              "                      max_features=None, max_leaf_nodes=8,\n",
              "                      min_impurity_decrease=0.0, min_impurity_split=None,\n",
              "                      min_samples_leaf=1, min_samples_split=2,\n",
              "                      min_weight_fraction_leaf=0.0, presort='deprecated',\n",
              "                      random_state=None, splitter='best')"
            ]
          },
          "metadata": {},
          "execution_count": 47
        }
      ]
    },
    {
      "cell_type": "code",
      "metadata": {
        "colab": {
          "base_uri": "https://localhost:8080/",
          "height": 248
        },
        "id": "qah9L_-aJ4_f",
        "outputId": "47802410-9870-4c74-e695-8f38cdef03ce"
      },
      "source": [
        "from sklearn.tree import plot_tree\n",
        "plot_tree(tree1)\n",
        "plt.show()"
      ],
      "execution_count": 48,
      "outputs": [
        {
          "output_type": "display_data",
          "data": {
            "image/png": "[encoded data removed]",
            "text/plain": [
              "<Figure size 432x288 with 1 Axes>"
            ]
          },
          "metadata": {
            "needs_background": "light"
          }
        }
      ]
    },
    {
      "cell_type": "code",
      "metadata": {
        "id": "IdFPanXnciQ3"
      },
      "source": [
        "# generating X_test\n",
        "X_test = np.linspace(-0.5, 0.5, 500)"
      ],
      "execution_count": 49,
      "outputs": []
    },
    {
      "cell_type": "code",
      "metadata": {
        "id": "Tzu0mK9Xe8dn"
      },
      "source": [
        "y_pred = 0.265458 + tree1.predict(X_test.reshape(500, 1))"
      ],
      "execution_count": 50,
      "outputs": []
    },
    {
      "cell_type": "code",
      "metadata": {
        "colab": {
          "base_uri": "https://localhost:8080/",
          "height": 286
        },
        "id": "88mvQQ_UfVBO",
        "outputId": "77c6554f-cbd0-46fe-d6e8-1c18c24c5178"
      },
      "source": [
        "plt.figure(figsize=(14,4))\n",
        "plt.subplot(121)\n",
        "plt.plot(X_test, y_pred, linewidth=2,color='red')\n",
        "plt.scatter(df['X'],df['y'])"
      ],
      "execution_count": 51,
      "outputs": [
        {
          "output_type": "execute_result",
          "data": {
            "text/plain": [
              "<matplotlib.collections.PathCollection at 0x7f40df5ee810>"
            ]
          },
          "metadata": {},
          "execution_count": 51
        },
        {
          "output_type": "display_data",
          "data": {
            "image/png": "[encoded data removed]",
            "text/plain": [
              "<Figure size 1008x288 with 1 Axes>"
            ]
          },
          "metadata": {
            "needs_background": "light"
          }
        }
      ]
    },
    {
      "cell_type": "code",
      "metadata": {
        "id": "NXhf93RSfnfO"
      },
      "source": [
        "df['pred2'] = 0.265458 + tree1.predict(df['X'].values.reshape(100,1))"
      ],
      "execution_count": 52,
      "outputs": []
    },
    {
      "cell_type": "code",
      "metadata": {
        "colab": {
          "base_uri": "https://localhost:8080/",
          "height": 420
        },
        "id": "YKf7AMhwidKy",
        "outputId": "b3e58d2e-6c75-4416-abd3-ffa0c1abcc19"
      },
      "source": [
        "df"
      ],
      "execution_count": 53,
      "outputs": [
        {
          "output_type": "execute_result",
          "data": {
            "text/html": [
              "<div>\n",
              "<style scoped>\n",
              "    .dataframe tbody tr th:only-of-type {\n",
              "        vertical-align: middle;\n",
              "    }\n",
              "\n",
              "    .dataframe tbody tr th {\n",
              "        vertical-align: top;\n",
              "    }\n",
              "\n",
              "    .dataframe thead th {\n",
              "        text-align: right;\n",
              "    }\n",
              "</style>\n",
              "<table border=\"1\" class=\"dataframe\">\n",
              "  <thead>\n",
              "    <tr style=\"text-align: right;\">\n",
              "      <th></th>\n",
              "      <th>X</th>\n",
              "      <th>y</th>\n",
              "      <th>pred1</th>\n",
              "      <th>res1</th>\n",
              "      <th>pred2</th>\n",
              "    </tr>\n",
              "  </thead>\n",
              "  <tbody>\n",
              "    <tr>\n",
              "      <th>0</th>\n",
              "      <td>-0.125460</td>\n",
              "      <td>0.051573</td>\n",
              "      <td>0.265458</td>\n",
              "      <td>-0.213885</td>\n",
              "      <td>0.018319</td>\n",
              "    </tr>\n",
              "    <tr>\n",
              "      <th>1</th>\n",
              "      <td>0.450714</td>\n",
              "      <td>0.594480</td>\n",
              "      <td>0.265458</td>\n",
              "      <td>0.329021</td>\n",
              "      <td>0.605884</td>\n",
              "    </tr>\n",
              "    <tr>\n",
              "      <th>2</th>\n",
              "      <td>0.231994</td>\n",
              "      <td>0.166052</td>\n",
              "      <td>0.265458</td>\n",
              "      <td>-0.099407</td>\n",
              "      <td>0.215784</td>\n",
              "    </tr>\n",
              "    <tr>\n",
              "      <th>3</th>\n",
              "      <td>0.098658</td>\n",
              "      <td>-0.070178</td>\n",
              "      <td>0.265458</td>\n",
              "      <td>-0.335636</td>\n",
              "      <td>0.018319</td>\n",
              "    </tr>\n",
              "    <tr>\n",
              "      <th>4</th>\n",
              "      <td>-0.343981</td>\n",
              "      <td>0.343986</td>\n",
              "      <td>0.265458</td>\n",
              "      <td>0.078528</td>\n",
              "      <td>0.305964</td>\n",
              "    </tr>\n",
              "    <tr>\n",
              "      <th>...</th>\n",
              "      <td>...</td>\n",
              "      <td>...</td>\n",
              "      <td>...</td>\n",
              "      <td>...</td>\n",
              "      <td>...</td>\n",
              "    </tr>\n",
              "    <tr>\n",
              "      <th>95</th>\n",
              "      <td>-0.006204</td>\n",
              "      <td>-0.040675</td>\n",
              "      <td>0.265458</td>\n",
              "      <td>-0.306133</td>\n",
              "      <td>0.018319</td>\n",
              "    </tr>\n",
              "    <tr>\n",
              "      <th>96</th>\n",
              "      <td>0.022733</td>\n",
              "      <td>-0.002305</td>\n",
              "      <td>0.265458</td>\n",
              "      <td>-0.267763</td>\n",
              "      <td>0.018319</td>\n",
              "    </tr>\n",
              "    <tr>\n",
              "      <th>97</th>\n",
              "      <td>-0.072459</td>\n",
              "      <td>0.032809</td>\n",
              "      <td>0.265458</td>\n",
              "      <td>-0.232650</td>\n",
              "      <td>0.018319</td>\n",
              "    </tr>\n",
              "    <tr>\n",
              "      <th>98</th>\n",
              "      <td>-0.474581</td>\n",
              "      <td>0.689516</td>\n",
              "      <td>0.265458</td>\n",
              "      <td>0.424057</td>\n",
              "      <td>0.660912</td>\n",
              "    </tr>\n",
              "    <tr>\n",
              "      <th>99</th>\n",
              "      <td>-0.392109</td>\n",
              "      <td>0.502607</td>\n",
              "      <td>0.265458</td>\n",
              "      <td>0.237148</td>\n",
              "      <td>0.487796</td>\n",
              "    </tr>\n",
              "  </tbody>\n",
              "</table>\n",
              "<p>100 rows × 5 columns</p>\n",
              "</div>"
            ],
            "text/plain": [
              "           X         y     pred1      res1     pred2\n",
              "0  -0.125460  0.051573  0.265458 -0.213885  0.018319\n",
              "1   0.450714  0.594480  0.265458  0.329021  0.605884\n",
              "2   0.231994  0.166052  0.265458 -0.099407  0.215784\n",
              "3   0.098658 -0.070178  0.265458 -0.335636  0.018319\n",
              "4  -0.343981  0.343986  0.265458  0.078528  0.305964\n",
              "..       ...       ...       ...       ...       ...\n",
              "95 -0.006204 -0.040675  0.265458 -0.306133  0.018319\n",
              "96  0.022733 -0.002305  0.265458 -0.267763  0.018319\n",
              "97 -0.072459  0.032809  0.265458 -0.232650  0.018319\n",
              "98 -0.474581  0.689516  0.265458  0.424057  0.660912\n",
              "99 -0.392109  0.502607  0.265458  0.237148  0.487796\n",
              "\n",
              "[100 rows x 5 columns]"
            ]
          },
          "metadata": {},
          "execution_count": 53
        }
      ]
    },
    {
      "cell_type": "code",
      "metadata": {
        "id": "HPRqolQ8ih7t"
      },
      "source": [
        "df['res2'] = df['y'] - df['pred2']"
      ],
      "execution_count": 54,
      "outputs": []
    },
    {
      "cell_type": "code",
      "metadata": {
        "colab": {
          "base_uri": "https://localhost:8080/",
          "height": 420
        },
        "id": "oFaReIF6i5XV",
        "outputId": "28b9e320-cbb1-44c6-e516-2c1a1389b7ee"
      },
      "source": [
        "df"
      ],
      "execution_count": 55,
      "outputs": [
        {
          "output_type": "execute_result",
          "data": {
            "text/html": [
              "<div>\n",
              "<style scoped>\n",
              "    .dataframe tbody tr th:only-of-type {\n",
              "        vertical-align: middle;\n",
              "    }\n",
              "\n",
              "    .dataframe tbody tr th {\n",
              "        vertical-align: top;\n",
              "    }\n",
              "\n",
              "    .dataframe thead th {\n",
              "        text-align: right;\n",
              "    }\n",
              "</style>\n",
              "<table border=\"1\" class=\"dataframe\">\n",
              "  <thead>\n",
              "    <tr style=\"text-align: right;\">\n",
              "      <th></th>\n",
              "      <th>X</th>\n",
              "      <th>y</th>\n",
              "      <th>pred1</th>\n",
              "      <th>res1</th>\n",
              "      <th>pred2</th>\n",
              "      <th>res2</th>\n",
              "    </tr>\n",
              "  </thead>\n",
              "  <tbody>\n",
              "    <tr>\n",
              "      <th>0</th>\n",
              "      <td>-0.125460</td>\n",
              "      <td>0.051573</td>\n",
              "      <td>0.265458</td>\n",
              "      <td>-0.213885</td>\n",
              "      <td>0.018319</td>\n",
              "      <td>0.033254</td>\n",
              "    </tr>\n",
              "    <tr>\n",
              "      <th>1</th>\n",
              "      <td>0.450714</td>\n",
              "      <td>0.594480</td>\n",
              "      <td>0.265458</td>\n",
              "      <td>0.329021</td>\n",
              "      <td>0.605884</td>\n",
              "      <td>-0.011404</td>\n",
              "    </tr>\n",
              "    <tr>\n",
              "      <th>2</th>\n",
              "      <td>0.231994</td>\n",
              "      <td>0.166052</td>\n",
              "      <td>0.265458</td>\n",
              "      <td>-0.099407</td>\n",
              "      <td>0.215784</td>\n",
              "      <td>-0.049732</td>\n",
              "    </tr>\n",
              "    <tr>\n",
              "      <th>3</th>\n",
              "      <td>0.098658</td>\n",
              "      <td>-0.070178</td>\n",
              "      <td>0.265458</td>\n",
              "      <td>-0.335636</td>\n",
              "      <td>0.018319</td>\n",
              "      <td>-0.088497</td>\n",
              "    </tr>\n",
              "    <tr>\n",
              "      <th>4</th>\n",
              "      <td>-0.343981</td>\n",
              "      <td>0.343986</td>\n",
              "      <td>0.265458</td>\n",
              "      <td>0.078528</td>\n",
              "      <td>0.305964</td>\n",
              "      <td>0.038022</td>\n",
              "    </tr>\n",
              "    <tr>\n",
              "      <th>...</th>\n",
              "      <td>...</td>\n",
              "      <td>...</td>\n",
              "      <td>...</td>\n",
              "      <td>...</td>\n",
              "      <td>...</td>\n",
              "      <td>...</td>\n",
              "    </tr>\n",
              "    <tr>\n",
              "      <th>95</th>\n",
              "      <td>-0.006204</td>\n",
              "      <td>-0.040675</td>\n",
              "      <td>0.265458</td>\n",
              "      <td>-0.306133</td>\n",
              "      <td>0.018319</td>\n",
              "      <td>-0.058994</td>\n",
              "    </tr>\n",
              "    <tr>\n",
              "      <th>96</th>\n",
              "      <td>0.022733</td>\n",
              "      <td>-0.002305</td>\n",
              "      <td>0.265458</td>\n",
              "      <td>-0.267763</td>\n",
              "      <td>0.018319</td>\n",
              "      <td>-0.020624</td>\n",
              "    </tr>\n",
              "    <tr>\n",
              "      <th>97</th>\n",
              "      <td>-0.072459</td>\n",
              "      <td>0.032809</td>\n",
              "      <td>0.265458</td>\n",
              "      <td>-0.232650</td>\n",
              "      <td>0.018319</td>\n",
              "      <td>0.014489</td>\n",
              "    </tr>\n",
              "    <tr>\n",
              "      <th>98</th>\n",
              "      <td>-0.474581</td>\n",
              "      <td>0.689516</td>\n",
              "      <td>0.265458</td>\n",
              "      <td>0.424057</td>\n",
              "      <td>0.660912</td>\n",
              "      <td>0.028604</td>\n",
              "    </tr>\n",
              "    <tr>\n",
              "      <th>99</th>\n",
              "      <td>-0.392109</td>\n",
              "      <td>0.502607</td>\n",
              "      <td>0.265458</td>\n",
              "      <td>0.237148</td>\n",
              "      <td>0.487796</td>\n",
              "      <td>0.014810</td>\n",
              "    </tr>\n",
              "  </tbody>\n",
              "</table>\n",
              "<p>100 rows × 6 columns</p>\n",
              "</div>"
            ],
            "text/plain": [
              "           X         y     pred1      res1     pred2      res2\n",
              "0  -0.125460  0.051573  0.265458 -0.213885  0.018319  0.033254\n",
              "1   0.450714  0.594480  0.265458  0.329021  0.605884 -0.011404\n",
              "2   0.231994  0.166052  0.265458 -0.099407  0.215784 -0.049732\n",
              "3   0.098658 -0.070178  0.265458 -0.335636  0.018319 -0.088497\n",
              "4  -0.343981  0.343986  0.265458  0.078528  0.305964  0.038022\n",
              "..       ...       ...       ...       ...       ...       ...\n",
              "95 -0.006204 -0.040675  0.265458 -0.306133  0.018319 -0.058994\n",
              "96  0.022733 -0.002305  0.265458 -0.267763  0.018319 -0.020624\n",
              "97 -0.072459  0.032809  0.265458 -0.232650  0.018319  0.014489\n",
              "98 -0.474581  0.689516  0.265458  0.424057  0.660912  0.028604\n",
              "99 -0.392109  0.502607  0.265458  0.237148  0.487796  0.014810\n",
              "\n",
              "[100 rows x 6 columns]"
            ]
          },
          "metadata": {},
          "execution_count": 55
        }
      ]
    },
    {
      "cell_type": "code",
      "metadata": {
        "id": "6VfcebMZi6I1"
      },
      "source": [
        "tree2 = DecisionTreeRegressor(max_leaf_nodes=8)"
      ],
      "execution_count": 56,
      "outputs": []
    },
    {
      "cell_type": "code",
      "metadata": {
        "colab": {
          "base_uri": "https://localhost:8080/"
        },
        "id": "4OLND2zyjD51",
        "outputId": "731793fc-ece4-4905-831b-e5fe992d73c8"
      },
      "source": [
        "tree2.fit(df['X'].values.reshape(100,1),df['res2'].values)"
      ],
      "execution_count": 57,
      "outputs": [
        {
          "output_type": "execute_result",
          "data": {
            "text/plain": [
              "DecisionTreeRegressor(ccp_alpha=0.0, criterion='mse', max_depth=None,\n",
              "                      max_features=None, max_leaf_nodes=8,\n",
              "                      min_impurity_decrease=0.0, min_impurity_split=None,\n",
              "                      min_samples_leaf=1, min_samples_split=2,\n",
              "                      min_weight_fraction_leaf=0.0, presort='deprecated',\n",
              "                      random_state=None, splitter='best')"
            ]
          },
          "metadata": {},
          "execution_count": 57
        }
      ]
    },
    {
      "cell_type": "code",
      "metadata": {
        "id": "S_enS_gpjOlJ"
      },
      "source": [
        "y_pred = 0.265458 + sum(regressor.predict(X_test.reshape(-1, 1)) for regressor in [tree1,tree2])"
      ],
      "execution_count": 58,
      "outputs": []
    },
    {
      "cell_type": "code",
      "metadata": {
        "colab": {
          "base_uri": "https://localhost:8080/",
          "height": 298
        },
        "id": "tNz6xOm0jYa1",
        "outputId": "28dd7644-6415-4d66-aa3e-44ef0f6ba8cb"
      },
      "source": [
        "plt.figure(figsize=(14,4))\n",
        "plt.subplot(121)\n",
        "plt.plot(X_test, y_pred, linewidth=2,color='red')\n",
        "plt.scatter(df['X'],df['y'])\n",
        "plt.title('X vs y')"
      ],
      "execution_count": 59,
      "outputs": [
        {
          "output_type": "execute_result",
          "data": {
            "text/plain": [
              "Text(0.5, 1.0, 'X vs y')"
            ]
          },
          "metadata": {},
          "execution_count": 59
        },
        {
          "output_type": "display_data",
          "data": {
            "image/png": "[encoded data removed]",
            "text/plain": [
              "<Figure size 1008x288 with 1 Axes>"
            ]
          },
          "metadata": {
            "needs_background": "light"
          }
        }
      ]
    },
    {
      "cell_type": "code",
      "metadata": {
        "id": "e744L8_QjbMZ"
      },
      "source": [
        "def gradient_boost(X,y,number,lr,count=1,regs=[],foo=None):\n",
        "\n",
        "  if number == 0:\n",
        "    return \n",
        "  else:\n",
        "    # do gradient boosting\n",
        "\n",
        "    if count > 1:\n",
        "      y = y - regs[-1].predict(X)\n",
        "    else:\n",
        "      foo = y\n",
        "\n",
        "    tree_reg = DecisionTreeRegressor(max_depth=5, random_state=42)\n",
        "    tree_reg.fit(X, y)\n",
        "\n",
        "    regs.append(tree_reg)\n",
        "\n",
        "    x1 = np.linspace(-0.5, 0.5, 500)\n",
        "    y_pred = sum(lr * regressor.predict(x1.reshape(-1, 1)) for regressor in regs)\n",
        "\n",
        "    print(number)\n",
        "    plt.figure()\n",
        "    plt.plot(x1, y_pred, linewidth=2)\n",
        "    plt.plot(X[:, 0], foo,\"r.\")\n",
        "    plt.show()\n",
        "\n",
        "    gradient_boost(X,y,number-1,lr,count+1,regs,foo=foo)\n"
      ],
      "execution_count": 60,
      "outputs": []
    },
    {
      "cell_type": "code",
      "metadata": {
        "colab": {
          "base_uri": "https://localhost:8080/",
          "height": 1000
        },
        "id": "TCWIe2xYCq5a",
        "outputId": "d0bfa589-d143-4ce5-d4a3-0808167dd31f"
      },
      "source": [
        "np.random.seed(42)\n",
        "X = np.random.rand(100, 1) - 0.5\n",
        "y = 3*X[:, 0]**2 + 0.05 * np.random.randn(100)\n",
        "gradient_boost(X,y,5,lr=1)"
      ],
      "execution_count": 66,
      "outputs": [
        {
          "output_type": "stream",
          "name": "stdout",
          "text": [
            "5\n"
          ]
        },
        {
          "output_type": "display_data",
          "data": {
            "image/png": "[encoded data removed]",
            "text/plain": [
              "<Figure size 432x288 with 1 Axes>"
            ]
          },
          "metadata": {
            "needs_background": "light"
          }
        },
        {
          "output_type": "stream",
          "name": "stdout",
          "text": [
            "4\n"
          ]
        },
        {
          "output_type": "display_data",
          "data": {
            "image/png": "[encoded data removed]",
            "text/plain": [
              "<Figure size 432x288 with 1 Axes>"
            ]
          },
          "metadata": {
            "needs_background": "light"
          }
        },
        {
          "output_type": "stream",
          "name": "stdout",
          "text": [
            "3\n"
          ]
        },
        {
          "output_type": "display_data",
          "data": {
            "image/png": "[encoded data removed]",
            "text/plain": [
              "<Figure size 432x288 with 1 Axes>"
            ]
          },
          "metadata": {
            "needs_background": "light"
          }
        },
        {
          "output_type": "stream",
          "name": "stdout",
          "text": [
            "2\n"
          ]
        },
        {
          "output_type": "display_data",
          "data": {
            "image/png": "[encoded data removed]",
            "text/plain": [
              "<Figure size 432x288 with 1 Axes>"
            ]
          },
          "metadata": {
            "needs_background": "light"
          }
        },
        {
          "output_type": "stream",
          "name": "stdout",
          "text": [
            "1\n"
          ]
        },
        {
          "output_type": "display_data",
          "data": {
            "image/png": "[encoded data removed]",
            "text/plain": [
              "<Figure size 432x288 with 1 Axes>"
            ]
          },
          "metadata": {
            "needs_background": "light"
          }
        }
      ]
    },
    {
      "cell_type": "code",
      "metadata": {
        "id": "wx8rt90LCtTV"
      },
      "source": [
        ""
      ],
      "execution_count": null,
      "outputs": []
    }
  ]
}